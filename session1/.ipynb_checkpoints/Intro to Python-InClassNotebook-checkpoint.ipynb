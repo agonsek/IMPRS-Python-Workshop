{
 "cells": [
  {
   "cell_type": "markdown",
   "id": "a63a11e7-7d84-4f1e-8d37-ac8c0853bec1",
   "metadata": {},
   "source": [
    "**Intro to Python**"
   ]
  },
  {
   "cell_type": "markdown",
   "id": "a900ab5d-2d08-41b3-8373-04cb7c768900",
   "metadata": {},
   "source": [
    "Selected content and images adapted from:\n",
    "- University of Michigan, Applied Data Science with Python Specialization, Coursera certificate courses (https://www.coursera.org/specializations/data-science-python)\n",
    "- IBM, Data Science Professional Certificate, Coursera certificate courses (https://www.coursera.org/professional-certificates/ibm-data-science)"
   ]
  },
  {
   "cell_type": "markdown",
   "id": "fd9ba22b-e93a-41d6-92e8-5be7c95f683c",
   "metadata": {},
   "source": [
    "#  Jupyter notebook interface"
   ]
  },
  {
   "cell_type": "markdown",
   "id": "723f2996-ca90-4f97-b74d-5727c3a7cf70",
   "metadata": {},
   "source": [
    "Types of notebook cells:\n",
    "- Code (default)\n",
    "- Markdown"
   ]
  },
  {
   "cell_type": "code",
   "execution_count": null,
   "id": "077e670d-951c-47fe-b9ec-f155d8d0da42",
   "metadata": {},
   "outputs": [],
   "source": [
    "# Code cell\n",
    "1+1"
   ]
  },
  {
   "cell_type": "markdown",
   "id": "f285f07b-200a-4172-ac86-4e40f2d519f5",
   "metadata": {},
   "source": [
    "Markdown cell.  Use menu above or press 'm' when outside of the cell to switch types"
   ]
  },
  {
   "cell_type": "code",
   "execution_count": null,
   "id": "0b784013-efb0-4af9-a110-1c71cb97b2d4",
   "metadata": {},
   "outputs": [],
   "source": [
    "# press 'y' when outside of a cell to switch back to code\n",
    "2+2"
   ]
  },
  {
   "cell_type": "markdown",
   "id": "534acb01-9a29-4eae-ae2b-52a06beccb15",
   "metadata": {},
   "source": [
    "## Importing packages"
   ]
  },
  {
   "cell_type": "code",
   "execution_count": null,
   "id": "501ff279-ae71-4b72-b1ee-314c1af158b2",
   "metadata": {},
   "outputs": [],
   "source": [
    "import numpy as np"
   ]
  },
  {
   "cell_type": "markdown",
   "id": "1914b4ff-b44e-419a-9924-0d3559f46a2b",
   "metadata": {},
   "source": [
    "# Basic syntax"
   ]
  },
  {
   "cell_type": "markdown",
   "id": "e1107e76-1b88-45c5-8945-ddbb7c3560af",
   "metadata": {},
   "source": [
    "## Variable assignment and types"
   ]
  },
  {
   "cell_type": "markdown",
   "id": "99961379-d7d8-457e-b6b9-4a4021574837",
   "metadata": {},
   "source": [
    "Assign using a single equals sign"
   ]
  },
  {
   "cell_type": "code",
   "execution_count": null,
   "id": "91717a89-4bb8-44e5-8ccc-566c595d1798",
   "metadata": {},
   "outputs": [],
   "source": [
    "x = 1\n",
    "y = 2\n",
    "x + y"
   ]
  },
  {
   "cell_type": "code",
   "execution_count": null,
   "id": "451512db-5c85-4bee-9c2e-98ea67042913",
   "metadata": {},
   "outputs": [],
   "source": [
    "y"
   ]
  },
  {
   "cell_type": "code",
   "execution_count": null,
   "id": "8c87ff64-fe6a-45b0-8d1c-a0cea240146b",
   "metadata": {},
   "outputs": [],
   "source": [
    "# Note that the last line of a notebook cell is shown as output.  or, can use print\n",
    "print(y)\n",
    "x\n",
    "x\n",
    "x\n",
    "y"
   ]
  },
  {
   "cell_type": "markdown",
   "id": "7258dcaa-b900-488c-9489-9c4480d5d3b1",
   "metadata": {},
   "source": [
    "Types"
   ]
  },
  {
   "cell_type": "code",
   "execution_count": null,
   "id": "90b40d74-7913-4d4f-98bb-79899e254e14",
   "metadata": {},
   "outputs": [],
   "source": [
    "type('IMPRS'), type(1), type(1.0), type(True)"
   ]
  },
  {
   "cell_type": "code",
   "execution_count": null,
   "id": "1973b817-1e46-415a-a785-1c65dc53de5e",
   "metadata": {},
   "outputs": [],
   "source": [
    "# Adding a float to an int will result in a float\n",
    "z = x + 2.0\n",
    "z"
   ]
  },
  {
   "cell_type": "markdown",
   "id": "fb2cf25d-7eaa-4ed2-838b-509f838d7581",
   "metadata": {},
   "source": [
    "String and int conversion"
   ]
  },
  {
   "cell_type": "code",
   "execution_count": null,
   "id": "e20f6bd7-0023-402c-addb-fe1097b9d40f",
   "metadata": {},
   "outputs": [],
   "source": [
    "str(1), str(1.0)"
   ]
  },
  {
   "cell_type": "code",
   "execution_count": null,
   "id": "cc2efcf0-3655-4030-8bc0-1ac7703369a6",
   "metadata": {},
   "outputs": [],
   "source": [
    "int('1'), float('1')"
   ]
  },
  {
   "cell_type": "code",
   "execution_count": null,
   "id": "8a99348d-3a5e-48eb-95e7-66166bdefb75",
   "metadata": {},
   "outputs": [],
   "source": [
    "# int or float conversion does not work for arbitrary input\n",
    "float('one')"
   ]
  },
  {
   "cell_type": "code",
   "execution_count": null,
   "id": "c4cf1a44-dfb2-447c-ad03-3abf1546e2b8",
   "metadata": {},
   "outputs": [],
   "source": [
    "# 0 and 1 represent False and True, and these can be converted back and forth\n",
    "bool(0), bool(1), int(False), int(True)"
   ]
  },
  {
   "cell_type": "markdown",
   "id": "972dacc0-5a84-4d6f-844c-91ca370f30d1",
   "metadata": {},
   "source": [
    "## Comparison operators"
   ]
  },
  {
   "cell_type": "markdown",
   "id": "b7f01df9-a185-4fd0-8616-cf9f059ddfa9",
   "metadata": {},
   "source": [
    "- equal: ==\n",
    "- not equal: !=\n",
    "- greater than: >\n",
    "- less than: <\n",
    "- greater than or equal to: >=\n",
    "- less than or equal to: <=\n",
    " \n",
    "These all return a Boolean.  Multiple comparisons can be combined with AND or OR:\n",
    "- AND:  &\n",
    "- OR:  |"
   ]
  },
  {
   "cell_type": "code",
   "execution_count": null,
   "id": "6a15232e-cf61-4ad4-b84c-2285a01b8f40",
   "metadata": {},
   "outputs": [],
   "source": [
    "# Examples:  these work as expected\n",
    "1<2, 1>2, 10!=5, 3==4"
   ]
  },
  {
   "cell_type": "code",
   "execution_count": null,
   "id": "8b06286a-6349-4139-b41b-0857694cd942",
   "metadata": {},
   "outputs": [],
   "source": [
    "# Note that float and integer values can be compared with equality\n",
    "1 == 1.0"
   ]
  },
  {
   "cell_type": "code",
   "execution_count": null,
   "id": "e9cba4f5-47b4-413e-b025-fcaf743eab85",
   "metadata": {},
   "outputs": [],
   "source": [
    "# for string comparison, can use \"in\" to see if a substring is contained\n",
    "'IM' in 'IMPRS Retreat', 'MPI' in 'IMPRS Retreat'"
   ]
  },
  {
   "cell_type": "code",
   "execution_count": null,
   "id": "b0417008-20a0-4129-8346-7d740753ed86",
   "metadata": {},
   "outputs": [],
   "source": [
    "# combining multiple:  note that parentheses are not always needed due to operator precedence\n",
    "# But its best practice to use\n",
    "1>2 & 2>1 , (1>2) & (2>1)"
   ]
  },
  {
   "cell_type": "markdown",
   "id": "bc130198-70df-4dd8-b084-9fa9ff4f463b",
   "metadata": {},
   "source": [
    "## Conditional statements:  if, else, elif"
   ]
  },
  {
   "cell_type": "code",
   "execution_count": null,
   "id": "8d196d02-2218-4f43-ab30-96f1bc1d3ea5",
   "metadata": {},
   "outputs": [],
   "source": [
    "# if-else example\n",
    "# drink = 'apfelschorle'\n",
    "drink = 'wasser'\n",
    "# drink = 'apfelsaft'\n",
    "\n",
    "if 'apfel' in drink:\n",
    "    # within the indent, this runs if the condition is true\n",
    "    print('Apples are great')\n",
    "else:\n",
    "    print('~ ~ ~ ~')\n",
    "\n",
    "# statements after the if statement will run regardless if the condition is true or false \n",
    "print('Prost')  "
   ]
  },
  {
   "cell_type": "markdown",
   "id": "1de1ce21-f6c7-46b0-ba0b-8a62ab55e791",
   "metadata": {},
   "source": [
    "*try changing the values or uncommenting to see the differences in the examples above*"
   ]
  },
  {
   "cell_type": "markdown",
   "id": "4d1390a3-e613-42b7-a5a5-4f87e19d9569",
   "metadata": {},
   "source": [
    "### *Q: Comparison.\n",
    "Write a code snippet that compares two variables (num1 and num2) and prints whether num1 is greater than, equal to, or less than num2."
   ]
  },
  {
   "cell_type": "code",
   "execution_count": null,
   "id": "8990f97d-0274-4e44-9e80-e3ee4e479169",
   "metadata": {
    "editable": true,
    "slideshow": {
     "slide_type": ""
    },
    "tags": []
   },
   "outputs": [],
   "source": [
    "## your answer here"
   ]
  },
  {
   "cell_type": "markdown",
   "id": "8a9a8257-2777-40ee-9732-139bf4e980b1",
   "metadata": {
    "editable": true,
    "slideshow": {
     "slide_type": ""
    },
    "tags": []
   },
   "source": [
    "# Python data types and structures"
   ]
  },
  {
   "cell_type": "markdown",
   "id": "34c9d083-9ea9-4b75-b8f7-437ec9dbdf2d",
   "metadata": {},
   "source": [
    "Lists are tuples are similar types with the difference of, lists can be changed (i.e. are mutable), while tuples cannot (are immutable).\n",
    "\n",
    "Dictionaries are also a useful structure that organizes key-value pairs.  Sets"
   ]
  },
  {
   "cell_type": "markdown",
   "id": "c9f28861-d5fe-4340-b8c6-daa52a99cb02",
   "metadata": {},
   "source": [
    "## Lists"
   ]
  },
  {
   "cell_type": "code",
   "execution_count": null,
   "id": "96308577-7867-420b-b618-1248141bab83",
   "metadata": {},
   "outputs": [],
   "source": [
    "my_list = [1,2,3,4]\n",
    "type(my_list)"
   ]
  },
  {
   "cell_type": "markdown",
   "id": "8d8bffc5-e6e0-42ce-a8c8-c563c98d27d8",
   "metadata": {},
   "source": [
    "Common list operations:\n",
    "- my_list.append(item): Add an item to the end of the list.\n",
    "- my_list.insert(index, item): Insert an item at a specified position in the list.\n",
    "- my_list.remove(item): Remove the first occurrence of a specific item.\n",
    "- len(my_list): Get the number of items in the list.\n",
    "- concatenated_list = list1 + list2: Use `+` to concatenate lists.\n",
    "- repeated_list = my_list\\*3:  Use '\\*' to repeat the list\n",
    "- new_list = my_list.copy(): Create a shallow copy of the list.\n",
    "- item in my_list: Check if an item is present in the list (returns a boolean)."
   ]
  },
  {
   "cell_type": "code",
   "execution_count": null,
   "id": "70214bc4-85f9-46fe-9489-4fe70f726301",
   "metadata": {},
   "outputs": [],
   "source": [
    "# example: append\n",
    "my_list.append(0)\n",
    "my_list"
   ]
  },
  {
   "cell_type": "code",
   "execution_count": null,
   "id": "38440177-1383-4268-a7f9-8f44d255c224",
   "metadata": {},
   "outputs": [],
   "source": [
    "# example:  remove\n",
    "my_list.remove(3)\n",
    "my_list"
   ]
  },
  {
   "cell_type": "code",
   "execution_count": null,
   "id": "b75d6ed1-9a69-49f9-8a08-ac07da93a2ee",
   "metadata": {},
   "outputs": [],
   "source": [
    "# example:  concatenate lists\n",
    "# note also here how this shows that lists can contain multiple different types\n",
    "my_list + ['a','b','c']"
   ]
  },
  {
   "cell_type": "code",
   "execution_count": null,
   "id": "084c8209-2403-47ef-b989-b029e6205e74",
   "metadata": {},
   "outputs": [],
   "source": [
    "# example:  repeat\n",
    "my_list*4"
   ]
  },
  {
   "cell_type": "markdown",
   "id": "06c8b49f-e494-4be5-9951-49d4edcdf3b7",
   "metadata": {},
   "source": [
    "*note the use of + and * with lists does NOT do arithmetical operations.  With numpy arrays (shown below), these instead do addition and multiplication.  This difference is very important to remember*"
   ]
  },
  {
   "cell_type": "code",
   "execution_count": null,
   "id": "8a96e564-550e-40cc-8fc9-50c908710587",
   "metadata": {},
   "outputs": [],
   "source": [
    "# example: check if an item is in the list\n",
    "print(my_list)\n",
    "1 in my_list"
   ]
  },
  {
   "cell_type": "markdown",
   "id": "05f2bee6-3c58-4d51-9d70-7b10d3b3be60",
   "metadata": {},
   "source": [
    "List objects in memory and copying:"
   ]
  },
  {
   "cell_type": "code",
   "execution_count": null,
   "id": "94485f64-8619-491a-b751-cd912fd1fd9d",
   "metadata": {},
   "outputs": [],
   "source": [
    "# Note: with simple values, the value is copied\n",
    "x = 1\n",
    "print('x=',x)\n",
    "b = x\n",
    "b = 0\n",
    "print('x=',x)\n",
    "\n",
    "print('')\n",
    "\n",
    "# with lists, when a new variable is assigned to the list, it makes a pointer the list object in memory\n",
    "x = [1,2]\n",
    "print('x=',x)\n",
    "b = x\n",
    "b[1] = 0\n",
    "print('x=',x)\n",
    "\n",
    "print('')\n",
    "\n",
    "# alternative way is to make a copy to create a new instance in memory.\n",
    "x = [1,2]\n",
    "print('x=',x)\n",
    "b = x.copy()\n",
    "b[1] = 0\n",
    "print('x=',x)"
   ]
  },
  {
   "cell_type": "markdown",
   "id": "5afd860c-38d4-4bcf-88f1-9dd8d90a5fc3",
   "metadata": {},
   "source": [
    "*Assigning new variables to existing objects in memory versus making copies will come up again later, when we use dataframes.  Both are useful to do, depending on what the task is*"
   ]
  },
  {
   "cell_type": "code",
   "execution_count": null,
   "id": "849a19d0-1412-4f30-aeee-1442af9fa429",
   "metadata": {},
   "outputs": [],
   "source": [
    "# nested lists: lists can have multiple levels\n",
    "nestedlist = [[2,3],[4,5]]\n",
    "nestedlist"
   ]
  },
  {
   "cell_type": "markdown",
   "id": "72373276-5aae-44c6-89b5-62eaf5322c15",
   "metadata": {},
   "source": [
    "### List indexing"
   ]
  },
  {
   "cell_type": "code",
   "execution_count": null,
   "id": "cabb0c45-5562-4a55-b8ee-8445e905af7e",
   "metadata": {},
   "outputs": [],
   "source": [
    "newlist = [1,2,3,4,5,6,7,8,9,10]\n",
    "# use brackets for indexing. Indexes start at 0\n",
    "print(newlist[0])\n",
    "print(newlist[5])"
   ]
  },
  {
   "cell_type": "code",
   "execution_count": null,
   "id": "d42ee628-3165-4f12-9488-870e66afa494",
   "metadata": {},
   "outputs": [],
   "source": [
    "# can assign different values to individual elements\n",
    "newlist[5] = 10\n",
    "print(newlist)\n",
    "newlist[5] = 6\n",
    "print(newlist)"
   ]
  },
  {
   "cell_type": "code",
   "execution_count": null,
   "id": "03aed1b0-2430-47c9-a975-29bc59f47adc",
   "metadata": {},
   "outputs": [],
   "source": [
    "# use ':' to get a slice.  using just ':' will return all.  \n",
    "# leaving out the end value will go the end, and leaving out the start value will go from the start\n",
    "print(newlist[2:5])\n",
    "print(newlist[:])\n",
    "print(newlist[2:])\n",
    "print(newlist[:5])"
   ]
  },
  {
   "cell_type": "code",
   "execution_count": null,
   "id": "b1d2f644-0600-405b-bb5e-4861f1380745",
   "metadata": {},
   "outputs": [],
   "source": [
    "# if add a third value, it is the interval between elements to return\n",
    "newlist[1:9:2]"
   ]
  },
  {
   "cell_type": "code",
   "execution_count": null,
   "id": "9e56f1f1-d03f-418c-871a-d81b60b45d4b",
   "metadata": {},
   "outputs": [],
   "source": [
    "# if use just just '::', this is shorthand to start from the first element and take every nth value til the end\n",
    "print(newlist[::3])\n",
    "# with ::3, this starts at the first element and takes every 3rd element to the end"
   ]
  },
  {
   "cell_type": "code",
   "execution_count": null,
   "id": "d467b66d-1ce3-4744-bbf6-1ad74dd5e5eb",
   "metadata": {},
   "outputs": [],
   "source": [
    "# for indexing nested lists, note the syntax\n",
    "nestedlist = [[2,3],[4,5]]\n",
    "print(nestedlist[1])\n",
    "print(nestedlist[1][0])"
   ]
  },
  {
   "cell_type": "markdown",
   "id": "423cc6cf-add4-4c35-b81c-6d47c3dff74d",
   "metadata": {},
   "source": [
    "### *Q - lists\n",
    "Define a list with at least five elements and print the third element.\n",
    "Add a new element to the list and print the updated list."
   ]
  },
  {
   "cell_type": "code",
   "execution_count": null,
   "id": "aa9c1148-bb1e-46ee-9167-bd27596bff14",
   "metadata": {},
   "outputs": [],
   "source": [
    "## your answer here"
   ]
  },
  {
   "cell_type": "markdown",
   "id": "609d6a67-9cf7-4739-ba04-c62d241b1488",
   "metadata": {},
   "source": [
    "## Tuples"
   ]
  },
  {
   "cell_type": "markdown",
   "id": "eb1081d3-3d6b-4e65-879c-86ea3c8bf82e",
   "metadata": {},
   "source": [
    "Tuples can be manipulated in many ways the same as lists.  But, the values can't be changed.  Why/when use?\n",
    "- Data Integrity: When you want to ensure that data remains unchanged and avoid accidental modifications, tuples provide a level of safety that lists do not.\n",
    "- Return Multiple Values: Functions can return multiple values as a tuple, which can then be easily unpacked. This is a common pattern in Python.\n",
    "- Tuples are hashable (i.e. has a value that does not change), which means they can be used as keys in dictionaries and elements in sets."
   ]
  },
  {
   "cell_type": "code",
   "execution_count": null,
   "id": "3517fca9-3153-4d41-b3c4-54045e5c3202",
   "metadata": {},
   "outputs": [],
   "source": [
    "my_tuple = (1,2,3)\n",
    "my_tuple"
   ]
  },
  {
   "cell_type": "code",
   "execution_count": null,
   "id": "af01ff21-f461-416a-ac6b-b2c826f8d69c",
   "metadata": {},
   "outputs": [],
   "source": [
    "# Examples:  concatenate, or take a slice\n",
    "print((1,2,3) + ('a','b'))\n",
    "print(my_tuple[2])"
   ]
  },
  {
   "cell_type": "code",
   "execution_count": null,
   "id": "0efa966c-1f20-4634-bf76-44b21f52d5be",
   "metadata": {},
   "outputs": [],
   "source": [
    "# but, can't append an item or assign values\n",
    "my_tuple[2] = 10"
   ]
  },
  {
   "cell_type": "code",
   "execution_count": null,
   "id": "17d32b00-3f6b-40a8-a1b0-e4b0acdfac99",
   "metadata": {},
   "outputs": [],
   "source": [
    "# note: when no brackets or parenthesis are used, then a tuple is created\n",
    "x = 1,2\n",
    "type(x)"
   ]
  },
  {
   "cell_type": "markdown",
   "id": "ed29c70d-e6d5-43ac-8997-50e06ee29ec8",
   "metadata": {},
   "source": [
    "## Dictionaries"
   ]
  },
  {
   "cell_type": "markdown",
   "id": "a6a27966-be34-4cc6-a2f7-f403c21f8669",
   "metadata": {},
   "source": [
    "A dictionary consists of keys and values. It is helpful to compare a dictionary to a list. Instead of the numerical indexes such as a list, dictionaries have keys. These keys are the keys that are used to access values within a dictionary."
   ]
  },
  {
   "cell_type": "markdown",
   "id": "02b12358-fd3c-41dc-add6-40550268f57b",
   "metadata": {},
   "source": [
    "<img src=\"https://s3-api.us-geo.objectstorage.softlayer.net/cf-courses-data/CognitiveClass/PY0101EN/Chapter%202/Images/DictsList.png\" width=\"650\" />"
   ]
  },
  {
   "cell_type": "markdown",
   "id": "6c76fc9a-bd64-4cef-bf0f-d00a911618ab",
   "metadata": {},
   "source": [
    "An example of a Dictionary <code>dict</code>:"
   ]
  },
  {
   "cell_type": "code",
   "execution_count": null,
   "id": "f78580b1-b212-4733-a17b-40c585960256",
   "metadata": {
    "collapsed": false,
    "jupyter": {
     "outputs_hidden": false
    }
   },
   "outputs": [],
   "source": [
    "# Create the dictionary\n",
    "dictionary = {\"key1\": 1, \"key2\": \"2\", \"key3\": [3, 3, 3], \"key4\": (4, 4, 4), ('key5'): 5, (0, 1): 6}\n",
    "dictionary"
   ]
  },
  {
   "cell_type": "markdown",
   "id": "038e1bc6-703c-4bd2-998e-7eecf0bd9157",
   "metadata": {},
   "source": [
    "The keys can be strings:"
   ]
  },
  {
   "cell_type": "code",
   "execution_count": null,
   "id": "8b8577ba-d653-4695-ad4c-0cace19ec822",
   "metadata": {
    "collapsed": false,
    "jupyter": {
     "outputs_hidden": false
    }
   },
   "outputs": [],
   "source": [
    "# Access to the value by the key\n",
    "dictionary[\"key1\"]"
   ]
  },
  {
   "cell_type": "markdown",
   "id": "cc5d529e-1cb6-4d2d-89a0-1347e633c661",
   "metadata": {},
   "source": [
    "Keys can also be any immutable object such as a tuple: "
   ]
  },
  {
   "cell_type": "code",
   "execution_count": null,
   "id": "521bc2ec-cf47-405b-8eb4-a25189e589b5",
   "metadata": {
    "collapsed": false,
    "jupyter": {
     "outputs_hidden": false
    }
   },
   "outputs": [],
   "source": [
    "# Access to the value by the key\n",
    "dictionary[(0, 1)]"
   ]
  },
  {
   "cell_type": "markdown",
   "id": "25e9f897-c740-42d6-9f2f-b00a229c66dc",
   "metadata": {},
   "source": [
    "Now let you retrieve the keys of the dictionary using the method <code>keys()</code>:"
   ]
  },
  {
   "cell_type": "code",
   "execution_count": null,
   "id": "119109d0",
   "metadata": {
    "collapsed": false,
    "jupyter": {
     "outputs_hidden": false
    }
   },
   "outputs": [],
   "source": [
    "# Get all the keys in dictionary\n",
    "dictionary.keys() "
   ]
  },
  {
   "cell_type": "markdown",
   "id": "366c6779-dda7-48d7-a401-ab3f6a60fde1",
   "metadata": {},
   "source": [
    "You can retrieve the values using the method  <code>values()</code>:"
   ]
  },
  {
   "cell_type": "code",
   "execution_count": null,
   "id": "b2ba5fd7",
   "metadata": {
    "collapsed": false,
    "jupyter": {
     "outputs_hidden": false
    }
   },
   "outputs": [],
   "source": [
    "# Get all the values in dictionary\n",
    "dictionary.values() "
   ]
  },
  {
   "cell_type": "markdown",
   "id": "6c7e04f9-f11e-469b-a0d1-9f50c6a219e7",
   "metadata": {},
   "source": [
    "We can add an entry:"
   ]
  },
  {
   "cell_type": "code",
   "execution_count": null,
   "id": "4ce5d7a3",
   "metadata": {
    "collapsed": false,
    "jupyter": {
     "outputs_hidden": false
    }
   },
   "outputs": [],
   "source": [
    "# Append value with key into dictionary\n",
    "dictionary['Apple'] = 'Konstanz'\n",
    "dictionary['Pear'] = 'Reichenau'\n",
    "dictionary"
   ]
  },
  {
   "cell_type": "markdown",
   "id": "af56d5fa-0763-435d-b9e6-207c02e70942",
   "metadata": {},
   "source": [
    "We can delete an entry:   "
   ]
  },
  {
   "cell_type": "code",
   "execution_count": null,
   "id": "d2f6022a",
   "metadata": {
    "collapsed": false,
    "jupyter": {
     "outputs_hidden": false
    }
   },
   "outputs": [],
   "source": [
    "# Delete entries by key\n",
    "del(dictionary['Pear'])\n",
    "dictionary"
   ]
  },
  {
   "cell_type": "markdown",
   "id": "b4b6898a-9615-4432-8d68-b7d30f6f1ba8",
   "metadata": {},
   "source": [
    " We can verify if an element is in the dictionary: "
   ]
  },
  {
   "cell_type": "markdown",
   "id": "9d50a7e1-cb03-4fe2-8a6b-d8bc5e865610",
   "metadata": {
    "collapsed": false,
    "jupyter": {
     "outputs_hidden": false
    }
   },
   "source": [
    "# Verify the key is in the dictionary\n",
    "'key1' in dictionary"
   ]
  },
  {
   "cell_type": "markdown",
   "id": "2769b04e-6054-4c94-8c9c-00abaa0dba5c",
   "metadata": {},
   "source": [
    "### *Q: dictionaries.\n",
    "Build a dictionary representing an individual person with keys of \"name,\" \"age,\" and \"city\", and associate values\\\n",
    "Print one of the values from the dictionary."
   ]
  },
  {
   "cell_type": "code",
   "execution_count": null,
   "id": "d407c258-4b5b-465e-accf-858df1cfd53f",
   "metadata": {},
   "outputs": [],
   "source": [
    "## your answer here"
   ]
  },
  {
   "cell_type": "markdown",
   "id": "eeb581a7-0640-4c2e-9cd1-b1fa6a6a8d5d",
   "metadata": {},
   "source": [
    "A set is a unique collection of objects in Python. You can denote a set with a curly bracket <b>{}</b>. Python will automatically remove duplicate items:"
   ]
  },
  {
   "cell_type": "code",
   "execution_count": null,
   "id": "f197e010",
   "metadata": {
    "collapsed": false,
    "jupyter": {
     "outputs_hidden": false
    }
   },
   "outputs": [],
   "source": [
    "# Create a set\n",
    "\n",
    "set1 = {\"apple\", \"pear\", \"grape\", \"banana\", \"blueberry\", \"apple\", \"apple\"}\n",
    "set1"
   ]
  },
  {
   "cell_type": "markdown",
   "id": "d51126cc-0cfb-495a-b393-940495fb43d9",
   "metadata": {},
   "source": [
    "Classes enable object-oriented programming in Python."
   ]
  },
  {
   "cell_type": "markdown",
   "id": "25f878f7-fa11-4700-afcf-e88ac9c74b2f",
   "metadata": {},
   "source": [
    "Content from IBM: Python for Data Science, AI & Development,  Coursera course"
   ]
  },
  {
   "cell_type": "markdown",
   "id": "245121f6-dc34-4512-b308-21c1e656b499",
   "metadata": {},
   "source": [
    "COULD ADD THIS AND COPY HERE, BUT ITS LONG AND INTRODUCES PLOTTING.  MAYBE BETTER TO MAKE AN APPENDIX?  OR, CAN LEAVE OUT"
   ]
  },
  {
   "cell_type": "markdown",
   "id": "8b026a07-5aed-4a7f-96f6-6a2e8ac3ccea",
   "metadata": {},
   "source": [
    "# Functions"
   ]
  },
  {
   "cell_type": "markdown",
   "id": "1151598b-7fe1-45e8-9815-23b2d557734c",
   "metadata": {},
   "source": [
    "A function is a reusable block of code which performs operations specified in the function.  They let you break down tasks and allow you to reuse your code in different programs.\n",
    "\n",
    "There are two types of functions :\n",
    "\n",
    "- <b>Pre-defined functions</b>\n",
    "- <b>User defined functions</b>"
   ]
  },
  {
   "cell_type": "markdown",
   "id": "925ef1db-cc91-4ad0-98c8-ccb3710ed85c",
   "metadata": {},
   "source": [
    "You can define functions to provide the required functionality. Here are simple rules to define a function in Python:\n",
    "-  Functions blocks begin with <code>def</code> followed by the function <code>name</code> and parentheses <code>()</code>.\n",
    "-  There are input parameters or arguments that should be placed within these parentheses. \n",
    "-  You can also define parameters inside these parentheses.\n",
    "-  There is a body within every function that starts with a colon (<code>:</code>) and is indented.\n",
    "-  You can also place documentation before the body \n",
    "-  The statement <code>return</code> exits a function, optionally passing back a value\n",
    "-  Using functional coding concepts, there is another way to define functions using the lambda operator - these are called \"anonymous function\" or \"lambda functions\""
   ]
  },
  {
   "cell_type": "markdown",
   "id": "f71b9ec5-c6d4-4847-be66-fd8729ec7916",
   "metadata": {},
   "source": [
    "## Function definition, inputs, default and optional parameters"
   ]
  },
  {
   "cell_type": "markdown",
   "id": "2df6a059-848a-4595-8585-b73a1248ec75",
   "metadata": {},
   "source": [
    "Example: \n",
    "`add_numbers` is a function that takes two numbers and adds them together."
   ]
  },
  {
   "cell_type": "code",
   "execution_count": null,
   "id": "09db6e4e",
   "metadata": {},
   "outputs": [],
   "source": [
    "def add_numbers(x, y):\n",
    "    return x + y\n",
    "\n",
    "add_numbers(1, 2)"
   ]
  },
  {
   "cell_type": "markdown",
   "id": "95d2a563-49d8-48a5-bafb-21831af11735",
   "metadata": {},
   "source": [
    "**Optional parameters**. now updating 'add_numbers' to take an optional 3rd parameter:"
   ]
  },
  {
   "cell_type": "code",
   "execution_count": null,
   "id": "fc6ba76c-cc55-4e99-ab47-f6ede7d2734e",
   "metadata": {},
   "outputs": [],
   "source": [
    "def add_numbers(x,y,z=None):\n",
    "    if (z==None):\n",
    "        return x+y\n",
    "    else:\n",
    "        return x+y+z\n",
    "\n",
    "print(add_numbers(1, 2))\n",
    "print(add_numbers(1, 2, 3))"
   ]
  },
  {
   "cell_type": "markdown",
   "id": "1e752ffe-e11f-4747-a2d6-a8d60f7ce7a1",
   "metadata": {},
   "source": [
    "A further example, adding other optional parameters with default values."
   ]
  },
  {
   "cell_type": "code",
   "execution_count": null,
   "id": "2f267f27-d705-4f90-a4d6-df7077da0e6a",
   "metadata": {},
   "outputs": [],
   "source": [
    "def add_numbers(x, y, z=None, addoffset=False, offset=10):\n",
    "    if (addoffset):\n",
    "        print('Adding the offset')\n",
    "        x = x+offset\n",
    "    if (z==None):\n",
    "        return x + y\n",
    "    else:\n",
    "        return x + y + z\n",
    "    \n",
    "print(add_numbers(1, 2, addoffset=True))"
   ]
  },
  {
   "cell_type": "markdown",
   "id": "64dead52-eb05-4976-a972-98d38c90f474",
   "metadata": {},
   "source": [
    "This function could also return values.  Here's let make it return both the value and the threshold as a tuple"
   ]
  },
  {
   "cell_type": "code",
   "execution_count": null,
   "id": "f4aeb531-a40e-4f99-a0ae-a4faac198d19",
   "metadata": {
    "scrolled": true
   },
   "outputs": [],
   "source": [
    "threshold = 10\n",
    "def compare_to_threshold(val,threshold=5):\n",
    "    if val<threshold:\n",
    "        print('less than')\n",
    "    elif val == threshold:\n",
    "        print('equal')\n",
    "    else:\n",
    "        print('greater than')\n",
    "    return val, threshold\n",
    "compare_to_threshold(5)"
   ]
  },
  {
   "cell_type": "markdown",
   "id": "ed3b3d05-43ce-4ffd-a341-c876c2078f9b",
   "metadata": {},
   "source": [
    "### *Q: Functions\n",
    "Write a function to calculate properties of a circle, including the area, diameter, and circumference.  The input should be the radius.\\\n",
    "By default, only return the area as a single value.  When return_all=True, then return all three calculations as a tuple"
   ]
  },
  {
   "cell_type": "code",
   "execution_count": null,
   "id": "06db9de9-9374-49dd-a3d9-fda1ee931cbb",
   "metadata": {},
   "outputs": [],
   "source": [
    "## your answer"
   ]
  },
  {
   "cell_type": "markdown",
   "id": "24f6cec6-dea7-4c6e-b71b-c0f7a0c4baf1",
   "metadata": {},
   "source": [
    "## Lambda (anonymous) functions"
   ]
  },
  {
   "cell_type": "markdown",
   "id": "21d68989-83d3-448c-8d4b-92dc255b8a0e",
   "metadata": {},
   "source": [
    "Anonymous functions are a functional programming concept.  An anonymous function does not have to be assigned to a variable name in order to be used.  These can be very useful for performing simple operations on data.\n",
    "\n",
    "Key differences from normal functions:\n",
    "- Syntax:  Lambda functions are defined using the lambda keyword, followed by the function's arguments and a single expression. They are typically one-liners.\n",
    "- Name:  Lambda functions can be assigned to a variable, but they can also be used without a name\n",
    "- Return Statement: Lambda functions implicitly return the result of the expression."
   ]
  },
  {
   "cell_type": "markdown",
   "id": "9ec30dac-9ef2-480a-9f3b-ccb691780b75",
   "metadata": {},
   "source": [
    "Lets create a lambda function and apply it to a value"
   ]
  },
  {
   "cell_type": "code",
   "execution_count": null,
   "id": "4cc2fa07-7d6a-4d08-ab9f-81313c005fcd",
   "metadata": {},
   "outputs": [],
   "source": [
    "(lambda x: x+10)(20)"
   ]
  },
  {
   "cell_type": "markdown",
   "id": "dca3f2ae-256c-4eb3-83ad-da5ccb16e175",
   "metadata": {},
   "source": [
    "Can also assign this to a variable"
   ]
  },
  {
   "cell_type": "code",
   "execution_count": null,
   "id": "963e2d6e-bb08-40c7-8596-7e0a35f89c05",
   "metadata": {},
   "outputs": [],
   "source": [
    "addten = lambda x: x+10\n",
    "addten(20)"
   ]
  },
  {
   "cell_type": "markdown",
   "id": "1df10eaf-be74-42d6-8fb8-bc2bc17a3499",
   "metadata": {},
   "source": [
    "To have more than one input:"
   ]
  },
  {
   "cell_type": "code",
   "execution_count": null,
   "id": "6d94abce-a1c4-410a-bafc-3192408a6340",
   "metadata": {},
   "outputs": [],
   "source": [
    "add = lambda x, y: x + y\n",
    "add(2, 3)"
   ]
  },
  {
   "cell_type": "markdown",
   "id": "1214edda-514a-42de-a1f6-968136255d9b",
   "metadata": {},
   "source": [
    "### *Q: lambda functions\n",
    "Create a lambda function `cube` that cubes a number.  Print the result for 5 and 10"
   ]
  },
  {
   "cell_type": "code",
   "execution_count": null,
   "id": "b68e14cf-dbce-456a-8172-e88b023f2aae",
   "metadata": {},
   "outputs": [],
   "source": [
    "## your answer"
   ]
  },
  {
   "cell_type": "markdown",
   "id": "c6050175-0164-44e5-94ee-e55282aa7584",
   "metadata": {},
   "source": [
    "# Iteration"
   ]
  },
  {
   "cell_type": "markdown",
   "id": "21cb8495-068f-42b5-9879-122cf154d152",
   "metadata": {},
   "source": [
    "## For loops"
   ]
  },
  {
   "cell_type": "markdown",
   "id": "fb41bd4f-3189-4236-a565-081edfb0dfb3",
   "metadata": {},
   "source": [
    "Sometimes, you might want to repeat a given operation many times. Repeated executions like this are performed by <b>loops</b>. We will look at two types of loops, <code>for</code> loops and <code>while</code> loops.\n",
    "\n",
    "Before we discuss loops lets discuss the <code>range</code> object. It is helpful to think of the range object as an ordered list. For now, let's look at the simplest case. If we would like to generate a sequence that contains three elements ordered from 0 to 2 we simply use the following command:"
   ]
  },
  {
   "cell_type": "code",
   "execution_count": null,
   "id": "bf42227d",
   "metadata": {
    "collapsed": false,
    "jupyter": {
     "outputs_hidden": false
    }
   },
   "outputs": [],
   "source": [
    "# Use the range\n",
    "range(3)"
   ]
  },
  {
   "cell_type": "markdown",
   "id": "ea14c480-6cbd-4110-bc66-ce5f0cd00c41",
   "metadata": {},
   "source": [
    "<img src=\"https://s3-api.us-geo.objectstorage.softlayer.net/cf-courses-data/CognitiveClass/PY0101EN/Chapter%203/Images/LoopsRange.png\" width=\"300\" />"
   ]
  },
  {
   "cell_type": "markdown",
   "id": "d8826a1d-f359-4497-a9d8-ceadb684cccd",
   "metadata": {},
   "source": [
    "What is a <code>for</code> loop?"
   ]
  },
  {
   "cell_type": "markdown",
   "id": "f2c0654c-5afc-4bbf-94fe-979e73de465b",
   "metadata": {},
   "source": [
    "The <code>for</code> loop enables you to execute a code block multiple times. For example, you would use this if you would like to print out every element in a list.    \n",
    "Let's try to use a <code>for</code> loop to print all the years presented in the list <code>dates</code>:"
   ]
  },
  {
   "cell_type": "markdown",
   "id": "7c6b7b3e-22eb-46cf-9203-daadf31cf4f1",
   "metadata": {},
   "source": [
    "This can be done as follows:"
   ]
  },
  {
   "cell_type": "code",
   "execution_count": null,
   "id": "fce509e6",
   "metadata": {
    "collapsed": false,
    "jupyter": {
     "outputs_hidden": false
    }
   },
   "outputs": [],
   "source": [
    "# For loop example\n",
    "\n",
    "dates = [1982,1980,1973]\n",
    "N = len(dates)\n",
    "\n",
    "for i in range(N):\n",
    "    print(dates[i])     "
   ]
  },
  {
   "cell_type": "markdown",
   "id": "2958e33d-95fb-4c1d-b7db-00d02ec8b7f7",
   "metadata": {},
   "source": [
    "In this example we can print out a sequence of numbers from 0 to 7:"
   ]
  },
  {
   "cell_type": "code",
   "execution_count": null,
   "id": "dc6ebfa7-5467-44c4-b984-bff70c7cece9",
   "metadata": {
    "collapsed": false,
    "jupyter": {
     "outputs_hidden": false
    }
   },
   "outputs": [],
   "source": [
    "# Example of for loop\n",
    "\n",
    "for i in range(0, 8):\n",
    "    print(i)"
   ]
  },
  {
   "cell_type": "markdown",
   "id": "ac57526d-761f-42cd-a5e3-66d95160360d",
   "metadata": {},
   "source": [
    "In Python we can directly access the elements in the list as follows: "
   ]
  },
  {
   "cell_type": "code",
   "execution_count": null,
   "id": "2eac19f4-b96a-425e-86e8-1afa148d4615",
   "metadata": {
    "collapsed": false,
    "jupyter": {
     "outputs_hidden": false
    }
   },
   "outputs": [],
   "source": [
    "# Exmaple of for loop, loop through list\n",
    "\n",
    "for year in dates:  \n",
    "    print(year)   "
   ]
  },
  {
   "cell_type": "markdown",
   "id": "b9210c9f-f1bb-4a01-8e2a-af3a76ae3abd",
   "metadata": {},
   "source": [
    "For each iteration, the value of the variable <code>years</code> behaves like the value of <code>dates[i]</code> in the  first example:"
   ]
  },
  {
   "cell_type": "markdown",
   "id": "e9fb6c6d-1c43-4f47-9b99-5df368d3ca3d",
   "metadata": {},
   "source": [
    " We can access the index and the elements of a list as follows: "
   ]
  },
  {
   "cell_type": "code",
   "execution_count": null,
   "id": "5e674649-cc96-4fe7-87c8-46f408379edc",
   "metadata": {
    "collapsed": false,
    "jupyter": {
     "outputs_hidden": false
    },
    "scrolled": true
   },
   "outputs": [],
   "source": [
    "# Loop through the list and iterate on both index and element value\n",
    "\n",
    "squares=['red', 'yellow', 'green', 'purple', 'blue']\n",
    "\n",
    "for i, square in enumerate(squares):\n",
    "    print(i, square)"
   ]
  },
  {
   "cell_type": "markdown",
   "id": "d487b50d-ec93-489a-aee5-9d86a2e599fe",
   "metadata": {},
   "source": [
    "### *Q: for loops\n",
    "Create a list named numerical_values with values [7, 10, 13, 16, 19]. Use a for loop to print the cube of each number in the list."
   ]
  },
  {
   "cell_type": "code",
   "execution_count": null,
   "id": "293f9d99-a0fb-4ff1-8fd1-deb7b07312ca",
   "metadata": {},
   "outputs": [],
   "source": [
    "## your answer"
   ]
  },
  {
   "cell_type": "code",
   "execution_count": null,
   "id": "af3f20d4-7f53-42b9-b096-3999d836bbf1",
   "metadata": {},
   "outputs": [],
   "source": [
    "numerical_values = [7, 10, 13, 16, 19]\n",
    "for num in numerical_values:\n",
    "    print(num ** 3)"
   ]
  },
  {
   "cell_type": "markdown",
   "id": "b60310a8-26bb-4906-873d-00fce0cf1c67",
   "metadata": {},
   "source": [
    "## List comprehension"
   ]
  },
  {
   "cell_type": "markdown",
   "id": "f6af7fe4-9e50-468e-ab73-2a59488c91ef",
   "metadata": {},
   "source": [
    "List comprehension is a concise and expressive way to create lists in Python. It allows you to generate a new list by applying an expression to each item in an existing iterable (e.g., a list, tuple, or range) and optionally filtering the items based on a condition. List comprehensions are a powerful and readable alternative to traditional loops for creating lists.\n",
    "\n",
    "The basic syntax of a list comprehension is\n",
    "<code>new_list = [expression for item in iterable]</code>"
   ]
  },
  {
   "cell_type": "code",
   "execution_count": null,
   "id": "fb23736d-4fcf-43ea-b395-2f87a11997b9",
   "metadata": {},
   "outputs": [],
   "source": [
    "# Basic List Comprehension (Expression for Each Item):\n",
    "numbers = [1, 2, 3, 4, 5]\n",
    "squared_numbers = [x**2 for x in numbers]\n",
    "print(squared_numbers)"
   ]
  },
  {
   "cell_type": "code",
   "execution_count": null,
   "id": "203395ed-ddb7-4ce0-a494-f7610b1ebc6f",
   "metadata": {},
   "outputs": [],
   "source": [
    "# List Comprehension with If-Else (Conditional Expression):\n",
    "numbers = [1, 2, 3, 4, 5]\n",
    "squared_evens = [x**2 if x%2==0 else x for x in numbers]\n",
    "print(squared_evens)"
   ]
  },
  {
   "cell_type": "markdown",
   "id": "2e5eacd2-cccf-4850-90b5-3dad19fc10b5",
   "metadata": {},
   "source": [
    "List comprehension can be used with built-in functions, or to easily compare elements in a list"
   ]
  },
  {
   "cell_type": "code",
   "execution_count": null,
   "id": "f5e563fd-9880-40f7-810f-8cb710fe2bf5",
   "metadata": {},
   "outputs": [],
   "source": [
    "[fruit=='Apple' for fruit in ['Pear','Bread','Apple']]"
   ]
  },
  {
   "cell_type": "markdown",
   "id": "22e8d450-2b96-40f3-8f6d-12ba850e7378",
   "metadata": {},
   "source": [
    "### *Q: list comprehension\n",
    "Use list comprehension to create a list named cubed_values containing the cubes of each number in the list [2, 4, 6, 8, 10]."
   ]
  },
  {
   "cell_type": "code",
   "execution_count": null,
   "id": "a2ea4d44-c36d-4551-9bde-d2cae2b2d451",
   "metadata": {},
   "outputs": [],
   "source": [
    "## your answer"
   ]
  },
  {
   "cell_type": "markdown",
   "id": "96e3c83f-4f09-4d0c-974f-193697c6f464",
   "metadata": {},
   "source": [
    "## Map"
   ]
  },
  {
   "cell_type": "markdown",
   "id": "dece7ade-7451-4d11-b27d-2982922a3a88",
   "metadata": {},
   "source": [
    "In Python, map is a built-in function that is used to apply a given function to every item in an iterable (e.g., a list, tuple, or other iterable) and return a new iterable with the results. map takes two arguments: the function to be applied and the iterable to which the function should be applied. The result is typically converted to a list using list() to make it more accessible.\n",
    "\n",
    "In practice, there are two important reasons to be familiar with using map, in comparison with for loops or list comprehension:\n",
    "1) Map is trivial to run in parallel, because the result does not depend on the oder of execution, while in for loops this is not true.  E.g. using the 'multiprocessing' library and pool.map\n",
    "2) Pandas dataframes can be efficiently processed using functional programming constructs.  The .apply() function in Pandas (which we will look at later) is similar to map."
   ]
  },
  {
   "cell_type": "markdown",
   "id": "069768e5-d268-4d84-839e-82ff2edc99b1",
   "metadata": {},
   "source": [
    "Example:  Basic map Usage"
   ]
  },
  {
   "cell_type": "code",
   "execution_count": null,
   "id": "4c8d64ec-9668-40cb-a880-887941bcf1e0",
   "metadata": {},
   "outputs": [],
   "source": [
    "def square(x):\n",
    "    return x**2\n",
    "\n",
    "numbers = [1, 2, 3, 4, 5]\n",
    "squared_numbers = list(map(square, numbers))\n",
    "print(squared_numbers)"
   ]
  },
  {
   "cell_type": "markdown",
   "id": "d5288b9a-5e52-49d1-b15d-bc9a013ee266",
   "metadata": {},
   "source": [
    "Using lambda Functions with map:  You can use lambda functions for shorter and more concise code."
   ]
  },
  {
   "cell_type": "code",
   "execution_count": null,
   "id": "fddf7211-5cd5-4bb1-a585-3b90764c70e8",
   "metadata": {},
   "outputs": [],
   "source": [
    "numbers = [1, 2, 3, 4, 5]\n",
    "squared_numbers = list(map(lambda x: x**2, numbers))\n",
    "print(squared_numbers)"
   ]
  },
  {
   "cell_type": "markdown",
   "id": "720dbb36-4d19-4e53-8f7e-327d1ca6b4f4",
   "metadata": {},
   "source": [
    "### *Q: map\n",
    "Use map instead of list comprehension to create again the variable cubed_values containing the cubes of each number in the list [2, 4, 6, 8, 10]."
   ]
  },
  {
   "cell_type": "code",
   "execution_count": null,
   "id": "18467fb3-b5c1-4ac0-a520-aacc95d250bc",
   "metadata": {},
   "outputs": [],
   "source": [
    "## your answer"
   ]
  },
  {
   "cell_type": "markdown",
   "id": "1d1919f4-50f0-4dfa-95e7-3f8b630c608f",
   "metadata": {},
   "source": [
    "# Numpy"
   ]
  },
  {
   "cell_type": "markdown",
   "id": "89d4ff96-78b0-4369-b2d5-b94c81f625cb",
   "metadata": {},
   "source": [
    "NumPy, short for \"Numerical Python,\" is a fundamental library in Python for numerical and scientific computing. It provides support for large, multi-dimensional arrays and matrices, along with a collection of mathematical functions to operate on these arrays."
   ]
  },
  {
   "cell_type": "markdown",
   "id": "831c0724-9b90-451b-8fbe-d56f789d5681",
   "metadata": {},
   "source": [
    "Key Features of NumPy:\n",
    "- Arrays: NumPy provides a powerful array object called ndarray. These arrays are homogeneous and multi-dimensional, making them ideal for mathematical operations.\n",
    "- Efficiency: NumPy arrays are more memory-efficient and faster than Python lists, making them the preferred choice for numerical work.\n",
    "- Mathematical Functions: NumPy includes a wide range of mathematical functions for array manipulation, including element-wise operations, linear algebra, statistics, and more.\n",
    "- Broadcasting: NumPy supports broadcasting, which allows you to perform operations on arrays of different shapes, making your code more concise."
   ]
  },
  {
   "cell_type": "markdown",
   "id": "ee5f0f7d-bc89-4296-bd14-bab160902217",
   "metadata": {},
   "source": [
    "## Numpy arrays, indexing, and operations"
   ]
  },
  {
   "cell_type": "markdown",
   "id": "8086bda1-7507-4d30-8961-5e24d885cb5c",
   "metadata": {
    "collapsed": true,
    "jupyter": {
     "outputs_hidden": true
    }
   },
   "source": [
    "### Array Creation"
   ]
  },
  {
   "cell_type": "code",
   "execution_count": null,
   "id": "641f2274",
   "metadata": {},
   "outputs": [],
   "source": [
    "# Arrays are displayed as a list or list of lists and can be created through list as well. When creating an\n",
    "# array, we pass in a list as an argument in numpy array\n",
    "a = np.array([1, 2, 3])\n",
    "print(a)"
   ]
  },
  {
   "cell_type": "code",
   "execution_count": null,
   "id": "aa1db942",
   "metadata": {},
   "outputs": [],
   "source": [
    "# If we pass in a list of lists in numpy array, we create a multi-dimensional array, for instance, a matrix\n",
    "b = np.array([[1,2,3],[4,5,6]])\n",
    "b"
   ]
  },
  {
   "cell_type": "code",
   "execution_count": null,
   "id": "4c834dd9",
   "metadata": {},
   "outputs": [],
   "source": [
    "# We can print out the length of each dimension by calling the shape attribute, which returns a tuple\n",
    "b.shape"
   ]
  },
  {
   "cell_type": "code",
   "execution_count": null,
   "id": "c82e840a",
   "metadata": {},
   "outputs": [],
   "source": [
    "# We can also check the type of items in the array\n",
    "a.dtype"
   ]
  },
  {
   "cell_type": "code",
   "execution_count": null,
   "id": "55c689ec",
   "metadata": {},
   "outputs": [],
   "source": [
    "# Besides integers, floats are also accepted in numpy arrays\n",
    "c = np.array([2.2, 5, 1.1])\n",
    "c.dtype"
   ]
  },
  {
   "cell_type": "code",
   "execution_count": null,
   "id": "3a54bf94",
   "metadata": {},
   "outputs": [],
   "source": [
    "# Let's look at the data in our array\n",
    "# Note that numpy automatically converts integers, like 5, up to floats, since there is no loss of prescision.\n",
    "# Numpy will try and give you the best data type format possible to keep your data types homogeneous, which\n",
    "# means all the same, in the array\n",
    "c"
   ]
  },
  {
   "cell_type": "markdown",
   "id": "6b78f014-cf91-4f88-8711-3860528e2269",
   "metadata": {},
   "source": [
    "Creating emtpy, uniform, or random arrays"
   ]
  },
  {
   "cell_type": "code",
   "execution_count": null,
   "id": "eb530888",
   "metadata": {},
   "outputs": [],
   "source": [
    "# Sometimes we know the shape of an array that we want to create, but not what we want to be in it. numpy\n",
    "# offers several functions to create arrays with initial placeholders, such as zero's or one's.\n",
    "# Lets create two arrays, both the same shape but with different filler values\n",
    "d = np.zeros((2,3))\n",
    "print(d)\n",
    "\n",
    "e = np.ones((2,3))\n",
    "print(e)"
   ]
  },
  {
   "cell_type": "code",
   "execution_count": null,
   "id": "d15ae78e",
   "metadata": {},
   "outputs": [],
   "source": [
    "# We can also generate an array with random numbers\n",
    "np.random.rand(2,3)"
   ]
  },
  {
   "cell_type": "code",
   "execution_count": null,
   "id": "59b1e53a",
   "metadata": {},
   "outputs": [],
   "source": [
    "# You'll see zeros, ones, and rand used quite often to create example arrays, especially in stack overflow\n",
    "# posts and other forums."
   ]
  },
  {
   "cell_type": "code",
   "execution_count": null,
   "id": "df863330",
   "metadata": {},
   "outputs": [],
   "source": [
    "# We can also create a sequence of numbers in an array with the arrange() function. The fist argument is the\n",
    "# starting bound and the second argument is the ending bound, and the third argument is the difference between\n",
    "\n",
    "# Let's create an array of every even number from ten (inclusive) to fifty (exclusive)\n",
    "f = np.arange(10, 50, 2)\n",
    "f"
   ]
  },
  {
   "cell_type": "code",
   "execution_count": null,
   "id": "6e86870a-e064-489b-885b-0f94c1ac4a15",
   "metadata": {},
   "outputs": [],
   "source": [
    "# np.arange is similar to the built-in Python function range().  The differences are:\n",
    "# - np.arange can take float values as input, while range only takes integers\n",
    "# - np.arange returns a numpy array, while list(range(*)) returns a python list"
   ]
  },
  {
   "cell_type": "code",
   "execution_count": null,
   "id": "d4a59122",
   "metadata": {
    "scrolled": true
   },
   "outputs": [],
   "source": [
    "# if we want to generate a sequence of floats, we can use the linspace() function. In this function the third\n",
    "# argument isn't the difference between two numbers, but the total number of items you want to generate\n",
    "np.linspace( 0, 2, 15 ) # 15 numbers from 0 (inclusive) to 2 (inclusive)"
   ]
  },
  {
   "cell_type": "markdown",
   "id": "4accdd05-a021-4bf1-be05-1d92ca14a182",
   "metadata": {},
   "source": [
    "### Indexing"
   ]
  },
  {
   "cell_type": "markdown",
   "id": "2221013c-7f88-404f-8614-5e0c00e5634b",
   "metadata": {},
   "source": [
    "Integer indexing"
   ]
  },
  {
   "cell_type": "code",
   "execution_count": null,
   "id": "384fbcf8",
   "metadata": {},
   "outputs": [],
   "source": [
    "# A one-dimensional array, works in similar ways as a list -\n",
    "# To get an element in a one-dimensional array, we simply use the offset index.\n",
    "a = np.array([1,3,5,7])\n",
    "a[2]"
   ]
  },
  {
   "cell_type": "code",
   "execution_count": null,
   "id": "7551fd26",
   "metadata": {},
   "outputs": [],
   "source": [
    "# For multidimensional array, we need to use integer array indexing, let's create a new multidimensional array\n",
    "a = np.array([[1,2], [3, 4], [5, 6]])\n",
    "a"
   ]
  },
  {
   "cell_type": "code",
   "execution_count": null,
   "id": "881c8522",
   "metadata": {},
   "outputs": [],
   "source": [
    "# if we want to select one certain element, we can do so by entering the index, which is comprised of two\n",
    "# integers the first being the row, and the second the column.  # remember in python we start at 0!\n",
    "a[1,1] "
   ]
  },
  {
   "cell_type": "code",
   "execution_count": null,
   "id": "1bda31ca",
   "metadata": {},
   "outputs": [],
   "source": [
    "# indexing with the \":\" operator, like in lists, is also supported\n",
    "a[1:3,:]"
   ]
  },
  {
   "cell_type": "code",
   "execution_count": null,
   "id": "bf2dec21",
   "metadata": {
    "scrolled": true
   },
   "outputs": [],
   "source": [
    "# we can also pass in a list for indexing, in order to get multiple elements.  This can be useful for selecting certain elements\n",
    "a[[1,2,1,2,0]]"
   ]
  },
  {
   "cell_type": "markdown",
   "id": "9d334f0f-3fa0-41e0-b635-67e5a6ca88a0",
   "metadata": {},
   "source": [
    "### *Q: numpy indexing\n",
    "Given the NumPy array arr = np.array([[2, 4, 6], [8, 10, 12], [14, 16, 18]]), write code to retrieve values the second column (including all rows)"
   ]
  },
  {
   "cell_type": "code",
   "execution_count": null,
   "id": "6818f7d2-4d18-41d8-b4dc-0ed5662bb8b8",
   "metadata": {},
   "outputs": [],
   "source": [
    "## your answer"
   ]
  },
  {
   "cell_type": "markdown",
   "id": "38a4524d-5b76-4c62-9b8b-33fabf53b8ad",
   "metadata": {},
   "source": [
    "Boolean indexing"
   ]
  },
  {
   "cell_type": "code",
   "execution_count": null,
   "id": "d0c754a1-1283-4acd-bc41-97aa592bbfcd",
   "metadata": {},
   "outputs": [],
   "source": [
    "# Boolean indexing allows us to select arbitrary elements based on conditions. For example, in the matrix we\n",
    "# just talked about we want to find elements that are greater than 5 so we set up a conditon a >5 \n",
    "print(a>5)\n",
    "# This returns a boolean array showing that if the value at the corresponding index is greater than 5"
   ]
  },
  {
   "cell_type": "code",
   "execution_count": null,
   "id": "a4b446f2-8e30-4943-9a1d-880247971e21",
   "metadata": {},
   "outputs": [],
   "source": [
    "# We can then place this array of booleans like a mask over the original array to return a one-dimensional \n",
    "# array relating to the true values.\n",
    "print(a[a>5])"
   ]
  },
  {
   "cell_type": "markdown",
   "id": "43f5cf3b-1376-4ad6-80f0-65e3d4e6de61",
   "metadata": {},
   "source": [
    "### *Q: boolean indexing\n",
    "Use boolean indexing to select and print the elements from the array [3, 7, 2, 9, 1] that are less than 4."
   ]
  },
  {
   "cell_type": "code",
   "execution_count": null,
   "id": "79ce50af-40cf-469a-82f6-b91a40e593fa",
   "metadata": {},
   "outputs": [],
   "source": [
    "## your answer"
   ]
  },
  {
   "cell_type": "markdown",
   "id": "50883098-801e-4f31-b288-4ce556bae3fb",
   "metadata": {},
   "source": [
    "Changing values"
   ]
  },
  {
   "cell_type": "code",
   "execution_count": null,
   "id": "11a1ec4a-6fd9-4b62-9075-047d2cd47840",
   "metadata": {},
   "outputs": [],
   "source": [
    "a = np.array([[1,2], [3, 4], [5, 6]])\n",
    "a"
   ]
  },
  {
   "cell_type": "code",
   "execution_count": null,
   "id": "f7468ef8-d996-4f78-8995-76fb4fd76138",
   "metadata": {},
   "outputs": [],
   "source": [
    "# setting individual values is similar to a list\n",
    "a[0,0] = 100\n",
    "a"
   ]
  },
  {
   "cell_type": "code",
   "execution_count": null,
   "id": "30a3d473-8ae9-4917-bab5-10de6de88cd0",
   "metadata": {},
   "outputs": [],
   "source": [
    "# if set only one dimension, it broadcasts across the other dimensions\n",
    "a[0] = 0\n",
    "a"
   ]
  },
  {
   "cell_type": "code",
   "execution_count": null,
   "id": "6ac1b369-bdf7-4fd0-aeae-c7e7f68c0c7a",
   "metadata": {},
   "outputs": [],
   "source": [
    "# It is also important to realize that a slice of an array is a view into the same data. This is called passing by\n",
    "# reference. So modifying the sub array will consequently modify the original array\n",
    "\n",
    "# Here we change the element at position [0, 0], then we can see that the value in the\n",
    "# original array is changed to 50 as well\n",
    "\n",
    "sub_array = a[:2, 1:3]\n",
    "print('sub array:',sub_array)\n",
    "print('a: ',a)\n",
    "sub_array[0,0] = 50\n",
    "print('\\nsub array:',sub_array)\n",
    "print('a: ',a)"
   ]
  },
  {
   "cell_type": "code",
   "execution_count": null,
   "id": "8e9ac1ef-801b-432a-843b-751d13b7b7c9",
   "metadata": {},
   "outputs": [],
   "source": [
    "# we can also use a Boolean mask to easily change values satisfying a certain condition\n",
    "print(a)\n",
    "a[a>0] = 50\n",
    "print(a)"
   ]
  },
  {
   "cell_type": "markdown",
   "id": "990bc5c3-a90a-4554-a68f-1dab6733324c",
   "metadata": {},
   "source": [
    "### Array operations - vectorized calculations"
   ]
  },
  {
   "cell_type": "code",
   "execution_count": null,
   "id": "7a404980-8a99-4f37-9bd6-f760043b660b",
   "metadata": {},
   "outputs": [],
   "source": [
    "# Numpy distributes arithmetic operations element-wise\n",
    "a = np.array([1,2,3])\n",
    "b = np.array([4,5,6])\n",
    "a+b"
   ]
  },
  {
   "cell_type": "code",
   "execution_count": null,
   "id": "353256f8-f7e3-471c-b59d-f9c8fbe2bc4e",
   "metadata": {},
   "outputs": [],
   "source": [
    "# if a scalar is used, then it broadcasts across elements in the list\n",
    "a+2"
   ]
  },
  {
   "cell_type": "markdown",
   "id": "9e7c20c4-44ed-4ba3-907b-f4ec4d49fd34",
   "metadata": {},
   "source": [
    "## Useful functions"
   ]
  },
  {
   "cell_type": "markdown",
   "id": "156d7799-facd-4b9f-9fad-caef2ddee111",
   "metadata": {},
   "source": [
    "Heres a list of some commonly used NumPy functions.  Some of these are already used above. We'll look at some example uses, and for other functions, see the documentation.\n",
    "\n",
    "1. **Creating Arrays**:\n",
    "   - `np.array()`: Create a NumPy array from a Python list or iterable.\n",
    "   - `np.zeros()`: Create an array filled with zeros.\n",
    "   - `np.ones()`: Create an array filled with ones.\n",
    "   - `np.empty()`: Create an uninitialized array.\n",
    "   - `np.arange()`: Create an array with regularly spaced values.\n",
    "   - `np.linspace()`: Create an array with evenly spaced values.\n",
    "\n",
    "2. **Array Information**:\n",
    "   - `np.shape`: Get the dimensions of an array.\n",
    "   - `np.dtype`: Get the data type of elements in an array.\n",
    "\n",
    "3. **Array Manipulation**:\n",
    "   - `np.reshape()`: Reshape an array.\n",
    "   - `np.flatten()`: Flatten an array.\n",
    "   - `np.transpose()`: Transpose an array.\n",
    "   - `np.concatenate()`: Concatenate arrays.\n",
    "   - `np.vstack()` and `np.hstack()`: Stack arrays vertically and horizontally.\n",
    "\n",
    "4. **Mathematical Operations**:\n",
    "   - `np.dot()`: Compute the dot product of two arrays.\n",
    "   - `np.sum()`, `np.mean()`, `np.median()`, `np.std()`, `np.var()`: Compute statistics on arrays.\n",
    "   - `np.min()`, `np.max()`, `np.argmin()`, `np.argmax()`: Find minimum and maximum values and their positions.\n",
    "   - `np.minimum()`, `np.maximum()`:  Element-wise minimum and maximum\n",
    "   - `np.exp()`, `np.log()`, `np.sin()`, `np.cos()`, `np.sqrt()`: Perform element-wise mathematical functions.\n",
    "\n",
    "5. **Random Number Generation**:\n",
    "   - `np.random.rand()`, `np.random.randn()`: Generate random numbers from uniform and normal distributions.\n",
    "   - `np.random.randint()`: Generate random integers.\n",
    "   - `np.random.choice()`: Randomly choose elements from an array."
   ]
  },
  {
   "cell_type": "code",
   "execution_count": null,
   "id": "2a0a254e-c9d9-419e-bbc8-e11f8cc267df",
   "metadata": {},
   "outputs": [],
   "source": [
    "# Example: generate points on a sine curve\n",
    "np.sin(np.linspace(0,2*np.pi,20))"
   ]
  },
  {
   "cell_type": "code",
   "execution_count": null,
   "id": "b2228c6f-4a97-4c1c-a04e-9fee26648476",
   "metadata": {},
   "outputs": [],
   "source": [
    "# Example:  concatenate two arrays\n",
    "np.concatenate((a,b))"
   ]
  },
  {
   "cell_type": "code",
   "execution_count": null,
   "id": "99233c12-e951-47ce-92e7-e7af9c6fc9a4",
   "metadata": {},
   "outputs": [],
   "source": [
    "# Example:  mean and std deviation\n",
    "np.mean(a), np.std(a)"
   ]
  },
  {
   "cell_type": "markdown",
   "id": "4b07cd20-cfcb-4ea5-9ce5-27088f6ea802",
   "metadata": {},
   "source": [
    "### Q: numpy functions\n",
    "Create a random matrix with values=np.random.rand(1000,10).  Calculate and print the mean and standard deviation for values in each *column*.  Hint:  use the option axis=0."
   ]
  },
  {
   "cell_type": "code",
   "execution_count": null,
   "id": "4eb90a62-bbab-452b-ac51-c3befd8cced5",
   "metadata": {},
   "outputs": [],
   "source": [
    "## your answer"
   ]
  },
  {
   "cell_type": "markdown",
   "id": "97f77921-0354-42f8-b8e4-72012f049a4e",
   "metadata": {},
   "source": [
    "## Numpy arrays versus Python lists - differences and when to use"
   ]
  },
  {
   "cell_type": "markdown",
   "id": "2df7a882-1c3b-446e-9c0f-72d7edbd69f0",
   "metadata": {},
   "source": [
    "**Performance:**\n",
    "   - Use NumPy arrays for numerical and scientific computations for better performance.\n",
    "     \n",
    "**Element-Wise Operations:**\n",
    "   - Use NumPy for element-wise operations to write more concise and efficient code.\n",
    "     \n",
    "**Homogeneous vs. Heterogeneous Data:**\n",
    "   - Use NumPy arrays for homogeneous numerical data.\n",
    "   - Use Python lists for general-purpose storage of mixed data types."
   ]
  },
  {
   "cell_type": "markdown",
   "id": "8bd6835b-5e37-4cd9-b73f-5e8fc5e37fda",
   "metadata": {},
   "source": [
    "Indexing/slicing differences.  Numpy arrays are usually better for data, in particular multi-dimensional data"
   ]
  },
  {
   "cell_type": "code",
   "execution_count": null,
   "id": "d1b94159-e82a-47f3-964a-31a2bba5ddb3",
   "metadata": {},
   "outputs": [],
   "source": [
    "# Slicing lists, and in particular multi-dimensional lists, can be more efficient with numpy.  Note the differences in syntax and methods to take slices\n",
    "\n",
    "# NumPy 2D array\n",
    "numpy_array = np.array([[1, 2, 3], [4, 5, 6], [7, 8, 9]])\n",
    "\n",
    "# Equivalent Python nested list\n",
    "python_list = [[1, 2, 3], [4, 5, 6], [7, 8, 9]]\n",
    "\n",
    "# NumPy indexing\n",
    "numpy_element = numpy_array[1, 2]  # Access element at row 1, column 2\n",
    "numpy_row_slice = numpy_array[1]  # Slice entire row at index 1.  Note that also numpy_array[1,:] would return the same thing\n",
    "numpy_column_slice = numpy_array[:, 2]  # Slice entire column at index 2\n",
    "\n",
    "# Python list indexing\n",
    "python_element = python_list[1][2]  # Access element at row 1, column 2\n",
    "python_row_slice = python_list[1]  # Slice entire row at index 1\n",
    "python_column_slice = [row[2] for row in python_list]  # Slice entire column at index 2\n",
    "\n",
    "print(\"NumPy Element:\", numpy_element)\n",
    "print(\"NumPy Row Slice:\", numpy_row_slice)\n",
    "print(\"NumPy Column Slice:\", numpy_column_slice)\n",
    "\n",
    "print(\"Python Element:\", python_element)\n",
    "print(\"Python Row Slice:\", python_row_slice)\n",
    "print(\"Python Column Slice:\", python_column_slice)"
   ]
  },
  {
   "cell_type": "markdown",
   "id": "9dff3e06-6bb3-4be4-aef6-f16049cec4b7",
   "metadata": {},
   "source": [
    "Vectorized operations. Numpy arrays are much more efficient and easier to work with "
   ]
  },
  {
   "cell_type": "code",
   "execution_count": null,
   "id": "0c771042-6118-4641-bb80-2beba71fdfad",
   "metadata": {},
   "outputs": [],
   "source": [
    "# NumPy arrays\n",
    "numpy_array1 = np.array([1, 2, 3, 4])\n",
    "numpy_array2 = np.array([5, 6, 7, 8])\n",
    "\n",
    "# Equivalent Python lists\n",
    "python_list1 = [1, 2, 3, 4]\n",
    "python_list2 = [5, 6, 7, 8]\n",
    "\n",
    "# Vectorized addition with NumPy\n",
    "numpy_result = numpy_array1 + numpy_array2\n",
    "\n",
    "# Equivalent addition with Python lists using list comprehension\n",
    "python_result = [a + b for a, b in zip(python_list1, python_list2)]\n",
    "\n",
    "print(\"NumPy Result:\", numpy_result)\n",
    "print(\"Python Result:\", python_result)"
   ]
  },
  {
   "cell_type": "markdown",
   "id": "1c966e59-9bad-409a-a6cd-93b758650d0e",
   "metadata": {},
   "source": [
    "Sequentially adding elements.  Lists enable this, while numpy arrays need to have a size defined when created."
   ]
  },
  {
   "cell_type": "code",
   "execution_count": null,
   "id": "8b030a33-e451-49d0-9a8e-e28ce564c08a",
   "metadata": {},
   "outputs": [],
   "source": [
    "# Sequentially adding elements with Python lists using append\n",
    "python_list = []\n",
    "\n",
    "counter = 0\n",
    "for i in range(5):\n",
    "    for j in range(5):\n",
    "        if counter%2==0:\n",
    "            python_list.append(counter)\n",
    "        counter = counter+1\n",
    "\n",
    "print(\"Python List created using append:\", python_list)"
   ]
  },
  {
   "cell_type": "markdown",
   "id": "15e374c8-2840-44fc-8ae1-7193c8ff2c58",
   "metadata": {},
   "source": [
    "Mix of types / sizes.  Python lists enable this, while numpy arrays don't"
   ]
  },
  {
   "cell_type": "code",
   "execution_count": null,
   "id": "d0d79c84-5f19-4c62-a704-37647ea5358a",
   "metadata": {},
   "outputs": [],
   "source": [
    "# Mix of types/sizes with Python lists\n",
    "mixed_list = [1, 'two', [3, 4], 5.0]\n",
    "print(\"Mixed List:\", mixed_list)"
   ]
  },
  {
   "cell_type": "markdown",
   "id": "c6895efb-936e-4f8b-9f1e-776ff7b2da2c",
   "metadata": {},
   "source": [
    "### *Q: Numpy vs lists\n",
    "You have data in two variables, with length N:\\\n",
    "N=100\n",
    "data1=np.random.rand(N)\\\n",
    "data2=np.random.rand(N)\\\n",
    "Create a new list `vals` that contains values of data1*data2 only that are greater than 0.5.  Hint:  the steps are multiply the arrays, then make a boolean selector mask, and then save values using this mask.\\\n",
    "After making the numpy code, how would you do this using Python lists?  Compare the differences.\\\n",
    "Bonus:  increase N to 10**7 and use %%time at the beginning of the cell to compare execution time"
   ]
  },
  {
   "cell_type": "code",
   "execution_count": null,
   "id": "02dde876-590f-41f6-87c2-96a8f7d45667",
   "metadata": {},
   "outputs": [],
   "source": [
    "## your answer:  numpy"
   ]
  },
  {
   "cell_type": "code",
   "execution_count": null,
   "id": "e0d5c686-98de-4ef7-aa02-0a0759af9e69",
   "metadata": {},
   "outputs": [],
   "source": [
    "## your answer:  python lists"
   ]
  }
 ],
 "metadata": {
  "kernelspec": {
   "display_name": "Python 3 (ipykernel)",
   "language": "python",
   "name": "python3"
  },
  "language_info": {
   "codemirror_mode": {
    "name": "ipython",
    "version": 3
   },
   "file_extension": ".py",
   "mimetype": "text/x-python",
   "name": "python",
   "nbconvert_exporter": "python",
   "pygments_lexer": "ipython3",
   "version": "3.10.12"
  },
  "toc": {
   "base_numbering": 0
  }
 },
 "nbformat": 4,
 "nbformat_minor": 5
}
