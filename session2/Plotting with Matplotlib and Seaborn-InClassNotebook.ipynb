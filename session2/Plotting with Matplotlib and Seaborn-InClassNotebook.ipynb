{
 "cells": [
  {
   "cell_type": "markdown",
   "id": "7446b6c5-4af9-4c7b-b595-c0c2bdd2b86e",
   "metadata": {},
   "source": [
    "# Plotting with Matplotlib, Pandas, and Seaborn"
   ]
  },
  {
   "cell_type": "markdown",
   "id": "6728ffbc-7373-4ceb-911e-c3d91d7436b7",
   "metadata": {},
   "source": [
    "Selected content and images adapted from:\n",
    "- University of Michigan, Applied Data Science with Python Specialization, Coursera certificate courses (https://www.coursera.org/specializations/data-science-python)\n",
    "- IBM, Data Science Professional Certificate, Coursera certificate courses (https://www.coursera.org/professional-certificates/ibm-data-science)"
   ]
  },
  {
   "cell_type": "code",
   "execution_count": null,
   "id": "82a725f9-927d-45cb-bb47-83306233e9dd",
   "metadata": {},
   "outputs": [],
   "source": [
    "import matplotlib.pyplot as plt\n",
    "import numpy as np\n",
    "import seaborn as sns\n",
    "import pandas as pd"
   ]
  },
  {
   "cell_type": "markdown",
   "id": "8a78834e-5ac6-4878-a43e-f0ddd10dfd32",
   "metadata": {},
   "source": [
    "# Matplotlib"
   ]
  },
  {
   "cell_type": "markdown",
   "id": "947918fc-6102-4880-8ca0-17b31ba7fb71",
   "metadata": {},
   "source": [
    "reference:  https://www.oreilly.com/library/view/python-data-science/9781491912126/ch04.html\n",
    "- conceived by John Hunter in 2002, originally as a patch to IPython for enabling interactive MATLAB-style plotting via gnuplot from the IPython command line\n",
    "- can be used two ways for making figures:\n",
    "  - 1) State-based/current figure and axes commands (MATLAB-style interface)\n",
    "  - 2) Object-oriented"
   ]
  },
  {
   "cell_type": "code",
   "execution_count": null,
   "id": "c84373cf-023b-4850-971b-bb51df72fad2",
   "metadata": {},
   "outputs": [],
   "source": [
    "x = np.linspace(0, 10, 100)"
   ]
  },
  {
   "cell_type": "markdown",
   "id": "04e03345-e117-4dcc-b0a7-c4650f8baa88",
   "metadata": {},
   "source": [
    "## State-based"
   ]
  },
  {
   "cell_type": "code",
   "execution_count": null,
   "id": "ad6a86e2-037b-4e05-a25d-d7bdbfbe7329",
   "metadata": {},
   "outputs": [],
   "source": [
    "plt.figure()  # create a plot figure\n",
    "\n",
    "# create the first of two panels and set current axis\n",
    "plt.subplot(2, 1, 1) # (rows, columns, panel number)\n",
    "plt.plot(x, np.sin(x))\n",
    "\n",
    "# create the second panel and set current axis\n",
    "plt.subplot(2, 1, 2)\n",
    "plt.plot(x, np.cos(x))"
   ]
  },
  {
   "cell_type": "markdown",
   "id": "08967419-d6ce-4ba0-9c06-ad9fb17761d4",
   "metadata": {},
   "source": [
    "## Object-oriented"
   ]
  },
  {
   "cell_type": "code",
   "execution_count": null,
   "id": "b12b5f0b-ecc3-4a62-aaf5-2f14bcb1991a",
   "metadata": {},
   "outputs": [],
   "source": [
    "# First create a grid of plots\n",
    "# ax will be an array of two Axes objects\n",
    "fig, ax = plt.subplots(2,1)\n",
    "\n",
    "# Call plot() method on the appropriate object\n",
    "ax[0].plot(x, np.sin(x))\n",
    "ax[1].plot(x, np.cos(x))"
   ]
  },
  {
   "cell_type": "markdown",
   "id": "c8a9f48b-1082-453d-88cc-b9658dd1fb6e",
   "metadata": {},
   "source": [
    "When to Use Each Approach:\\\n",
    "**State-Based**:\n",
    "- Quick exploratory data analysis.\n",
    "- Simple, one-off plots.\n",
    "- Interactivity through global state changes.\n",
    "\n",
    "\n",
    "**Object-Oriented:**\n",
    "- Complex visualizations.\n",
    "- Fine-grained control over plot elements.\n",
    "- Integration with other libraries or frameworks.\n",
    "\n",
    "We will focus on using the object-oriented interface concept where applicable, because it is more flexible and powerful for making complex plots."
   ]
  },
  {
   "cell_type": "markdown",
   "id": "e28c780e-c519-4a95-ac61-69145b0a1bf1",
   "metadata": {},
   "source": [
    "# Commonly-used plots and options"
   ]
  },
  {
   "cell_type": "markdown",
   "id": "80d8532d-b660-450a-8695-63be20c73c7b",
   "metadata": {},
   "source": [
    "## Line plot (plot) and scatter, with options"
   ]
  },
  {
   "cell_type": "code",
   "execution_count": null,
   "id": "f083b76f-392b-4326-aa90-f5c3a7387238",
   "metadata": {},
   "outputs": [],
   "source": [
    "# generate something to plot\n",
    "x = np.linspace(0,24,100)\n",
    "y = np.sin((x)/24*2*np.pi - np.pi/2)\n",
    "y_noise = y+0.5*(np.random.rand(len(x))-0.5)"
   ]
  },
  {
   "cell_type": "markdown",
   "id": "469ec83a-f4f5-45a5-b55d-890a9dd1132c",
   "metadata": {},
   "source": [
    "make a simple, quick plot"
   ]
  },
  {
   "cell_type": "code",
   "execution_count": null,
   "id": "423361f0-8abf-4303-899d-7499acc7c899",
   "metadata": {},
   "outputs": [],
   "source": [
    "plt.scatter(x,y_noise)\n",
    "plt.plot(x,y)"
   ]
  },
  {
   "cell_type": "markdown",
   "id": "1d4a611f-6874-4860-9029-fd61c9262912",
   "metadata": {},
   "source": [
    "Other plot options (note that also can use shift+tab to show interactively)"
   ]
  },
  {
   "cell_type": "code",
   "execution_count": null,
   "id": "c19eaefa-ac3e-446b-8b47-055092490fb4",
   "metadata": {},
   "outputs": [],
   "source": [
    "plt.plot(x,y)   # show how to see options using shift+tab"
   ]
  },
  {
   "cell_type": "code",
   "execution_count": null,
   "id": "2b010ea2-ddbe-4310-9d00-57ecd8cabd74",
   "metadata": {},
   "outputs": [],
   "source": [
    "# Can also use the '?' to output the information about a function\n",
    "plt.plot?"
   ]
  },
  {
   "cell_type": "markdown",
   "id": "60df126c-bba0-463f-91fa-76700e2390a3",
   "metadata": {},
   "source": [
    "Example with multiple features: use object-oriented method to create subplots, then add labels and other information:\n",
    "- share axes\n",
    "- set the figure size\n",
    "- create labels and legend for each thing plotted\n",
    "- set colors\n",
    "- set the sizes of the tick labels\n",
    "- create x and y axes labels\n",
    "- add a title to each subplot\n",
    "- set axes limits\n",
    "- adjust spacing between the plots\n",
    "- add an overall title\n",
    "- save the figure to file"
   ]
  },
  {
   "cell_type": "code",
   "execution_count": null,
   "id": "624c5d7c-cc78-4c6f-8624-834730c9270a",
   "metadata": {},
   "outputs": [],
   "source": [
    "# Create a new figure with 1 row and 2 columns of subplots, sharing both x and y axes.\n",
    "# The sharing parameter can be [True, False, 'row', 'col'] to control axis sharing.\n",
    "f, ax = plt.subplots(1, 2, sharex=True, sharey=True)\n",
    "\n",
    "# set size of the figure  (default size is [6.4, 4.8])\n",
    "f.set_size_inches(12,4)\n",
    "\n",
    "# plot on each axis\n",
    "ax[0].scatter(x,y_noise,label='Data')\n",
    "ax[0].plot(x,y,label='Model')\n",
    "\n",
    "ax[1].scatter(x,y_noise+0.5,label='Data with offset',color='r')\n",
    "ax[1].plot(x,y,label='Model without offset',color='purple')\n",
    "\n",
    "# set the tick parameters, xlabels, and create legend\n",
    "for a in ax:\n",
    "    a.tick_params(labelsize=14)\n",
    "    a.set_xlabel('Time (hour of day)',fontsize=16)\n",
    "    a.legend(fontsize=14)\n",
    "\n",
    "# add y-axis label, just to the leftmost plot\n",
    "ax[0].set_ylabel('Sun intensity (kW)',fontsize=16)\n",
    "\n",
    "# add a title to each plot\n",
    "ax[0].set_title('Data-model comparison',fontsize=16)\n",
    "ax[1].set_title('Data-model comparison with offset',fontsize=16)\n",
    "\n",
    "# add an overall title to the plots\n",
    "plt.suptitle('Sun intensity over time',fontsize=20,y=1.05)\n",
    "\n",
    "# set the axis limits - note that it will set both, because the axes are shared\n",
    "ax[0].set_xlim([0,24])\n",
    "# ax[0].set_ylim([-2,2])\n",
    "\n",
    "# adjust the spacing between plots\n",
    "plt.subplots_adjust(wspace=0.05)\n",
    "\n",
    "plt.savefig('sun_intensity.pdf')  # note that this needs to come before plt.show()\n",
    "plt.show()  # Show the plot - this line is not needed for single plots in the Jupyter Lab interface"
   ]
  },
  {
   "cell_type": "markdown",
   "id": "4faa2e8d-d41f-4f90-a1b3-4d95a1504b58",
   "metadata": {},
   "source": [
    "https://www.oreilly.com/library/view/python-data-science/9781491912126/ch04.html\n",
    "\n",
    "While most plt functions translate directly to ax methods (such as plt.plot() → ax.plot(), plt.legend() → ax.legend(), etc.), this is not the case for all commands. In particular, functions to set limits, labels, and titles are slightly modified. For transitioning between MATLAB-style functions and object-oriented methods, make the following changes:\n",
    "- plt.xlabel() → ax.set_xlabel()\n",
    "- plt.ylabel() → ax.set_ylabel()\n",
    "- plt.xlim() → ax.set_xlim()\n",
    "- plt.ylim() → ax.set_ylim()\n",
    "- plt.title() → ax.set_title()"
   ]
  },
  {
   "cell_type": "markdown",
   "id": "dac54c1e-2fbd-40d1-9e6b-f3896013f0c1",
   "metadata": {},
   "source": [
    "### plotting styles and options"
   ]
  },
  {
   "cell_type": "code",
   "execution_count": null,
   "id": "3e2ab6fe-a215-43c9-a995-3bb9db62e2f2",
   "metadata": {},
   "outputs": [],
   "source": [
    "## colors and line styles\n",
    "x = np.linspace(0,10,100)\n",
    "plt.plot(x, np.sin(x - 0), color='blue')        # specify color by name\n",
    "plt.plot(x, np.sin(x - 1), color='g')           # short color code (rgbcmyk)\n",
    "plt.plot(x, np.sin(x - 2), color='0.75')        # Grayscale between 0 and 1\n",
    "plt.plot(x, np.sin(x - 3), color='#FFDD44')     # Hex code (RRGGBB from 00 to FF)\n",
    "plt.plot(x, np.sin(x - 4), color=(1.0,0.2,0.3)) # RGB tuple, values 0 and 1\n",
    "plt.plot(x, np.sin(x - 5), color='chartreuse'); # all HTML color names supported"
   ]
  },
  {
   "cell_type": "code",
   "execution_count": null,
   "id": "e530eeba-e86f-4ff9-86ef-319085d0f98b",
   "metadata": {},
   "outputs": [],
   "source": [
    "# Different line styles\n",
    "plt.plot(x, x + 0, linestyle='solid')\n",
    "plt.plot(x, x + 1, linestyle='dashed')\n",
    "plt.plot(x, x + 2, linestyle='dashdot')\n",
    "plt.plot(x, x + 3, linestyle='dotted');\n",
    "\n",
    "# For short, you can use the following codes:\n",
    "plt.plot(x, x + 4, linestyle='-')  # solid\n",
    "plt.plot(x, x + 5, linestyle='--') # dashed\n",
    "plt.plot(x, x + 6, linestyle='-.') # dashdot\n",
    "plt.plot(x, x + 7, linestyle=':')  # dotted\n",
    "\n",
    "# can also include markers in the plot\n",
    "plt.plot(x[::10], x[::10] + 8, linestyle='-',marker='.')"
   ]
  },
  {
   "cell_type": "code",
   "execution_count": null,
   "id": "ef98c2b9-51a1-46d2-ba4d-1c49425ac0fb",
   "metadata": {},
   "outputs": [],
   "source": [
    "# Different markers for scatter plots\n",
    "rng = np.random.RandomState(0)\n",
    "for marker in ['o', '.', ',', 'x', '+', 'v', '^', '<', '>', 's', 'd']:\n",
    "   plt.plot(rng.rand(5), rng.rand(5), marker,\n",
    "            label=\"marker='{0}'\".format(marker))\n",
    "plt.legend(numpoints=1)\n",
    "plt.xlim(0, 1.8);"
   ]
  },
  {
   "cell_type": "markdown",
   "id": "2327f418-3025-4bd5-bb2f-384f0b48437b",
   "metadata": {},
   "source": [
    "## related plots and variations"
   ]
  },
  {
   "cell_type": "code",
   "execution_count": null,
   "id": "44d80d53-2049-4c7d-8e2b-a76d243f73af",
   "metadata": {},
   "outputs": [],
   "source": [
    "# fill_between\n",
    "x = np.linspace(0,10,100)\n",
    "plt.plot(x,np.sin(x))\n",
    "plt.fill_between(x,np.sin(x)-1,np.sin(x)+1,alpha=0.5)"
   ]
  },
  {
   "cell_type": "code",
   "execution_count": null,
   "id": "7e212c97-1f6f-4e7a-bbb1-961198887b4e",
   "metadata": {},
   "outputs": [],
   "source": [
    "# error bar plot\n",
    "x = np.linspace(0, 10, 50)\n",
    "dy = 0.8\n",
    "y = np.sin(x) + dy * np.random.randn(50)\n",
    "\n",
    "plt.errorbar(x, y, yerr=dy, fmt='.', capsize=5, color='k')"
   ]
  },
  {
   "cell_type": "markdown",
   "id": "2e66512e-6960-4c97-9c6f-a072f85a6629",
   "metadata": {},
   "source": [
    "### *Q:  Basic plots.\n",
    "Create a figure with two subplots using Matplotlib where one axis shows a linear function and the other axis shows an exponential function. Use different colors for each line and add legends."
   ]
  },
  {
   "cell_type": "markdown",
   "id": "e61d2a91-2c30-4fe7-a61d-14758ee4c933",
   "metadata": {},
   "source": [
    "## Histogram"
   ]
  },
  {
   "cell_type": "code",
   "execution_count": null,
   "id": "d19c743c-092a-4ea5-91f4-1abe7aa86895",
   "metadata": {},
   "outputs": [],
   "source": [
    "data = np.random.randn(1000)"
   ]
  },
  {
   "cell_type": "code",
   "execution_count": null,
   "id": "ed8d25ac-2ced-4ddd-8c2b-642db6483e9e",
   "metadata": {},
   "outputs": [],
   "source": [
    "plt.hist(data);"
   ]
  },
  {
   "cell_type": "code",
   "execution_count": null,
   "id": "ae462326-784d-47fc-826a-aa1790460a10",
   "metadata": {},
   "outputs": [],
   "source": [
    "# setting options, and plotting as density or counts\n",
    "\n",
    "# note the different numbers of data points\n",
    "x1 = np.random.normal(0, 0.8, 1000)\n",
    "x2 = np.random.normal(-2, 1, 5000)\n",
    "x3 = np.random.normal(3, 2, 100)\n",
    "\n",
    "f,ax = plt.subplots(1,2)\n",
    "f.set_size_inches(8,3)\n",
    "\n",
    "# can use a dictionary to set keyword arguments\n",
    "kwargs_common = {'alpha':0.3,'bins':40}\n",
    "# kwargs_common = dict(alpha=0.3, bins=40)  # note:  can also use this syntax to create a dictionary for these variables\n",
    "\n",
    "# loop through and plot each\n",
    "# Here, will also introduce a few useful loop and plotting shortcuts\n",
    "for i,x in enumerate([x1,x2,x3]):  # enumerate takes integer values for each position in the list\n",
    "    ax[0].hist(x, **kwargs_common)\n",
    "    ax[1].hist(x, **kwargs_common, density=True, label='Data '+str(i))\n",
    "\n",
    "# we can set a global font size with this command:\n",
    "ax[0].set_title('Histogram with counts')\n",
    "ax[0].set_ylabel('Counts')\n",
    "ax[1].set_title('Histogram with Density')\n",
    "ax[1].set_ylabel('Probability density')\n",
    "# loop through axes to set common properties\n",
    "for a in ax:\n",
    "    a.set_xlabel('Value')\n",
    "\n",
    "# add a legend, but put it outside the plot\n",
    "ax[-1].legend(bbox_to_anchor=(1,1), loc='upper left')\n",
    "\n",
    "plt.rc('font', size=14)\n",
    "\n",
    "plt.subplots_adjust(wspace=0.3)"
   ]
  },
  {
   "cell_type": "code",
   "execution_count": null,
   "id": "22ca7f10-5b21-4531-ad75-3266b8e17ca6",
   "metadata": {},
   "outputs": [],
   "source": [
    "# Note other global font properties that can set for titles, labels, ticks, legends\n",
    "\n",
    "# Set the default text font size\n",
    "plt.rc('font', size=16)\n",
    "# Set the axes title font size\n",
    "plt.rc('axes', titlesize=16)\n",
    "# Set the axes labels font size\n",
    "plt.rc('axes', labelsize=16)\n",
    "# Set the font size for x tick labels\n",
    "plt.rc('xtick', labelsize=16)\n",
    "# Set the font size for y tick labels\n",
    "plt.rc('ytick', labelsize=16)\n",
    "# Set the legend font size\n",
    "plt.rc('legend', fontsize=18)\n",
    "# Set the font size of the figure title\n",
    "plt.rc('figure', titlesize=20)"
   ]
  },
  {
   "cell_type": "markdown",
   "id": "f77b2c7c-fc37-45c5-aa26-7b3f91e35a4b",
   "metadata": {},
   "source": [
    "## 2D histogram"
   ]
  },
  {
   "cell_type": "code",
   "execution_count": null,
   "id": "508a4943-dc85-4024-a493-5f672b764ecb",
   "metadata": {},
   "outputs": [],
   "source": [
    "mean = [0, 0]\n",
    "cov = [[1, 1], [1, 2]]\n",
    "x, y = np.random.multivariate_normal(mean, cov, 10000).T\n",
    "\n",
    "# note:  see here for list of colormaps:   https://matplotlib.org/stable/users/explain/colors/colormaps.html\n",
    "cmap = 'viridis'\n",
    "\n",
    "f,ax = plt.subplots(1,2)\n",
    "f.set_size_inches(12,5)\n",
    "\n",
    "cb_kwargs = dict(location='bottom',pad=0.2,shrink=0.7)\n",
    "\n",
    "# typical density histogram\n",
    "a=ax[0]\n",
    "hist = a.hist2d(x, y, bins=50,cmap=cmap)\n",
    "cb = plt.colorbar(hist[3],ax=a,**cb_kwargs)\n",
    "cb.set_label('Counts')\n",
    "a.set_title('Density histogram',fontsize=16)\n",
    "\n",
    "# hex bin\n",
    "a=ax[1]\n",
    "hist = a.hexbin(x, y, gridsize=30,cmap=cmap)\n",
    "cb = plt.colorbar(hist,ax=a,**cb_kwargs)\n",
    "cb.set_label('Counts')\n",
    "a.set_title('Hex bin histogram',fontsize=16)\n",
    "\n",
    "for a in ax:\n",
    "    a.set_xlabel('X value',fontsize=16)\n",
    "    a.set_ylabel('Y value',fontsize=16)\n",
    "\n",
    "plt.subplots_adjust(wspace=0.5)\n",
    "plt.show()"
   ]
  },
  {
   "cell_type": "markdown",
   "id": "37e81582-026f-432d-bd7e-b93f8711414c",
   "metadata": {},
   "source": [
    "# Pandas \"built-in\" plotting"
   ]
  },
  {
   "cell_type": "markdown",
   "id": "bd497f7d-eb6f-44a4-a66d-f7d8797de22c",
   "metadata": {},
   "source": [
    "- Pandas \"built-in\" use of matplotlib for plotting\n",
    "    - includes plot, hist, bar, barh, box, area"
   ]
  },
  {
   "cell_type": "markdown",
   "id": "83e7ef67-4538-42f3-a96a-12c469b88de8",
   "metadata": {},
   "source": [
    "Import data from a .csv"
   ]
  },
  {
   "cell_type": "code",
   "execution_count": null,
   "id": "3a2182b4-3955-45b4-90a2-c3bd50241b0b",
   "metadata": {},
   "outputs": [],
   "source": [
    "url = \"https://zenodo.org/record/7298798/files/daydatamat.csv\"\n",
    "df = pd.read_csv(url,index_col=0)\n",
    "df"
   ]
  },
  {
   "cell_type": "code",
   "execution_count": null,
   "id": "a3a6233a-6597-4570-aa00-43be90c4d75e",
   "metadata": {},
   "outputs": [],
   "source": [
    "# select a subset and make a quick plot\n",
    "dfsel = df[df['Day number']==10]\n",
    "df.hist('Median speed')"
   ]
  },
  {
   "cell_type": "code",
   "execution_count": null,
   "id": "cb559fb2-92dc-49a5-a437-b989b3ab6f82",
   "metadata": {},
   "outputs": [],
   "source": [
    "# use object-oriented plt interface to plot\n",
    "f,ax = plt.subplots(1,1)\n",
    "beenum = 2000\n",
    "dfsel = df[df['Bee unique ID']==beenum]\n",
    "dfsel.plot(x='Day number',y='Honey',ax=ax,label='Bee '+str(beenum))"
   ]
  },
  {
   "cell_type": "code",
   "execution_count": null,
   "id": "eb79630d-ba1e-4d70-835d-1a5e88e67e8b",
   "metadata": {},
   "outputs": [],
   "source": [
    "# different types of plots can make\n",
    "dfsel = df[(df['Day number']==20)]\n",
    "dfsel.plot(x='Median speed',y='Brood care',kind='scatter')"
   ]
  },
  {
   "cell_type": "markdown",
   "id": "45a49d70-8a85-4712-b3d7-a7b7dd286af5",
   "metadata": {},
   "source": [
    "### *Q Make histogram plots\n",
    "Make histogram plots to compare the distribution of time on brood areas (the column 'Brood care'), for days 80 and 81 (set by the column 'Day number').\n",
    "Use either matplotlib, or pandas plotting methods"
   ]
  },
  {
   "cell_type": "code",
   "execution_count": null,
   "id": "16ab3a05-ed4d-4b4e-969a-604c49cbc68e",
   "metadata": {},
   "outputs": [],
   "source": [
    "## Your answer"
   ]
  },
  {
   "cell_type": "markdown",
   "id": "f593c4e1-45ff-4de5-8055-9529399c56b3",
   "metadata": {},
   "source": [
    "# Plotting with Seaborn"
   ]
  },
  {
   "cell_type": "markdown",
   "id": "cee674c2-090c-47d1-b0ff-11a2ecfefd56",
   "metadata": {
    "button": false,
    "editable": true,
    "new_sheet": false,
    "run_control": {
     "read_only": false
    }
   },
   "source": [
    "Seaborn is a Python visualization library based on matplotlib. It provides a high-level interface for drawing attractive statistical graphics.\n",
    "Seaborn is designed with pandas dataframes\n",
    "\n",
    "Pros/cons and things to note when using Seaborn:\n",
    "   - pro: can make very nice looking plots very quickly.  can easily explore relationships between variables\n",
    "   - con: data needs to be in pandas df.  Some plot objects don't work with plt axes (can't make grids easily).  Error bars and kernel density estimates make "
   ]
  },
  {
   "cell_type": "markdown",
   "id": "20ddd32d-3838-4c18-8cb4-1bf34b35f79f",
   "metadata": {},
   "source": [
    "Seaborn in organized into figure-level or axes-level plots. Figure-level plots are high-level functions that create entire figures with multiple subplots, while axes-level plots offer more detailed control over individual plots within a figure.  Axes-level plots can be used on existing or created matplotlib axes"
   ]
  },
  {
   "attachments": {
    "0831cdc3-e345-472a-994c-6217984656bd.png": {
     "image/png": "[encoded data removed]"
    }
   },
   "cell_type": "markdown",
   "id": "fabd9940-101f-431f-9b7e-8e1c73e9da98",
   "metadata": {},
   "source": [
    "![Seaborn Figure and Axes-level plots](attachment:0831cdc3-e345-472a-994c-6217984656bd.png)"
   ]
  },
  {
   "cell_type": "markdown",
   "id": "3efb928f-42b3-4887-a274-d51dac8788aa",
   "metadata": {},
   "source": [
    "### Some same functionality as matplotlib:  for example, histogram"
   ]
  },
  {
   "cell_type": "code",
   "execution_count": null,
   "id": "a561db19-079e-4622-a41e-5f5a09224686",
   "metadata": {},
   "outputs": [],
   "source": [
    "dfsel = df[df['Day number']==10]\n",
    "sns.histplot(x='Honey',data=dfsel)"
   ]
  },
  {
   "cell_type": "markdown",
   "id": "629ee857-9729-4c2f-b817-24f1bba8635e",
   "metadata": {},
   "source": [
    "Can use matplotlib object-oriented axes objects with *most* seaborn plots"
   ]
  },
  {
   "cell_type": "code",
   "execution_count": null,
   "id": "b0914e17-9341-45c7-b2c9-c380b9ce4e46",
   "metadata": {},
   "outputs": [],
   "source": [
    "f,ax=plt.subplots(1,2,figsize=(12,4),sharex=True,sharey=True)\n",
    "\n",
    "a=ax[0]\n",
    "dfsel = df[df['Day number']==10]\n",
    "sns.histplot(x='Median speed',data=dfsel,ax=a)\n",
    "a.set_title('Day 10',fontsize=16)\n",
    "\n",
    "a=ax[1]\n",
    "dfsel = df[df['Day number']==11]\n",
    "sns.histplot(x='Median speed',data=dfsel,ax=ax[1])\n",
    "a.set_title('Day 11',fontsize=16)\n",
    "\n",
    "plt.show()"
   ]
  },
  {
   "cell_type": "markdown",
   "id": "c34fda1b-93e4-4d5c-ae22-20fe8cf3dbc1",
   "metadata": {},
   "source": [
    "note:  this is how you could generalize the above code to loop through days"
   ]
  },
  {
   "cell_type": "code",
   "execution_count": null,
   "id": "e923238e-a5de-428d-95a7-7c55c134a3df",
   "metadata": {},
   "outputs": [],
   "source": [
    "days_to_show = range(80,85)\n",
    "f,ax=plt.subplots(1,len(days_to_show),figsize=(3*len(days_to_show),3),sharex=True,sharey=True)\n",
    "for a,day in zip(ax,days_to_show):\n",
    "    dfsel = df[df['Day number']==day]\n",
    "    sns.histplot(x='Median speed',data=dfsel,ax=a,stat='probability')  # opt\n",
    "    a.set_title('Day '+str(day),fontsize=16)\n",
    "plt.show()"
   ]
  },
  {
   "cell_type": "markdown",
   "id": "476f5b10-7909-4db8-b903-7e0416aa3b20",
   "metadata": {},
   "source": [
    "## Figure-level seaborn plot object:  FacetGrid  "
   ]
  },
  {
   "cell_type": "code",
   "execution_count": null,
   "id": "27262885-f9df-4433-9e3c-b9e7628d88d7",
   "metadata": {},
   "outputs": [],
   "source": [
    "# note that it doesn't work this way!  i.e. it doesn't plot on these axes that are already created\n",
    "f,ax=plt.subplots(1,1)\n",
    "dfsel = df[df['Day number']==80]\n",
    "sns.displot(x='Median speed',data=dfsel,ax=ax)"
   ]
  },
  {
   "cell_type": "code",
   "execution_count": null,
   "id": "a364324c-08dc-497a-a595-2cdc82c12511",
   "metadata": {},
   "outputs": [],
   "source": [
    "# create a grid of histograms\n",
    "dfsel = df[df['Day number'].isin(range(80,85))]\n",
    "sns.displot(x='Median speed',data=dfsel,col='Day number')"
   ]
  },
  {
   "cell_type": "markdown",
   "id": "42458089-19bd-4871-a86c-32cc48481826",
   "metadata": {},
   "source": [
    "Can set some properties very simply in the plot grid"
   ]
  },
  {
   "cell_type": "code",
   "execution_count": null,
   "id": "5afb3af7-7f87-44c3-93e1-725dce5ae9a7",
   "metadata": {},
   "outputs": [],
   "source": [
    "dfsel = df[df['Day number'].isin(range(80,100))]\n",
    "# set the height and aspect ratio when calling\n",
    "g = sns.displot(x='Median speed',data=dfsel,col='Day number',col_wrap=10,height=2.5,aspect=0.8,stat='probability')\n",
    "\n",
    "g.set_xlabels('Median speed\\n(pixels/sec)',fontsize=16)\n",
    "g.set_ylabels('Prob. density',fontsize=16)"
   ]
  },
  {
   "cell_type": "markdown",
   "id": "69ea69e3-ed64-4c39-ab83-75c988ceffae",
   "metadata": {},
   "source": [
    "Can access the fig and axes objects of the plots, in order to use matplotlib-style commands to set properties.\n",
    " (note the slight difference: now the x axis is shared, where above it was not (note the ticks above).  Here, this is due to the default option when not setting height and aspect.  So, you can see there are often specific things to watch for!)"
   ]
  },
  {
   "cell_type": "code",
   "execution_count": null,
   "id": "ab85346e-12c5-4f9b-aaa6-ada761d5da89",
   "metadata": {},
   "outputs": [],
   "source": [
    "dfsel = df[df['Day number'].isin(range(80,100))]\n",
    "# set the height and aspect ratio when calling\n",
    "col_wrap = 10\n",
    "g = sns.displot(x='Median speed',data=dfsel,col='Day number',col_wrap=col_wrap,stat='probability')\n",
    "g.figure.set_size_inches(2.5*10*0.8,5)\n",
    "ax = np.reshape(g.axes,(-1,col_wrap))  # make the axes array have a 2D shape (don't have to do - but this is what matplotlib would have)\n",
    "for a in ax[-1]:\n",
    "    a.set_xlabel('Median speed\\n(pixels/sec)',fontsize=16)\n",
    "for a in ax[:,0]:\n",
    "    a.set_ylabel('Prob. density',fontsize=16)\n",
    "\n",
    "plt.subplots_adjust(hspace=0.3)"
   ]
  },
  {
   "cell_type": "code",
   "execution_count": null,
   "id": "e7bc35ec-0a8a-4d81-9f96-dcc0d37b2bb0",
   "metadata": {},
   "outputs": [],
   "source": []
  },
  {
   "cell_type": "markdown",
   "id": "a6451548-fef0-43c3-b13c-c3f5cee8f5fd",
   "metadata": {},
   "source": [
    "## Multiple conditionally-selected data\n",
    "Examples:\\\n",
    "Figure-level and axes-level functions\\\n",
    "\"Hue\" for different selections (histplot, lineplot, boxplot - axes-level)\\\n",
    "Figure-level functions that can use these:  displot, relplot, catplot\n"
   ]
  },
  {
   "cell_type": "markdown",
   "id": "2f1daad1-78f3-4c4d-a073-af48f69855ee",
   "metadata": {},
   "source": [
    "Seaborn has easy options to make exploratory plots very easily. For example, make multiple histograms, according to cohort"
   ]
  },
  {
   "cell_type": "markdown",
   "id": "ffd98938-7827-41ba-84b7-b2827ed047e0",
   "metadata": {},
   "source": [
    "### Histogram"
   ]
  },
  {
   "cell_type": "code",
   "execution_count": null,
   "id": "66908c5c-5c14-44b3-a209-b27b402e6e73",
   "metadata": {},
   "outputs": [],
   "source": [
    "dfsel = df[df['Cohort ID'].isin(range(10,15))]\n",
    "sns.histplot(x='Brood care',hue='Cohort ID',data=dfsel)"
   ]
  },
  {
   "cell_type": "markdown",
   "id": "8bc9e25d-c6e0-4ae6-ba70-7d43bb95f355",
   "metadata": {},
   "source": [
    "Use displot (figure-level function) to do a similar thing, but in a grid"
   ]
  },
  {
   "cell_type": "code",
   "execution_count": null,
   "id": "442a73bf-f432-4580-a9d1-86f225766101",
   "metadata": {},
   "outputs": [],
   "source": [
    "dfsel = df[df['Cohort ID'].isin(range(10,15))]\n",
    "sns.displot(x='Brood care',data=dfsel,hue='Cohort ID',col='Cohort ID',kind='hist')"
   ]
  },
  {
   "cell_type": "markdown",
   "id": "086139ae-0a4e-4f3f-85a5-f5dcbe37495c",
   "metadata": {},
   "source": [
    "Other type of plot is kernel density estimation (kde).  \n",
    "(there is also ecdf = empirical cumulative distribution function)"
   ]
  },
  {
   "cell_type": "code",
   "execution_count": null,
   "id": "b2bc2c25-b244-4def-b82a-70c366945605",
   "metadata": {},
   "outputs": [],
   "source": [
    "dfsel = df[df['Cohort ID'].isin(range(10,15))]\n",
    "sns.displot(x='Brood care',data=dfsel,hue='Cohort ID',col='Cohort ID',kind='kde')"
   ]
  },
  {
   "cell_type": "markdown",
   "id": "e3c869d0-6e12-4101-b1e8-d22e114115b6",
   "metadata": {},
   "source": [
    "### Lineplot"
   ]
  },
  {
   "cell_type": "code",
   "execution_count": null,
   "id": "b6cb1bfe-cd19-4c1a-afa8-e8b20bb3117d",
   "metadata": {},
   "outputs": [],
   "source": [
    "dfsel = df[df['Cohort ID'].isin(range(10,15))]\n",
    "sns.lineplot(x='Age',y='Honey',hue='Cohort ID',data=dfsel,errorbar='ci')"
   ]
  },
  {
   "cell_type": "code",
   "execution_count": null,
   "id": "e5c21ac0-9b9c-4ecf-9448-f5695583fa50",
   "metadata": {},
   "outputs": [],
   "source": [
    "# recall, can use shift+tab to see information about a function, or run this:\n",
    "# sns.lineplot?"
   ]
  },
  {
   "cell_type": "code",
   "execution_count": null,
   "id": "db250d62-c27c-477c-8c57-87f537f1a7d9",
   "metadata": {},
   "outputs": [],
   "source": [
    "# note the errorbars, and what they represent\n",
    "sns.lineplot(x='Age',y='Honey',hue='Cohort ID',data=dfsel,errorbar='sd')"
   ]
  },
  {
   "cell_type": "markdown",
   "id": "1932d933-e40b-4e16-b1fe-8a18e1835091",
   "metadata": {},
   "source": [
    "Use relplot to do a similar thing.\\\n",
    "replot can also have type 'scatter'"
   ]
  },
  {
   "cell_type": "code",
   "execution_count": null,
   "id": "7db573ab-ad12-44a5-8aa9-d256714cd175",
   "metadata": {},
   "outputs": [],
   "source": [
    "dfsel = df[df['Cohort ID'].isin(range(10,15))]\n",
    "sns.relplot(x='Age',y='Honey',hue='Cohort ID',col='Cohort ID',data=dfsel,errorbar='sd',kind='line')\n",
    "sns.relplot(x='Age',y='Honey',hue='Cohort ID',col='Cohort ID',data=dfsel,kind='scatter')"
   ]
  },
  {
   "cell_type": "markdown",
   "id": "e0c06848-0e63-4de4-8521-aa15cfacc1fe",
   "metadata": {},
   "source": [
    "### *Q: Lineplots - multiple cases\n",
    "Plot the mean values of 'Brood care' and 'Honey' during the whole time period"
   ]
  },
  {
   "cell_type": "markdown",
   "id": "31acd7a7-c372-4581-8dbb-065391962c36",
   "metadata": {},
   "source": [
    "### Boxplot / violinplot"
   ]
  },
  {
   "cell_type": "code",
   "execution_count": null,
   "id": "716eab22-34e6-49bb-a015-bfe5931598ee",
   "metadata": {},
   "outputs": [],
   "source": [
    "dfsel = df[df['Age']<=20]\n",
    "f,ax = plt.subplots(1,1)\n",
    "sns.boxplot(y='Frame 5',x='Age',data=dfsel,ax=ax,showfliers=False)\n",
    "# doing this to convert tick labels to float\n",
    "ax.set_xticks(ax.get_xticks())\n",
    "ax.set_xticklabels([int(float(l.get_text())) for l  in ax.get_xticklabels()]);  "
   ]
  },
  {
   "cell_type": "markdown",
   "id": "b4d2de10-0538-4e85-8e01-74843934f383",
   "metadata": {},
   "source": [
    "Boxplot with hue"
   ]
  },
  {
   "cell_type": "code",
   "execution_count": null,
   "id": "7a67828c-5bd6-4bf9-8ed6-62f63023210d",
   "metadata": {},
   "outputs": [],
   "source": [
    "dfsel = df[df['Age']<=20].copy()\n",
    "# cohorts 8 and 10 are honey bee drones (male reproductives)\n",
    "dfsel['IsDrone'] = dfsel['Cohort ID'].isin([8,10])\n",
    "f,ax = plt.subplots(1,1)\n",
    "f.set_size_inches(10,4)\n",
    "sns.boxplot(y='Frame 5',x='Age',hue='IsDrone',data=dfsel,ax=ax,showfliers=False)\n",
    "# doing this to convert tick labels to float\n",
    "ax.set_xticks(ax.get_xticks())\n",
    "ax.set_xticklabels([int(float(l.get_text())) for l  in ax.get_xticklabels()]);  "
   ]
  },
  {
   "cell_type": "markdown",
   "id": "eafe4862-e969-455f-83aa-4b2f4bfa529c",
   "metadata": {},
   "source": [
    "catplot for figure-level figure.  \n",
    "kind, possible values:  \"strip\", \"swarm\", \"box\", \"violin\", \"boxen\", \"point\", \"bar\", or \"count\""
   ]
  },
  {
   "cell_type": "code",
   "execution_count": null,
   "id": "89f0a73c-c000-4bf6-acf6-bb3d6e4eb933",
   "metadata": {},
   "outputs": [],
   "source": [
    "g = sns.catplot(y='Frame 5',x='Age',hue='IsDrone',data=dfsel,kind='box',aspect=2.5,height=4,showfliers=False)"
   ]
  },
  {
   "cell_type": "markdown",
   "id": "e1bc3d5d-d673-4ec5-97c0-55fc5302e925",
   "metadata": {},
   "source": [
    "Catplot can have different kinds, like displot"
   ]
  },
  {
   "cell_type": "code",
   "execution_count": null,
   "id": "5b225e96-e1d3-4d4e-9a90-eed0d2a44186",
   "metadata": {},
   "outputs": [],
   "source": [
    "# dfsel = df[(df['Cohort ID'].isin([10,11]))&(df['Age']<=20)]\n",
    "dfsel = df[df['Age']<=20].copy()\n",
    "# cohorts 8 and 10 are honey bee drones (male reproductives)\n",
    "dfsel['IsDrone'] = dfsel['Cohort ID'].isin([8,10])\n",
    "sns.catplot(x='Age',y='Honey',col='IsDrone',data=dfsel,height=4,aspect=2,showfliers=False,kind='box')\n",
    "sns.catplot(x='Age',y='Honey',col='IsDrone',data=dfsel,height=4,aspect=2,kind='violin')\n",
    "sns.catplot(x='Age',y='Honey',col='IsDrone',data=dfsel,height=4,aspect=2,showfliers=False,kind='boxen')"
   ]
  },
  {
   "cell_type": "markdown",
   "id": "8732fb17-855f-464a-a051-c600d7754f37",
   "metadata": {},
   "source": [
    "## Other useful seaborn plots"
   ]
  },
  {
   "cell_type": "markdown",
   "id": "f691de59-ed05-42da-ae37-ce4bafe9752d",
   "metadata": {},
   "source": [
    "### regplot:  Regression fit and plot"
   ]
  },
  {
   "cell_type": "markdown",
   "id": "cc1eb200-db63-470f-b4ba-03a3080f6696",
   "metadata": {},
   "source": [
    "This is an axes-level function"
   ]
  },
  {
   "cell_type": "code",
   "execution_count": null,
   "id": "64239a31-11ec-4770-8615-8ca1a4fe97d9",
   "metadata": {},
   "outputs": [],
   "source": [
    "dfsel = df[df['Day number']==20]\n",
    "f,ax = plt.subplots(1,1)\n",
    "sns.regplot(x='Median speed',y='Dispersion (avg)',data=dfsel,scatter=True,ax=ax)"
   ]
  },
  {
   "cell_type": "markdown",
   "id": "9fa6c79b-70de-4a04-894d-9927292ba240",
   "metadata": {},
   "source": [
    "It turns out - there is one more figure-level function that has this same functionality:\n",
    "lmplot"
   ]
  },
  {
   "cell_type": "code",
   "execution_count": null,
   "id": "8b6a001d-2689-4b8c-815f-73afd7e4a77b",
   "metadata": {},
   "outputs": [],
   "source": [
    "dfsel = df[df['Day number'].isin(range(10,25))].copy()\n",
    "dfsel['IsDrone'] = dfsel['Cohort ID'].isin([8,10])\n",
    "g = sns.lmplot(x='Median speed',y='Dispersion (avg)',data=dfsel,scatter=True,col='Day number',col_wrap=5,hue='IsDrone',facet_kws={'sharex':True,'sharey':True})\n",
    "# change the axes limits, because they are too large with outliers\n",
    "g.figure.axes[0].set_xlim([0,60])\n",
    "g.figure.axes[0].set_ylim([0,1500])"
   ]
  },
  {
   "cell_type": "markdown",
   "id": "ef19d24b-e048-41da-9610-8766174c0090",
   "metadata": {},
   "source": [
    "### heatmap - example with correlations"
   ]
  },
  {
   "cell_type": "code",
   "execution_count": null,
   "id": "a44c4bac-b2aa-41d6-b3cc-c2fd92fe4605",
   "metadata": {},
   "outputs": [],
   "source": [
    "# calculate correlation matrix\n",
    "metrics = ['Age','Honey','Brood care','Frame 5','Median speed','Dispersion (avg)','Time outside day1min']\n",
    "correlation_matrix = df[metrics].corr()\n",
    "# Set diagonal elements to NaN.  There are multiple ways one could do this\n",
    "for i in range(correlation_matrix.shape[0]):\n",
    "    correlation_matrix.iloc[i,i] = np.nan\n",
    "v = np.max(np.abs(correlation_matrix))\n",
    "sns.heatmap(correlation_matrix, annot=True, cmap='coolwarm',vmin=-v,vmax=v)"
   ]
  },
  {
   "cell_type": "markdown",
   "id": "e04e1fb3-ae83-4b48-9d09-fa6d0b7002e2",
   "metadata": {},
   "source": [
    "### jointplot and pairplot: Other seaborn types to plot relationships between variables"
   ]
  },
  {
   "cell_type": "markdown",
   "id": "56f6d4e3-897c-44d9-98d3-f61870820f7d",
   "metadata": {},
   "source": [
    "jointplot"
   ]
  },
  {
   "cell_type": "code",
   "execution_count": null,
   "id": "c36bfe61-2055-4b49-848d-219d7cf25332",
   "metadata": {},
   "outputs": [],
   "source": [
    "dfsel = df[df['Day number'].isin(range(10,15))].copy()\n",
    "dfsel['IsDrone'] = dfsel['Cohort ID'].isin([8,10])\n",
    "g = sns.jointplot(x='Median speed',y='Dispersion (avg)',data=dfsel,hue='IsDrone')"
   ]
  },
  {
   "cell_type": "markdown",
   "id": "588afc68-abc7-4aff-8927-b00a0f67a7a5",
   "metadata": {},
   "source": [
    "pairplot plot relationships among variables"
   ]
  },
  {
   "cell_type": "code",
   "execution_count": null,
   "id": "1dd05f42-7766-4686-84d8-3442b3b75f37",
   "metadata": {},
   "outputs": [],
   "source": [
    "dfsel = df[df['Day number'].isin(range(10,15))].copy()\n",
    "dfsel['IsDrone'] = dfsel['Cohort ID'].isin([8,10])\n",
    "dfsel = dfsel[::10]  # skip entries to make plotting faster\n",
    "metrics = ['Age','Honey','Brood care','Frame 5','Median speed','Dispersion (avg)','Time outside day1min','IsDrone']\n",
    "g = sns.pairplot(dfsel[metrics], hue=\"IsDrone\",diag_kind=\"hist\", height=2.5,kind='scatter')"
   ]
  },
  {
   "cell_type": "markdown",
   "id": "7732bc51-b35d-41cf-9625-0dee7e971eab",
   "metadata": {},
   "source": [
    "this is actually a special instance of PairGrid, which can be used with more options"
   ]
  },
  {
   "cell_type": "code",
   "execution_count": null,
   "id": "d8cfc539-bcb3-4932-b8b0-726b0d513c3a",
   "metadata": {
    "scrolled": true
   },
   "outputs": [],
   "source": [
    "dfsel = df[df['Day number'].isin(range(10,15))].copy()\n",
    "dfsel['IsDrone'] = dfsel['Cohort ID'].isin([8,10])\n",
    "dfsel = dfsel[::10]  # skip entries to make plotting faster\n",
    "xmetrics = ['Age','Honey','Brood care','Frame 5']\n",
    "ymetrics = ['Median speed','Dispersion (avg)','Time outside day1min']\n",
    "\n",
    "# make some different types\n",
    "g = sns.PairGrid(dfsel,x_vars=xmetrics,y_vars=ymetrics,hue=\"IsDrone\")\n",
    "# change these to make different types\n",
    "g.map(sns.regplot)\n",
    "# g.map(sns.lineplot)\n",
    "# g.map(sns.scatterplot)\n"
   ]
  }
 ],
 "metadata": {
  "kernelspec": {
   "display_name": "Python 3 (ipykernel)",
   "language": "python",
   "name": "python3"
  },
  "language_info": {
   "codemirror_mode": {
    "name": "ipython",
    "version": 3
   },
   "file_extension": ".py",
   "mimetype": "text/x-python",
   "name": "python",
   "nbconvert_exporter": "python",
   "pygments_lexer": "ipython3",
   "version": "3.10.12"
  }
 },
 "nbformat": 4,
 "nbformat_minor": 5
}
