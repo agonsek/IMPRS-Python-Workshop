{
 "cells": [
  {
   "cell_type": "code",
   "execution_count": 12,
   "id": "ee50b2a6-049e-4e97-a829-884cb1eb58fe",
   "metadata": {},
   "outputs": [],
   "source": [
    "import matplotlib.pyplot as plt\n",
    "import numpy as np\n",
    "import seaborn as sns\n",
    "import pandas as pd\n",
    "import scipy\n",
    "import sklearn.linear_model\n",
    "import sklearn.metrics\n",
    "\n",
    "import keras"
   ]
  },
  {
   "cell_type": "code",
   "execution_count": 13,
   "id": "eff38d9b-ce4f-4903-a155-cc605b771574",
   "metadata": {},
   "outputs": [],
   "source": [
    "from keras.models import Sequential\n",
    "from keras.layers import Dense\n",
    "from keras.utils import np_utils"
   ]
  },
  {
   "cell_type": "code",
   "execution_count": 14,
   "id": "ea8d2058-f4df-471e-9fae-603103922020",
   "metadata": {},
   "outputs": [],
   "source": [
    "from sklearn.model_selection import train_test_split"
   ]
  },
  {
   "cell_type": "markdown",
   "id": "c67a9065-8254-49ab-b0b5-d78610b9d54e",
   "metadata": {},
   "source": [
    "### Machine Learning Frameworks in Python\n",
    "\n",
    "1. **Scikit-Learn**\n",
    "   - Widely used for traditional machine learning algorithms.\n",
    "   - Known for its simplicity and ease of use, particularly well-suited for beginners.\n",
    "\n",
    "2. **TensorFlow**\n",
    "   - Highly popular in deep learning and neural networks.\n",
    "   - Offers robust support for large-scale and complex models.\n",
    "\n",
    "3. **Keras**\n",
    "   - High-level neural networks API, now fully integrated with TensorFlow.\n",
    "   - Focuses on enabling fast experimentation and prototyping.\n",
    "\n",
    "4. **PyTorch**\n",
    "   - Developed by Facebook's AI Research lab.\n",
    "   - Known for its flexibility, ease of use, and dynamic computation graph, making it popular in research."
   ]
  },
  {
   "cell_type": "markdown",
   "id": "85a17db9-7568-4a3f-8221-bb8c44ded4cd",
   "metadata": {},
   "source": [
    "### Summary of TensorFlow\n",
    "\n",
    "- **Comprehensive, Open-Source ML Library**: TensorFlow is an open-source software library for machine learning developed by the Google Brain team. It offers a comprehensive ecosystem of tools, libraries, and community resources that enable researchers and developers to build and deploy ML-powered applications.\n",
    "- **Graph-Based Execution**: TensorFlow operates on a graph-based computation system where mathematical operations are represented as nodes, and data (tensors) flow along edges. This allows for efficient execution and optimization, particularly beneficial for deep learning models."
   ]
  },
  {
   "cell_type": "markdown",
   "id": "c830595c-2f6c-48ed-a708-d49175f511b4",
   "metadata": {},
   "source": [
    "### Overview of Keras\n",
    "\n",
    "#### Introduction to Keras\n",
    "- **High-Level Neural Networks API**: Keras is an open-source neural network library written in Python. It is designed to enable fast experimentation with deep neural networks.\n",
    "- **User-Friendly Interface**: Offers a simpler, more intuitive syntax which is ideal for beginners in deep learning and neural network programming.\n",
    "\n",
    "#### Keras in the TensorFlow Ecosystem\n",
    "- **Integration with TensorFlow**: Originally an independent project, Keras is now fully integrated into TensorFlow as `tf.keras`, making it an official high-level API of TensorFlow.\n",
    "- **Flexibility and Compatibility**: Works seamlessly with core TensorFlow functionality, allowing users to build and train models using Keras with TensorFlow running in the background.\n",
    "- **Support for TensorFlow Features**: Enables access to TensorFlow's advanced features, like distributed training, performance optimizations, and production deployment.\n",
    "\n",
    "#### Key Features and Advantages of Using Keras\n",
    "- **Ease of Use**: Known for its user-friendly and modular approach, making the building and testing of neural networks as straightforward as possible.\n",
    "- **Modularity and Flexibility**: Models in Keras are defined as sequences or graphs of standalone, fully-configurable modules. This modular design is extensible and adaptable to new developments and ideas in the field of deep learning.\n",
    "- **Pre-built Layers and Models**: Offers a wide range of pre-built layers and models, reducing the need for users to start from scratch when building common types of neural networks.\n",
    "- **Rapid Prototyping**: Enables fast and easy prototyping of deep learning models, with a focus on reducing the cognitive load for users.\n"
   ]
  },
  {
   "cell_type": "markdown",
   "id": "86be263f-6fc3-4ca6-ae69-89e5df89984d",
   "metadata": {},
   "source": [
    "## Load data"
   ]
  },
  {
   "cell_type": "code",
   "execution_count": 15,
   "id": "96af6653-220c-4e21-8408-ba226ca56a19",
   "metadata": {},
   "outputs": [],
   "source": [
    "# Download from URL\n",
    "# url = \"https://zenodo.org/record/7298798/files/daydatamat.csv\"\n",
    "# df = pd.read_csv(url,index_col=0)\n",
    "# df"
   ]
  },
  {
   "cell_type": "code",
   "execution_count": 108,
   "id": "2ca10b62-3a6b-4652-8152-45bf7102ff27",
   "metadata": {},
   "outputs": [
    {
     "data": {
      "text/html": [
       "<div>\n",
       "<style scoped>\n",
       "    .dataframe tbody tr th:only-of-type {\n",
       "        vertical-align: middle;\n",
       "    }\n",
       "\n",
       "    .dataframe tbody tr th {\n",
       "        vertical-align: top;\n",
       "    }\n",
       "\n",
       "    .dataframe thead th {\n",
       "        text-align: right;\n",
       "    }\n",
       "</style>\n",
       "<table border=\"1\" class=\"dataframe\">\n",
       "  <thead>\n",
       "    <tr style=\"text-align: right;\">\n",
       "      <th></th>\n",
       "      <th>Age</th>\n",
       "      <th>Day number</th>\n",
       "      <th>Bee unique ID</th>\n",
       "      <th>Cohort ID</th>\n",
       "      <th>Honey</th>\n",
       "      <th>Brood care</th>\n",
       "      <th>Pollen</th>\n",
       "      <th>Dance floor</th>\n",
       "      <th>Other</th>\n",
       "      <th>Frame 0</th>\n",
       "      <th>...</th>\n",
       "      <th>Frame 2 - Num. crossings</th>\n",
       "      <th>Frame 3 - Num. crossings</th>\n",
       "      <th>Frame 4 - Num. crossings</th>\n",
       "      <th>Frame 5 - Num. crossings</th>\n",
       "      <th>Dispersion-minute avg.</th>\n",
       "      <th>Speed circadian coeff.</th>\n",
       "      <th>Time outside day5min</th>\n",
       "      <th>Num. outside trips day5min</th>\n",
       "      <th>Time outside day1min</th>\n",
       "      <th>Num. outside trips day1min</th>\n",
       "    </tr>\n",
       "  </thead>\n",
       "  <tbody>\n",
       "    <tr>\n",
       "      <th>0</th>\n",
       "      <td>22.0</td>\n",
       "      <td>0</td>\n",
       "      <td>4.0</td>\n",
       "      <td>1.0</td>\n",
       "      <td>0.045395</td>\n",
       "      <td>0.212332</td>\n",
       "      <td>0.008444</td>\n",
       "      <td>0.0</td>\n",
       "      <td>0.733829</td>\n",
       "      <td>0.000775</td>\n",
       "      <td>...</td>\n",
       "      <td>40.0</td>\n",
       "      <td>0.0</td>\n",
       "      <td>20.0</td>\n",
       "      <td>46.0</td>\n",
       "      <td>116.373039</td>\n",
       "      <td>-0.509029</td>\n",
       "      <td>0.0</td>\n",
       "      <td>0.0</td>\n",
       "      <td>0.010417</td>\n",
       "      <td>11.0</td>\n",
       "    </tr>\n",
       "    <tr>\n",
       "      <th>1</th>\n",
       "      <td>22.0</td>\n",
       "      <td>0</td>\n",
       "      <td>6.0</td>\n",
       "      <td>1.0</td>\n",
       "      <td>0.036709</td>\n",
       "      <td>0.187211</td>\n",
       "      <td>0.048712</td>\n",
       "      <td>0.0</td>\n",
       "      <td>0.727368</td>\n",
       "      <td>0.021694</td>\n",
       "      <td>...</td>\n",
       "      <td>84.0</td>\n",
       "      <td>2.0</td>\n",
       "      <td>36.0</td>\n",
       "      <td>104.0</td>\n",
       "      <td>156.944835</td>\n",
       "      <td>-0.565287</td>\n",
       "      <td>0.0</td>\n",
       "      <td>0.0</td>\n",
       "      <td>0.004167</td>\n",
       "      <td>6.0</td>\n",
       "    </tr>\n",
       "    <tr>\n",
       "      <th>2</th>\n",
       "      <td>22.0</td>\n",
       "      <td>0</td>\n",
       "      <td>7.0</td>\n",
       "      <td>1.0</td>\n",
       "      <td>0.255499</td>\n",
       "      <td>0.357586</td>\n",
       "      <td>0.042301</td>\n",
       "      <td>0.0</td>\n",
       "      <td>0.344614</td>\n",
       "      <td>0.000000</td>\n",
       "      <td>...</td>\n",
       "      <td>71.0</td>\n",
       "      <td>0.0</td>\n",
       "      <td>83.0</td>\n",
       "      <td>32.0</td>\n",
       "      <td>152.676205</td>\n",
       "      <td>-0.624841</td>\n",
       "      <td>0.0</td>\n",
       "      <td>0.0</td>\n",
       "      <td>0.000000</td>\n",
       "      <td>0.0</td>\n",
       "    </tr>\n",
       "    <tr>\n",
       "      <th>3</th>\n",
       "      <td>22.0</td>\n",
       "      <td>0</td>\n",
       "      <td>9.0</td>\n",
       "      <td>1.0</td>\n",
       "      <td>0.199898</td>\n",
       "      <td>0.162891</td>\n",
       "      <td>0.035332</td>\n",
       "      <td>0.0</td>\n",
       "      <td>0.601880</td>\n",
       "      <td>0.000000</td>\n",
       "      <td>...</td>\n",
       "      <td>43.0</td>\n",
       "      <td>1.0</td>\n",
       "      <td>29.0</td>\n",
       "      <td>63.0</td>\n",
       "      <td>167.909343</td>\n",
       "      <td>-0.580714</td>\n",
       "      <td>0.0</td>\n",
       "      <td>0.0</td>\n",
       "      <td>0.000000</td>\n",
       "      <td>0.0</td>\n",
       "    </tr>\n",
       "    <tr>\n",
       "      <th>4</th>\n",
       "      <td>22.0</td>\n",
       "      <td>0</td>\n",
       "      <td>11.0</td>\n",
       "      <td>1.0</td>\n",
       "      <td>0.068730</td>\n",
       "      <td>0.160821</td>\n",
       "      <td>0.045910</td>\n",
       "      <td>0.0</td>\n",
       "      <td>0.724540</td>\n",
       "      <td>0.004808</td>\n",
       "      <td>...</td>\n",
       "      <td>55.0</td>\n",
       "      <td>4.0</td>\n",
       "      <td>61.0</td>\n",
       "      <td>45.0</td>\n",
       "      <td>140.118809</td>\n",
       "      <td>-0.418582</td>\n",
       "      <td>0.0</td>\n",
       "      <td>0.0</td>\n",
       "      <td>0.000000</td>\n",
       "      <td>0.0</td>\n",
       "    </tr>\n",
       "    <tr>\n",
       "      <th>...</th>\n",
       "      <td>...</td>\n",
       "      <td>...</td>\n",
       "      <td>...</td>\n",
       "      <td>...</td>\n",
       "      <td>...</td>\n",
       "      <td>...</td>\n",
       "      <td>...</td>\n",
       "      <td>...</td>\n",
       "      <td>...</td>\n",
       "      <td>...</td>\n",
       "      <td>...</td>\n",
       "      <td>...</td>\n",
       "      <td>...</td>\n",
       "      <td>...</td>\n",
       "      <td>...</td>\n",
       "      <td>...</td>\n",
       "      <td>...</td>\n",
       "      <td>...</td>\n",
       "      <td>...</td>\n",
       "      <td>...</td>\n",
       "      <td>...</td>\n",
       "    </tr>\n",
       "    <tr>\n",
       "      <th>202704</th>\n",
       "      <td>33.0</td>\n",
       "      <td>115</td>\n",
       "      <td>8095.0</td>\n",
       "      <td>29.0</td>\n",
       "      <td>0.000000</td>\n",
       "      <td>0.000000</td>\n",
       "      <td>0.000000</td>\n",
       "      <td>0.0</td>\n",
       "      <td>1.000000</td>\n",
       "      <td>0.000000</td>\n",
       "      <td>...</td>\n",
       "      <td>0.0</td>\n",
       "      <td>0.0</td>\n",
       "      <td>0.0</td>\n",
       "      <td>0.0</td>\n",
       "      <td>NaN</td>\n",
       "      <td>0.382683</td>\n",
       "      <td>0.0</td>\n",
       "      <td>0.0</td>\n",
       "      <td>0.000000</td>\n",
       "      <td>0.0</td>\n",
       "    </tr>\n",
       "    <tr>\n",
       "      <th>202705</th>\n",
       "      <td>33.0</td>\n",
       "      <td>115</td>\n",
       "      <td>8144.0</td>\n",
       "      <td>29.0</td>\n",
       "      <td>0.000000</td>\n",
       "      <td>0.371179</td>\n",
       "      <td>0.000000</td>\n",
       "      <td>0.0</td>\n",
       "      <td>0.628821</td>\n",
       "      <td>0.000000</td>\n",
       "      <td>...</td>\n",
       "      <td>0.0</td>\n",
       "      <td>0.0</td>\n",
       "      <td>0.0</td>\n",
       "      <td>0.0</td>\n",
       "      <td>NaN</td>\n",
       "      <td>0.382683</td>\n",
       "      <td>0.0</td>\n",
       "      <td>0.0</td>\n",
       "      <td>0.000000</td>\n",
       "      <td>0.0</td>\n",
       "    </tr>\n",
       "    <tr>\n",
       "      <th>202706</th>\n",
       "      <td>29.0</td>\n",
       "      <td>115</td>\n",
       "      <td>8277.0</td>\n",
       "      <td>30.0</td>\n",
       "      <td>0.000000</td>\n",
       "      <td>0.000000</td>\n",
       "      <td>0.000000</td>\n",
       "      <td>0.0</td>\n",
       "      <td>1.000000</td>\n",
       "      <td>0.000000</td>\n",
       "      <td>...</td>\n",
       "      <td>0.0</td>\n",
       "      <td>0.0</td>\n",
       "      <td>0.0</td>\n",
       "      <td>1.0</td>\n",
       "      <td>NaN</td>\n",
       "      <td>0.382683</td>\n",
       "      <td>0.0</td>\n",
       "      <td>0.0</td>\n",
       "      <td>0.000000</td>\n",
       "      <td>0.0</td>\n",
       "    </tr>\n",
       "    <tr>\n",
       "      <th>202707</th>\n",
       "      <td>29.0</td>\n",
       "      <td>115</td>\n",
       "      <td>8427.0</td>\n",
       "      <td>30.0</td>\n",
       "      <td>0.972222</td>\n",
       "      <td>0.027778</td>\n",
       "      <td>0.000000</td>\n",
       "      <td>0.0</td>\n",
       "      <td>0.000000</td>\n",
       "      <td>0.000000</td>\n",
       "      <td>...</td>\n",
       "      <td>0.0</td>\n",
       "      <td>0.0</td>\n",
       "      <td>0.0</td>\n",
       "      <td>0.0</td>\n",
       "      <td>NaN</td>\n",
       "      <td>0.382683</td>\n",
       "      <td>0.0</td>\n",
       "      <td>0.0</td>\n",
       "      <td>0.000000</td>\n",
       "      <td>0.0</td>\n",
       "    </tr>\n",
       "    <tr>\n",
       "      <th>202708</th>\n",
       "      <td>29.0</td>\n",
       "      <td>115</td>\n",
       "      <td>8436.0</td>\n",
       "      <td>30.0</td>\n",
       "      <td>0.000000</td>\n",
       "      <td>0.000000</td>\n",
       "      <td>0.000000</td>\n",
       "      <td>0.0</td>\n",
       "      <td>1.000000</td>\n",
       "      <td>0.000000</td>\n",
       "      <td>...</td>\n",
       "      <td>0.0</td>\n",
       "      <td>0.0</td>\n",
       "      <td>1.0</td>\n",
       "      <td>0.0</td>\n",
       "      <td>NaN</td>\n",
       "      <td>0.382683</td>\n",
       "      <td>0.0</td>\n",
       "      <td>0.0</td>\n",
       "      <td>0.000000</td>\n",
       "      <td>0.0</td>\n",
       "    </tr>\n",
       "  </tbody>\n",
       "</table>\n",
       "<p>202709 rows × 38 columns</p>\n",
       "</div>"
      ],
      "text/plain": [
       "         Age  Day number  Bee unique ID  Cohort ID     Honey  Brood care  \\\n",
       "0       22.0           0            4.0        1.0  0.045395    0.212332   \n",
       "1       22.0           0            6.0        1.0  0.036709    0.187211   \n",
       "2       22.0           0            7.0        1.0  0.255499    0.357586   \n",
       "3       22.0           0            9.0        1.0  0.199898    0.162891   \n",
       "4       22.0           0           11.0        1.0  0.068730    0.160821   \n",
       "...      ...         ...            ...        ...       ...         ...   \n",
       "202704  33.0         115         8095.0       29.0  0.000000    0.000000   \n",
       "202705  33.0         115         8144.0       29.0  0.000000    0.371179   \n",
       "202706  29.0         115         8277.0       30.0  0.000000    0.000000   \n",
       "202707  29.0         115         8427.0       30.0  0.972222    0.027778   \n",
       "202708  29.0         115         8436.0       30.0  0.000000    0.000000   \n",
       "\n",
       "          Pollen  Dance floor     Other   Frame 0  ...  \\\n",
       "0       0.008444          0.0  0.733829  0.000775  ...   \n",
       "1       0.048712          0.0  0.727368  0.021694  ...   \n",
       "2       0.042301          0.0  0.344614  0.000000  ...   \n",
       "3       0.035332          0.0  0.601880  0.000000  ...   \n",
       "4       0.045910          0.0  0.724540  0.004808  ...   \n",
       "...          ...          ...       ...       ...  ...   \n",
       "202704  0.000000          0.0  1.000000  0.000000  ...   \n",
       "202705  0.000000          0.0  0.628821  0.000000  ...   \n",
       "202706  0.000000          0.0  1.000000  0.000000  ...   \n",
       "202707  0.000000          0.0  0.000000  0.000000  ...   \n",
       "202708  0.000000          0.0  1.000000  0.000000  ...   \n",
       "\n",
       "        Frame 2 - Num. crossings  Frame 3 - Num. crossings  \\\n",
       "0                           40.0                       0.0   \n",
       "1                           84.0                       2.0   \n",
       "2                           71.0                       0.0   \n",
       "3                           43.0                       1.0   \n",
       "4                           55.0                       4.0   \n",
       "...                          ...                       ...   \n",
       "202704                       0.0                       0.0   \n",
       "202705                       0.0                       0.0   \n",
       "202706                       0.0                       0.0   \n",
       "202707                       0.0                       0.0   \n",
       "202708                       0.0                       0.0   \n",
       "\n",
       "        Frame 4 - Num. crossings  Frame 5 - Num. crossings  \\\n",
       "0                           20.0                      46.0   \n",
       "1                           36.0                     104.0   \n",
       "2                           83.0                      32.0   \n",
       "3                           29.0                      63.0   \n",
       "4                           61.0                      45.0   \n",
       "...                          ...                       ...   \n",
       "202704                       0.0                       0.0   \n",
       "202705                       0.0                       0.0   \n",
       "202706                       0.0                       1.0   \n",
       "202707                       0.0                       0.0   \n",
       "202708                       1.0                       0.0   \n",
       "\n",
       "        Dispersion-minute avg.  Speed circadian coeff.  Time outside day5min  \\\n",
       "0                   116.373039               -0.509029                   0.0   \n",
       "1                   156.944835               -0.565287                   0.0   \n",
       "2                   152.676205               -0.624841                   0.0   \n",
       "3                   167.909343               -0.580714                   0.0   \n",
       "4                   140.118809               -0.418582                   0.0   \n",
       "...                        ...                     ...                   ...   \n",
       "202704                     NaN                0.382683                   0.0   \n",
       "202705                     NaN                0.382683                   0.0   \n",
       "202706                     NaN                0.382683                   0.0   \n",
       "202707                     NaN                0.382683                   0.0   \n",
       "202708                     NaN                0.382683                   0.0   \n",
       "\n",
       "        Num. outside trips day5min  Time outside day1min  \\\n",
       "0                              0.0              0.010417   \n",
       "1                              0.0              0.004167   \n",
       "2                              0.0              0.000000   \n",
       "3                              0.0              0.000000   \n",
       "4                              0.0              0.000000   \n",
       "...                            ...                   ...   \n",
       "202704                         0.0              0.000000   \n",
       "202705                         0.0              0.000000   \n",
       "202706                         0.0              0.000000   \n",
       "202707                         0.0              0.000000   \n",
       "202708                         0.0              0.000000   \n",
       "\n",
       "        Num. outside trips day1min  \n",
       "0                             11.0  \n",
       "1                              6.0  \n",
       "2                              0.0  \n",
       "3                              0.0  \n",
       "4                              0.0  \n",
       "...                            ...  \n",
       "202704                         0.0  \n",
       "202705                         0.0  \n",
       "202706                         0.0  \n",
       "202707                         0.0  \n",
       "202708                         0.0  \n",
       "\n",
       "[202709 rows x 38 columns]"
      ]
     },
     "execution_count": 108,
     "metadata": {},
     "output_type": "execute_result"
    }
   ],
   "source": [
    "# Use local file \n",
    "path = '../data/daydatamat.csv'\n",
    "path = 'daydatamat.csv'\n",
    "df = pd.read_csv(path,index_col=0)\n",
    "df"
   ]
  },
  {
   "cell_type": "code",
   "execution_count": 109,
   "id": "214adc77-4f60-427b-891a-3a358c3d516f",
   "metadata": {},
   "outputs": [
    {
     "data": {
      "text/plain": [
       "(21200, 39)"
      ]
     },
     "execution_count": 109,
     "metadata": {},
     "output_type": "execute_result"
    }
   ],
   "source": [
    "# Take a subset for use in model fitting in these examples\n",
    "df_classify = df[df['Cohort ID'].isin([7,8,9,10])].copy()\n",
    "df_classify['IsDrone'] = df_classify['Cohort ID'].isin([8,10])\n",
    "df_classify.shape"
   ]
  },
  {
   "cell_type": "markdown",
   "id": "3802c55b-1b77-4ae4-b482-071d3a892440",
   "metadata": {},
   "source": [
    "# Binary classifier"
   ]
  },
  {
   "cell_type": "markdown",
   "id": "9ed48438-5422-4a5e-a023-319fae237817",
   "metadata": {},
   "source": [
    "## Prepare data"
   ]
  },
  {
   "cell_type": "code",
   "execution_count": 110,
   "id": "70f5d866-e805-49b5-b2d2-9bd732e5923d",
   "metadata": {},
   "outputs": [],
   "source": [
    "# Define input metrics\n",
    "input_metrics = ['Num. observations', 'Honey', 'Brood care', 'Pollen', 'Frame 5', 'Median speed', 'Dispersion (avg)', 'Exit distance (median)']\n",
    "X = df_classify[input_metrics].values\n",
    "\n",
    "# standardize the data\n",
    "X = (X-np.mean(X,axis=0))/np.std(X,axis=0)\n",
    "\n",
    "## use this for drone/worker classification\n",
    "y = np.tile('Worker',len(X))\n",
    "y[df_classify['IsDrone']] = 'Drone'\n",
    "\n",
    "## use this for cohort ID classification\n",
    "# y = df_classify['Cohort ID']\n",
    "\n",
    "# Encode the labels\n",
    "label_encoder = sklearn.preprocessing.LabelEncoder()\n",
    "y_encoded = label_encoder.fit_transform(y)\n",
    "\n",
    "# Split the dataset\n",
    "x_train, x_test, y_train, y_test = train_test_split(X, y_encoded, test_size=0.2, random_state=5)"
   ]
  },
  {
   "cell_type": "markdown",
   "id": "b1963de0-a746-4ee9-9820-f3826740268b",
   "metadata": {},
   "source": [
    "## Define model"
   ]
  },
  {
   "cell_type": "code",
   "execution_count": 48,
   "id": "d8da7a31-17c2-42bb-a927-f6cc53c11723",
   "metadata": {},
   "outputs": [],
   "source": [
    "# Create a Sequential model\n",
    "model = Sequential()\n",
    "model.add(Dense(100, input_dim=len(input_metrics), activation='relu'))  # Hidden layer with 100 neurons\n",
    "model.add(Dense(1, activation='sigmoid'))  # Output layer; use 'softmax' for multi-class\n",
    "\n",
    "# Compile the model\n",
    "model.compile(loss='binary_crossentropy', optimizer='adam', metrics=['accuracy'])  # Use 'categorical_crossentropy' for multi-class"
   ]
  },
  {
   "cell_type": "markdown",
   "id": "cfc072f2-47e4-41d1-be06-0f0316947c9a",
   "metadata": {},
   "source": [
    "## Train model"
   ]
  },
  {
   "cell_type": "markdown",
   "id": "16f7d1e6-c32d-47e8-9df2-4293700c3756",
   "metadata": {},
   "source": [
    "Workflow:\n",
    "- First, above, the data was split into a training set and a test set.\n",
    "- Then, during the model training, use the validation_split parameter to further split the training set into training and validation subsets.\n",
    "- After training and tuning your model using the training and validation sets, perform the final evaluation on the test set."
   ]
  },
  {
   "cell_type": "markdown",
   "id": "d4493db6-6e0c-42ea-a835-a5657004afc0",
   "metadata": {},
   "source": [
    "**Note - Effects of batch size**\n",
    "\n",
    "\"epoch\" refers to one complete pass through the entire training dataset, while a \"batch\" is a subset of the training data used to compute and apply a single update to the model's parameters during an epoch.\n",
    "\n",
    "Effects of Different batch_size Values\\\n",
    "**Small Batch Size (e.g., 1-32)**\n",
    "- (+) Often leads to faster convergence per epoch, as the model updates weights more frequently.\n",
    "- (+) Can navigate the loss landscape more effectively, potentially avoiding local minima.\n",
    "- (+) Uses less memory, enabling training with limited resources.\n",
    "- (-) More updates can make training slower in terms of wall-clock time.\n",
    "- (-) Can lead to a higher variance in the training process, sometimes resulting in instability.\n",
    "- (-) May not utilize GPU acceleration to its fullest.\n",
    "\n",
    "**Moderate Batch Size (e.g., 64-128)**\n",
    "- (+) Strikes a balance between computational efficiency and convergence quality.\n",
    "- (+) Less memory-intensive than very large batches, while still leveraging GPU acceleration.\n",
    "- (-) Might not be the most optimal in terms of training speed or model performance; requires experimentation.\n",
    "  \n",
    "**Large Batch Size (e.g., 512-2048)**\n",
    "- (+) More efficient use of GPU resources; can lead to faster training in terms of wall-clock time.\n",
    "- (+) Tends to have a more stable and less noisy gradient estimate.\n",
    "- (-) Might require significant memory, especially for large models.\n",
    "- (-) Can lead to poorer generalization (i.e., higher validation/test error).\n",
    "- (-) May converge to sharp minima, impacting model's ability to generalize well.\n"
   ]
  },
  {
   "cell_type": "code",
   "execution_count": 114,
   "id": "837d9c22-f5f7-467c-a0c1-3c97dfa0c669",
   "metadata": {
    "scrolled": true
   },
   "outputs": [
    {
     "name": "stdout",
     "output_type": "stream",
     "text": [
      "Epoch 1/50\n",
      "106/106 [==============================] - 0s 1ms/step - loss: 0.3404 - accuracy: 0.8977 - val_loss: 0.1850 - val_accuracy: 0.9608\n",
      "Epoch 2/50\n",
      "106/106 [==============================] - 0s 572us/step - loss: 0.1361 - accuracy: 0.9673 - val_loss: 0.1145 - val_accuracy: 0.9679\n",
      "Epoch 3/50\n",
      "106/106 [==============================] - 0s 557us/step - loss: 0.0979 - accuracy: 0.9721 - val_loss: 0.0949 - val_accuracy: 0.9693\n",
      "Epoch 4/50\n",
      "106/106 [==============================] - 0s 551us/step - loss: 0.0848 - accuracy: 0.9732 - val_loss: 0.0851 - val_accuracy: 0.9708\n",
      "Epoch 5/50\n",
      "106/106 [==============================] - 0s 558us/step - loss: 0.0781 - accuracy: 0.9739 - val_loss: 0.0805 - val_accuracy: 0.9717\n",
      "Epoch 6/50\n",
      "106/106 [==============================] - 0s 541us/step - loss: 0.0740 - accuracy: 0.9754 - val_loss: 0.0759 - val_accuracy: 0.9723\n",
      "Epoch 7/50\n",
      "106/106 [==============================] - 0s 556us/step - loss: 0.0712 - accuracy: 0.9761 - val_loss: 0.0732 - val_accuracy: 0.9732\n",
      "Epoch 8/50\n",
      "106/106 [==============================] - 0s 535us/step - loss: 0.0691 - accuracy: 0.9768 - val_loss: 0.0702 - val_accuracy: 0.9746\n",
      "Epoch 9/50\n",
      "106/106 [==============================] - 0s 532us/step - loss: 0.0670 - accuracy: 0.9774 - val_loss: 0.0689 - val_accuracy: 0.9746\n",
      "Epoch 10/50\n",
      "106/106 [==============================] - 0s 539us/step - loss: 0.0654 - accuracy: 0.9783 - val_loss: 0.0670 - val_accuracy: 0.9764\n",
      "Epoch 11/50\n",
      "106/106 [==============================] - 0s 527us/step - loss: 0.0643 - accuracy: 0.9790 - val_loss: 0.0657 - val_accuracy: 0.9773\n",
      "Epoch 12/50\n",
      "106/106 [==============================] - 0s 543us/step - loss: 0.0630 - accuracy: 0.9800 - val_loss: 0.0644 - val_accuracy: 0.9773\n",
      "Epoch 13/50\n",
      "106/106 [==============================] - 0s 533us/step - loss: 0.0622 - accuracy: 0.9792 - val_loss: 0.0650 - val_accuracy: 0.9758\n",
      "Epoch 14/50\n",
      "106/106 [==============================] - 0s 548us/step - loss: 0.0613 - accuracy: 0.9795 - val_loss: 0.0629 - val_accuracy: 0.9776\n",
      "Epoch 15/50\n",
      "106/106 [==============================] - 0s 542us/step - loss: 0.0602 - accuracy: 0.9798 - val_loss: 0.0628 - val_accuracy: 0.9782\n",
      "Epoch 16/50\n",
      "106/106 [==============================] - 0s 544us/step - loss: 0.0596 - accuracy: 0.9802 - val_loss: 0.0612 - val_accuracy: 0.9782\n",
      "Epoch 17/50\n",
      "106/106 [==============================] - 0s 534us/step - loss: 0.0589 - accuracy: 0.9799 - val_loss: 0.0612 - val_accuracy: 0.9797\n",
      "Epoch 18/50\n",
      "106/106 [==============================] - 0s 538us/step - loss: 0.0583 - accuracy: 0.9809 - val_loss: 0.0610 - val_accuracy: 0.9794\n",
      "Epoch 19/50\n",
      "106/106 [==============================] - 0s 533us/step - loss: 0.0577 - accuracy: 0.9805 - val_loss: 0.0594 - val_accuracy: 0.9805\n",
      "Epoch 20/50\n",
      "106/106 [==============================] - 0s 555us/step - loss: 0.0574 - accuracy: 0.9809 - val_loss: 0.0586 - val_accuracy: 0.9808\n",
      "Epoch 21/50\n",
      "106/106 [==============================] - 0s 549us/step - loss: 0.0565 - accuracy: 0.9811 - val_loss: 0.0584 - val_accuracy: 0.9814\n",
      "Epoch 22/50\n",
      "106/106 [==============================] - 0s 559us/step - loss: 0.0564 - accuracy: 0.9817 - val_loss: 0.0583 - val_accuracy: 0.9808\n",
      "Epoch 23/50\n",
      "106/106 [==============================] - 0s 532us/step - loss: 0.0560 - accuracy: 0.9813 - val_loss: 0.0585 - val_accuracy: 0.9797\n",
      "Epoch 24/50\n",
      "106/106 [==============================] - 0s 539us/step - loss: 0.0556 - accuracy: 0.9819 - val_loss: 0.0578 - val_accuracy: 0.9808\n",
      "Epoch 25/50\n",
      "106/106 [==============================] - 0s 554us/step - loss: 0.0551 - accuracy: 0.9820 - val_loss: 0.0571 - val_accuracy: 0.9814\n",
      "Epoch 26/50\n",
      "106/106 [==============================] - 0s 543us/step - loss: 0.0545 - accuracy: 0.9818 - val_loss: 0.0574 - val_accuracy: 0.9805\n",
      "Epoch 27/50\n",
      "106/106 [==============================] - 0s 550us/step - loss: 0.0544 - accuracy: 0.9821 - val_loss: 0.0562 - val_accuracy: 0.9823\n",
      "Epoch 28/50\n",
      "106/106 [==============================] - 0s 558us/step - loss: 0.0540 - accuracy: 0.9823 - val_loss: 0.0558 - val_accuracy: 0.9820\n",
      "Epoch 29/50\n",
      "106/106 [==============================] - 0s 577us/step - loss: 0.0537 - accuracy: 0.9828 - val_loss: 0.0558 - val_accuracy: 0.9823\n",
      "Epoch 30/50\n",
      "106/106 [==============================] - 0s 551us/step - loss: 0.0533 - accuracy: 0.9828 - val_loss: 0.0557 - val_accuracy: 0.9817\n",
      "Epoch 31/50\n",
      "106/106 [==============================] - 0s 568us/step - loss: 0.0530 - accuracy: 0.9825 - val_loss: 0.0552 - val_accuracy: 0.9817\n",
      "Epoch 32/50\n",
      "106/106 [==============================] - 0s 560us/step - loss: 0.0526 - accuracy: 0.9833 - val_loss: 0.0559 - val_accuracy: 0.9808\n",
      "Epoch 33/50\n",
      "106/106 [==============================] - 0s 561us/step - loss: 0.0526 - accuracy: 0.9830 - val_loss: 0.0547 - val_accuracy: 0.9823\n",
      "Epoch 34/50\n",
      "106/106 [==============================] - 0s 616us/step - loss: 0.0521 - accuracy: 0.9831 - val_loss: 0.0545 - val_accuracy: 0.9817\n",
      "Epoch 35/50\n",
      "106/106 [==============================] - 0s 576us/step - loss: 0.0521 - accuracy: 0.9833 - val_loss: 0.0550 - val_accuracy: 0.9811\n",
      "Epoch 36/50\n",
      "106/106 [==============================] - 0s 541us/step - loss: 0.0515 - accuracy: 0.9841 - val_loss: 0.0561 - val_accuracy: 0.9794\n",
      "Epoch 37/50\n",
      "106/106 [==============================] - 0s 621us/step - loss: 0.0513 - accuracy: 0.9834 - val_loss: 0.0546 - val_accuracy: 0.9814\n",
      "Epoch 38/50\n",
      "106/106 [==============================] - 0s 574us/step - loss: 0.0512 - accuracy: 0.9837 - val_loss: 0.0544 - val_accuracy: 0.9808\n",
      "Epoch 39/50\n",
      "106/106 [==============================] - 0s 554us/step - loss: 0.0511 - accuracy: 0.9842 - val_loss: 0.0539 - val_accuracy: 0.9826\n",
      "Epoch 40/50\n",
      "106/106 [==============================] - 0s 592us/step - loss: 0.0506 - accuracy: 0.9839 - val_loss: 0.0542 - val_accuracy: 0.9826\n",
      "Epoch 41/50\n",
      "106/106 [==============================] - 0s 591us/step - loss: 0.0508 - accuracy: 0.9838 - val_loss: 0.0531 - val_accuracy: 0.9838\n",
      "Epoch 42/50\n",
      "106/106 [==============================] - 0s 560us/step - loss: 0.0503 - accuracy: 0.9842 - val_loss: 0.0531 - val_accuracy: 0.9838\n",
      "Epoch 43/50\n",
      "106/106 [==============================] - 0s 547us/step - loss: 0.0500 - accuracy: 0.9843 - val_loss: 0.0534 - val_accuracy: 0.9832\n",
      "Epoch 44/50\n",
      "106/106 [==============================] - 0s 600us/step - loss: 0.0499 - accuracy: 0.9840 - val_loss: 0.0534 - val_accuracy: 0.9823\n",
      "Epoch 45/50\n",
      "106/106 [==============================] - 0s 631us/step - loss: 0.0497 - accuracy: 0.9842 - val_loss: 0.0528 - val_accuracy: 0.9832\n",
      "Epoch 46/50\n",
      "106/106 [==============================] - 0s 543us/step - loss: 0.0495 - accuracy: 0.9839 - val_loss: 0.0525 - val_accuracy: 0.9829\n",
      "Epoch 47/50\n",
      "106/106 [==============================] - 0s 552us/step - loss: 0.0494 - accuracy: 0.9844 - val_loss: 0.0526 - val_accuracy: 0.9829\n",
      "Epoch 48/50\n",
      "106/106 [==============================] - 0s 549us/step - loss: 0.0489 - accuracy: 0.9849 - val_loss: 0.0522 - val_accuracy: 0.9832\n",
      "Epoch 49/50\n",
      "106/106 [==============================] - 0s 551us/step - loss: 0.0491 - accuracy: 0.9840 - val_loss: 0.0540 - val_accuracy: 0.9811\n",
      "Epoch 50/50\n",
      "106/106 [==============================] - 0s 553us/step - loss: 0.0488 - accuracy: 0.9846 - val_loss: 0.0527 - val_accuracy: 0.9829\n"
     ]
    }
   ],
   "source": [
    "# Fit the model\n",
    "history = model.fit(x_train, y_train, epochs=50, batch_size=128, validation_split=0.2, verbose=1)\n"
   ]
  },
  {
   "cell_type": "markdown",
   "id": "30c06435-7433-4de3-bb7a-5232cdf16403",
   "metadata": {},
   "source": [
    "View the loss function and accuracy"
   ]
  },
  {
   "cell_type": "code",
   "execution_count": 115,
   "id": "c0e35366-4363-45a0-9240-413132b7479f",
   "metadata": {},
   "outputs": [
    {
     "data": {
      "image/png": "[encoded data removed]",
      "text/plain": [
       "<Figure size 800x300 with 2 Axes>"
      ]
     },
     "metadata": {},
     "output_type": "display_data"
    }
   ],
   "source": [
    "f, ax = plt.subplots(1, 2, figsize=(8, 3))\n",
    "\n",
    "# Plotting the training and validation loss\n",
    "a=ax[0]\n",
    "a.plot(history.history['loss'], label='Training Loss')\n",
    "a.plot(history.history['val_loss'], label='Validation Loss')\n",
    "a.set_title('Training and Validation Loss')\n",
    "a.set_xlabel('Epoch')\n",
    "a.set_ylabel('Loss')\n",
    "a.legend()\n",
    "\n",
    "# Plotting the training and validation accuracy\n",
    "a=ax[1]\n",
    "a.plot(history.history['accuracy'], label='Training Accuracy')\n",
    "a.plot(history.history['val_accuracy'], label='Validation Accuracy')\n",
    "a.set_title('Training and Validation Accuracy')\n",
    "a.set_xlabel('Epoch')\n",
    "a.set_ylabel('Accuracy')\n",
    "a.legend()\n",
    "\n",
    "plt.tight_layout()\n",
    "plt.show()"
   ]
  },
  {
   "cell_type": "markdown",
   "id": "4779e997-df95-422b-a93b-d117de5bab8f",
   "metadata": {},
   "source": [
    "## Evaluate"
   ]
  },
  {
   "cell_type": "code",
   "execution_count": 116,
   "id": "fd023eb9-683a-488c-bffb-43fe7d480d67",
   "metadata": {},
   "outputs": [
    {
     "name": "stdout",
     "output_type": "stream",
     "text": [
      "133/133 [==============================] - 0s 291us/step\n",
      "Accuracy: 0.9827830188679245\n",
      "Precision: 0.982664022652733\n",
      "Recall: 0.9827830188679245\n",
      "F1 Score: 0.9897023557624489\n"
     ]
    }
   ],
   "source": [
    "# Make predictions\n",
    "y_pred = (model.predict(x_test) > 0.5).astype(\"int32\")\n",
    "\n",
    "# Calculate scores\n",
    "accuracy = sklearn.metrics.accuracy_score(y_test, y_pred)\n",
    "precision = sklearn.metrics.precision_score(y_test, y_pred, average='weighted', zero_division=np.nan)\n",
    "recall = sklearn.metrics.recall_score(y_test, y_pred, average='weighted')\n",
    "f1 = sklearn.metrics.f1_score(y_test, y_pred, average='binary' if len(np.unique(y_test)) == 2 else 'weighted')\n",
    "\n",
    "print(f\"Accuracy: {accuracy}\")\n",
    "print(f\"Precision: {precision}\")\n",
    "print(f\"Recall: {recall}\")\n",
    "print(f\"F1 Score: {f1}\")\n"
   ]
  },
  {
   "cell_type": "markdown",
   "id": "99be2f61-1712-4ef6-aec4-50a4f1b244a7",
   "metadata": {},
   "source": [
    "## Note: Different ways to define models"
   ]
  },
  {
   "cell_type": "markdown",
   "id": "9b5e2374-b1cd-49ae-9028-f811ab3a9c2a",
   "metadata": {},
   "source": [
    "### 1) Sequential \n",
    "This is the most straightforward method, especially for models with a linear stack of layers."
   ]
  },
  {
   "cell_type": "code",
   "execution_count": null,
   "id": "70ba7406-d925-472a-b99e-8cd8153f1e05",
   "metadata": {},
   "outputs": [],
   "source": [
    "# Create a Sequential model\n",
    "model = Sequential()\n",
    "model.add(Dense(100, input_dim=len(input_metrics), activation='relu'))  # Hidden layer with 100 neurons\n",
    "model.add(Dense(1, activation='sigmoid'))  # Output layer; use 'softmax' for multi-class\n"
   ]
  },
  {
   "cell_type": "code",
   "execution_count": 81,
   "id": "d35ab3dc-34b6-4670-a4fc-790e957b9fe7",
   "metadata": {},
   "outputs": [],
   "source": [
    "## Alternative syntax - pass in a list\n",
    "# Create a Sequential model\n",
    "model = Sequential([\n",
    "    Dense(100, input_dim=len(input_metrics), activation='relu'),\n",
    "    Dense(1, activation='sigmoid')\n",
    "])"
   ]
  },
  {
   "cell_type": "markdown",
   "id": "98cddd10-b370-4f33-bdc0-b76e30ed445b",
   "metadata": {},
   "source": [
    "### 2) Functional API\n",
    "The Functional API is more flexible and allows for models with non-linear topology, shared layers, and even multiple inputs or outputs."
   ]
  },
  {
   "cell_type": "code",
   "execution_count": 92,
   "id": "7d975660-0965-43bf-9f85-babb679f5f86",
   "metadata": {},
   "outputs": [],
   "source": [
    "from tensorflow.keras.layers import Input, Dense\n",
    "from tensorflow.keras.models import Model"
   ]
  },
  {
   "cell_type": "code",
   "execution_count": 93,
   "id": "1c7537a0-8024-44a8-ac1c-d190097984b0",
   "metadata": {},
   "outputs": [],
   "source": [
    "# Define the input layer of the neural network.\n",
    "# 'Input()' is used to instantiate a Keras tensor.\n",
    "# 'shape=(len(input_metrics),)' defines the shape of the input data,\n",
    "# which is the number of features in the dataset.\n",
    "inputs = Input(shape=(len(input_metrics),))\n",
    "\n",
    "# Add a dense (fully connected) layer with 100 neurons (units) and ReLU activation.\n",
    "# This layer takes the 'inputs' tensor as its input and produces another tensor as output.\n",
    "# Dense layers are commonly used in neural networks for processing data.\n",
    "x = Dense(100, activation='relu')(inputs)\n",
    "\n",
    "# Add another dense layer with 1 neuron and sigmoid activation.\n",
    "# This is typically used for binary classification.\n",
    "# It takes the output tensor of the previous layer as input and produces the final output tensor.\n",
    "outputs = Dense(1, activation='sigmoid')(x)\n",
    "\n",
    "# Create the Keras Model.\n",
    "# This model specifies the input and output tensors to be used.\n",
    "# When training and making predictions, data will flow from 'inputs' through the dense layers to 'outputs'.\n",
    "model = Model(inputs=inputs, outputs=outputs)"
   ]
  },
  {
   "cell_type": "markdown",
   "id": "5ef4fc87-9390-4885-8779-3394468e06c9",
   "metadata": {},
   "source": [
    "### 3) Subclassing the 'Model' class\n",
    "Subclassing allows for full customization and enables defining custom layers, custom training loops, and more."
   ]
  },
  {
   "cell_type": "code",
   "execution_count": 111,
   "id": "0785b2de-09bc-4687-b983-c2fab4ff1d3c",
   "metadata": {},
   "outputs": [],
   "source": [
    "from tensorflow.keras.layers import Dense\n",
    "from tensorflow.keras import Model"
   ]
  },
  {
   "cell_type": "code",
   "execution_count": 117,
   "id": "59db1e80-6f1c-44cd-b5f8-951c38f352c1",
   "metadata": {},
   "outputs": [],
   "source": [
    "class CustomModel(Model):\n",
    "    def __init__(self, input_metrics_length):\n",
    "        # Call the constructor of the Model class\n",
    "        # This initializes the internals of the Model class that CustomModel is extending\n",
    "        super(CustomModel, self).__init__()\n",
    "\n",
    "        self.dense1 = Dense(100, activation='relu', input_dim=input_metrics_length)\n",
    "        self.dense2 = Dense(1, activation='sigmoid')\n",
    "\n",
    "    def call(self, inputs):\n",
    "        # The call method is where the actual computation of the model happens.\n",
    "        # Here, it processes 'inputs' through the first dense layer, then the second one.\n",
    "        \n",
    "        # Pass the inputs through the first dense layer\n",
    "        x = self.dense1(inputs)\n",
    "        \n",
    "        # Pass the output of the first layer to the second layer\n",
    "        # and return its output.\n",
    "        return self.dense2(x)\n",
    "\n",
    "# Instantiate the CustomModel with the required input dimension.\n",
    "# 'len(input_metrics)' specifies the number of features in the input data.\n",
    "model = CustomModel(len(input_metrics))"
   ]
  },
  {
   "cell_type": "markdown",
   "id": "a71c3f31-c306-4891-abd7-a907accfa845",
   "metadata": {},
   "source": [
    "# Multi-class classifier"
   ]
  },
  {
   "cell_type": "markdown",
   "id": "fe032bae-de5b-4c1f-96f7-155e2c91febd",
   "metadata": {},
   "source": [
    "**Key Changes for Multi-class Classification**\n",
    "1. **Label Encoding and One-Hot Encoding**: The target variable (`Cohort ID`) is first label encoded and then one-hot encoded for multi-class classification.\n",
    "2. **Output Layer and Activation**: The output layer's size is set to the number of unique classes, and the activation function is 'softmax'.\n",
    "3. **Loss Function**: The loss function is 'categorical_crossentropy', suitable for multi-class classification problems.\n",
    "The number of epochs, batch size, and network architecture should be adjusted as needed for your specific dataset and classification task."
   ]
  },
  {
   "cell_type": "markdown",
   "id": "57eba4f7-0d99-475d-b809-cf166ffb151b",
   "metadata": {},
   "source": [
    "## Prepare data"
   ]
  },
  {
   "cell_type": "code",
   "execution_count": 97,
   "id": "0bed46b4-32cc-4859-b178-59a732fdf6e4",
   "metadata": {},
   "outputs": [],
   "source": [
    "# Define input metrics\n",
    "input_metrics = ['Num. observations', 'Honey', 'Brood care', 'Pollen', 'Frame 5', 'Median speed', 'Dispersion (avg)', 'Exit distance (median)']\n",
    "X = df_classify[input_metrics].values\n",
    "\n",
    "# standardize the data\n",
    "# this is not strictly needed, but is a good idea - it usually leads to better fitting models\n",
    "X = (X-np.mean(X,axis=0))/np.std(X,axis=0)\n",
    "\n",
    "## use this for drone/worker classification\n",
    "# y = np.tile('Worker',len(X))\n",
    "# y[df_classify['IsDrone']] = 'Drone'\n",
    "\n",
    "## use this for cohort ID classification\n",
    "y = df_classify['Cohort ID']\n",
    "\n",
    "# Encode the labels\n",
    "label_encoder = sklearn.preprocessing.LabelEncoder()\n",
    "y_encoded = label_encoder.fit_transform(y)\n",
    "\n",
    "# One-hot encode the labels for multi-class classification\n",
    "\n",
    "# convert integers to dummy variables (i.e. one hot encoded)\n",
    "y_encoded = np_utils.to_categorical(y_encoded)\n",
    "\n",
    "# Split the dataset\n",
    "x_train, x_test, y_train, y_test = train_test_split(X, y_encoded, test_size=0.2, random_state=5)"
   ]
  },
  {
   "cell_type": "markdown",
   "id": "af0dbe33-3b39-4592-836c-cff0dd3bb425",
   "metadata": {},
   "source": [
    "## Define model"
   ]
  },
  {
   "cell_type": "code",
   "execution_count": 98,
   "id": "188d401f-6c2e-47bc-a0f9-8edde24c05be",
   "metadata": {},
   "outputs": [],
   "source": [
    "# Create a Sequential model\n",
    "model = Sequential()\n",
    "model.add(Dense(100, input_dim=len(input_metrics), activation='relu'))  # Hidden layer with 100 neurons\n",
    "model.add(Dense(y_encoded.shape[1], activation='softmax'))  # Output layer for multi-class\n",
    "\n",
    "# Compile the model\n",
    "model.compile(loss='categorical_crossentropy', optimizer='adam', metrics=['accuracy'])"
   ]
  },
  {
   "cell_type": "markdown",
   "id": "3cd6bfe1-67ec-4b78-b5ea-fbc0e25ea7f5",
   "metadata": {},
   "source": [
    "## Train model"
   ]
  },
  {
   "cell_type": "code",
   "execution_count": 99,
   "id": "fff595d7-8585-466c-9426-d912d7872a9f",
   "metadata": {},
   "outputs": [],
   "source": [
    "# Fit the model\n",
    "history = model.fit(x_train, y_train, epochs=100, batch_size=128, validation_split=0.2, verbose=0)\n"
   ]
  },
  {
   "cell_type": "markdown",
   "id": "711b06c3-864c-4128-a341-6839ff9b7ab2",
   "metadata": {},
   "source": [
    "View the loss function and accuracy"
   ]
  },
  {
   "cell_type": "code",
   "execution_count": 100,
   "id": "9bc8bdc6-e148-48a3-a259-57cc71fd9ab9",
   "metadata": {},
   "outputs": [
    {
     "data": {
      "image/png": "[encoded data removed]",
      "text/plain": [
       "<Figure size 800x300 with 2 Axes>"
      ]
     },
     "metadata": {},
     "output_type": "display_data"
    }
   ],
   "source": [
    "f, ax = plt.subplots(1, 2, figsize=(8, 3))\n",
    "\n",
    "# Plotting the training and validation loss\n",
    "a=ax[0]\n",
    "a.plot(history.history['loss'], label='Training Loss')\n",
    "a.plot(history.history['val_loss'], label='Validation Loss')\n",
    "a.set_title('Training and Validation Loss')\n",
    "a.set_xlabel('Epoch')\n",
    "a.set_ylabel('Loss')\n",
    "a.legend()\n",
    "\n",
    "# Plotting the training and validation accuracy\n",
    "a=ax[1]\n",
    "a.plot(history.history['accuracy'], label='Training Accuracy')\n",
    "a.plot(history.history['val_accuracy'], label='Validation Accuracy')\n",
    "a.set_title('Training and Validation Accuracy')\n",
    "a.set_xlabel('Epoch')\n",
    "a.set_ylabel('Accuracy')\n",
    "a.legend()\n",
    "\n",
    "plt.tight_layout()\n",
    "plt.show()"
   ]
  },
  {
   "cell_type": "markdown",
   "id": "640f6209-44dd-4bd5-a35a-372202d37eda",
   "metadata": {},
   "source": [
    "## Evaluate"
   ]
  },
  {
   "cell_type": "code",
   "execution_count": 101,
   "id": "955de37a-8104-4d14-8fbf-5f0f3e2b7caa",
   "metadata": {
    "scrolled": true
   },
   "outputs": [
    {
     "name": "stdout",
     "output_type": "stream",
     "text": [
      "133/133 [==============================] - 0s 305us/step\n",
      "Accuracy: 0.7181603773584906\n",
      "Precision: 0.7119358815119128\n",
      "Recall: 0.7181603773584906\n",
      "F1 Score: 0.7089035226396468\n"
     ]
    }
   ],
   "source": [
    "# Make predictions\n",
    "y_pred = model.predict(x_test)\n",
    "\n",
    "# Convert predictions to label indexes\n",
    "y_pred_label = np.argmax(y_pred, axis=1)\n",
    "y_test_label = np.argmax(y_test, axis=1)\n",
    "\n",
    "# Calculate scores\n",
    "accuracy = sklearn.metrics.accuracy_score(y_test_label, y_pred_label)\n",
    "precision = sklearn.metrics.precision_score(y_test_label, y_pred_label, average='weighted', zero_division=np.nan)\n",
    "recall = sklearn.metrics.recall_score(y_test_label, y_pred_label, average='weighted')\n",
    "f1 = sklearn.metrics.f1_score(y_test_label, y_pred_label, average='weighted')\n",
    "\n",
    "print(f\"Accuracy: {accuracy}\")\n",
    "print(f\"Precision: {precision}\")\n",
    "print(f\"Recall: {recall}\")\n",
    "print(f\"F1 Score: {f1}\")\n"
   ]
  },
  {
   "cell_type": "markdown",
   "id": "2ac8e96e-6ff3-409e-a247-9df16ceab98b",
   "metadata": {},
   "source": [
    "# Regression model"
   ]
  },
  {
   "cell_type": "markdown",
   "id": "4ca63119-21c5-4dbe-879e-c6af36b5eab5",
   "metadata": {},
   "source": [
    "## Prepare data"
   ]
  },
  {
   "cell_type": "code",
   "execution_count": 69,
   "id": "10fe1945-a2b4-46cd-8e6a-6c041352f6bb",
   "metadata": {},
   "outputs": [
    {
     "data": {
      "text/plain": [
       "(2028, 38)"
      ]
     },
     "execution_count": 69,
     "metadata": {},
     "output_type": "execute_result"
    }
   ],
   "source": [
    "dfsmall = df[::100]\n",
    "dfsmall.shape"
   ]
  },
  {
   "cell_type": "code",
   "execution_count": 70,
   "id": "b80dc8b6-8867-485c-9828-b39ee78f2b7e",
   "metadata": {},
   "outputs": [
    {
     "name": "stdout",
     "output_type": "stream",
     "text": [
      "Train set: (1622, 4) (1622, 2)\n",
      "Test set: (406, 4) (406, 2)\n"
     ]
    }
   ],
   "source": [
    "# lets pick some values from the dataframe to create the input matrix X and the output matrix y\n",
    "X = dfsmall[['Honey','Brood care','Frame 5','Age']]\n",
    "y = dfsmall[['Dispersion (avg)','Median speed']]\n",
    "# filter for nans\n",
    "sel = np.logical_not(np.any(X.isna(),axis=1) | np.any(y.isna(),axis=1) )\n",
    "X = X[sel]\n",
    "y = y[sel]\n",
    "\n",
    "# use this to normalize the input/output values before fitting\n",
    "X = (X-np.mean(X,axis=0))/np.std(X,axis=0)\n",
    "y = (y-np.mean(y,axis=0))/np.std(y,axis=0)\n",
    "\n",
    "# train and test split\n",
    "x_train, x_test, y_train, y_test = train_test_split( X, y, test_size=0.2, random_state=4)\n",
    "print ('Train set:', x_train.shape,  y_train.shape)\n",
    "print ('Test set:', x_test.shape,  y_test.shape)"
   ]
  },
  {
   "cell_type": "markdown",
   "id": "77e2657b-4da5-49af-83a3-79b005c3e1b7",
   "metadata": {},
   "source": [
    "## Define model"
   ]
  },
  {
   "cell_type": "code",
   "execution_count": 76,
   "id": "7d26a02b-42ea-42c7-9918-c0035cbc9d2b",
   "metadata": {},
   "outputs": [],
   "source": [
    "# Build the Keras model\n",
    "model = keras.Sequential()\n",
    "model.add(Dense(64, activation='relu', input_shape=(x_train.shape[1],)))\n",
    "model.add(Dense(64, activation='relu'))\n",
    "model.add(Dense(y.shape[1]))  # Output layer for multi-output regression (num units matches num predictors\n",
    "\n",
    "model.compile(optimizer='adam', loss='mean_squared_error')"
   ]
  },
  {
   "cell_type": "markdown",
   "id": "60c4a2fa-38cd-4f38-9345-0778ce1e50a9",
   "metadata": {},
   "source": [
    "## Train model"
   ]
  },
  {
   "cell_type": "code",
   "execution_count": 77,
   "id": "6542672e-1faa-49e0-8f86-126717141d56",
   "metadata": {},
   "outputs": [],
   "source": [
    "# Train the model\n",
    "history = model.fit(x_train, y_train, validation_split=0.2, epochs=100, batch_size=128, verbose=0)\n"
   ]
  },
  {
   "cell_type": "markdown",
   "id": "b6df3465-d843-4d47-99e9-dc99a0042a86",
   "metadata": {},
   "source": [
    "View the loss function"
   ]
  },
  {
   "cell_type": "code",
   "execution_count": 78,
   "id": "7673c565-43a6-4cd8-acbb-2fc0978d74de",
   "metadata": {},
   "outputs": [
    {
     "data": {
      "image/png": "[encoded data removed]",
      "text/plain": [
       "<Figure size 640x480 with 1 Axes>"
      ]
     },
     "metadata": {},
     "output_type": "display_data"
    }
   ],
   "source": [
    "# Plot training and validation loss\n",
    "plt.plot(history.history['loss'], label='Training Loss')\n",
    "plt.plot(history.history['val_loss'], label='Validation Loss')\n",
    "plt.title('Training and Validation Loss over Epochs')\n",
    "plt.xlabel('Epoch')\n",
    "plt.ylabel('Mean Squared Error')\n",
    "plt.legend()\n",
    "plt.show()\n"
   ]
  },
  {
   "cell_type": "markdown",
   "id": "e1589bfc-af82-4ff6-b2a2-0677e6335a36",
   "metadata": {},
   "source": [
    "## Evaluate"
   ]
  },
  {
   "cell_type": "code",
   "execution_count": 79,
   "id": "4b163ad5-c1da-4b48-84c8-b6a18d3700fe",
   "metadata": {},
   "outputs": [
    {
     "name": "stdout",
     "output_type": "stream",
     "text": [
      "13/13 [==============================] - 0s 445us/step - loss: 0.5658\n",
      "Test Loss (Mean Squared Error): 0.5658063292503357\n"
     ]
    }
   ],
   "source": [
    "# Evaluate the model on the test set\n",
    "test_loss = model.evaluate(x_test, y_test)\n",
    "print(f\"Test Loss (Mean Squared Error): {test_loss}\")\n"
   ]
  },
  {
   "cell_type": "code",
   "execution_count": 80,
   "id": "f03e87f2-48bb-46e9-bb21-40204a166b08",
   "metadata": {},
   "outputs": [
    {
     "name": "stdout",
     "output_type": "stream",
     "text": [
      "13/13 [==============================] - 0s 488us/step\n",
      "r^2 score: 0.4797417563873952\n",
      "MSE: 0.5658063888221713\n"
     ]
    }
   ],
   "source": [
    "y_pred = model.predict(x_test)\n",
    "print('r^2 score:',sklearn.metrics.r2_score(y_test,y_pred))\n",
    "print('MSE:',sklearn.metrics.mean_squared_error(y_test,y_pred))"
   ]
  },
  {
   "cell_type": "markdown",
   "id": "3f8fb46d-6a30-4823-a141-9401fe091d25",
   "metadata": {},
   "source": [
    "# PyTorch - Multi-class classifier"
   ]
  },
  {
   "cell_type": "code",
   "execution_count": 118,
   "id": "ad1132cf-94b5-4099-af0f-3cde59e0e634",
   "metadata": {},
   "outputs": [],
   "source": [
    "import torch\n",
    "import torch.nn as nn\n",
    "import torch.optim as optim\n",
    "from sklearn.model_selection import train_test_split"
   ]
  },
  {
   "cell_type": "markdown",
   "id": "28850f9e-e516-4ea0-973e-0f338786ce7d",
   "metadata": {},
   "source": [
    "## Prepare data"
   ]
  },
  {
   "cell_type": "code",
   "execution_count": 126,
   "id": "c9cf88d4-7308-44ac-b853-d39eebe6f410",
   "metadata": {},
   "outputs": [],
   "source": [
    "# Define input metrics\n",
    "input_metrics = ['Num. observations', 'Honey', 'Brood care', 'Pollen', 'Frame 5', 'Median speed', 'Dispersion (avg)', 'Exit distance (median)']\n",
    "X = df_classify[input_metrics].values\n",
    "\n",
    "# standardize the data\n",
    "# this is not strictly needed, but is a good idea - it usually leads to better fitting models\n",
    "X = (X-np.mean(X,axis=0))/np.std(X,axis=0)\n",
    "\n",
    "## use this for drone/worker classification\n",
    "# y = np.tile('Worker',len(X))\n",
    "# y[df_classify['IsDrone']] = 'Drone'\n",
    "\n",
    "## use this for cohort ID classification\n",
    "y = df_classify['Cohort ID']\n",
    "\n",
    "# Encode the labels\n",
    "label_encoder = sklearn.preprocessing.LabelEncoder()\n",
    "y_encoded = label_encoder.fit_transform(y)\n",
    "\n",
    "# One-hot encode the labels for multi-class classification\n",
    "\n",
    "# convert integers to dummy variables (i.e. one hot encoded)\n",
    "y_encoded = np_utils.to_categorical(y_encoded)\n",
    "\n",
    "# Convert data to PyTorch tensors\n",
    "X_tensor = torch.tensor(X, dtype=torch.float32)\n",
    "y_tensor = torch.tensor(y_encoded, dtype=torch.float32)\n",
    "\n",
    "# Split the dataset\n",
    "x_train, x_test, y_train, y_test = train_test_split(X_tensor, y_tensor, test_size=0.2, random_state=5)\n"
   ]
  },
  {
   "cell_type": "markdown",
   "id": "f53151f8-bc07-4703-8963-d4249c540b36",
   "metadata": {},
   "source": [
    "## Define model"
   ]
  },
  {
   "cell_type": "code",
   "execution_count": 145,
   "id": "a79ed2f9-e046-491f-803a-a9be882b640c",
   "metadata": {},
   "outputs": [],
   "source": [
    "# Define the model using the Sequential API\n",
    "model = nn.Sequential(\n",
    "    nn.Linear(X.shape[1], 100),  # Input layer to first hidden layer\n",
    "    nn.ReLU(),                   # Activation function for the first hidden layer\n",
    "    nn.Linear(100, y_encoded.shape[1]),  # Second hidden layer to output layer\n",
    "    nn.Softmax(dim=1)            # Activation function for the output layer\n",
    ")\n",
    "\n",
    "# Define the loss function and optimizer\n",
    "criterion = nn.CrossEntropyLoss()\n",
    "optimizer = optim.Adam(model.parameters(), lr=0.001)"
   ]
  },
  {
   "cell_type": "markdown",
   "id": "e66d953a-08f5-48fe-b4b4-1799795af8e8",
   "metadata": {},
   "source": [
    "## Train model"
   ]
  },
  {
   "cell_type": "code",
   "execution_count": 146,
   "id": "584b6e75-84db-4599-a366-8fe599fb951d",
   "metadata": {},
   "outputs": [],
   "source": [
    "num_epochs = 1000\n",
    "train_losses, val_losses = [], []\n",
    "train_accuracies, val_accuracies = [], []\n",
    "\n",
    "for epoch in range(num_epochs):\n",
    "    model.train()\n",
    "    # Forward pass and loss computation\n",
    "    outputs = model(x_train)\n",
    "    loss = criterion(outputs, torch.max(y_train, 1)[1])\n",
    "    train_losses.append(loss.item())\n",
    "\n",
    "    # Calculating training accuracy\n",
    "    _, predicted = torch.max(outputs, 1)\n",
    "    correct = (predicted == torch.max(y_train, 1)[1]).sum().item()\n",
    "    train_acc = correct / len(y_train)\n",
    "    train_accuracies.append(train_acc)\n",
    "\n",
    "    # Backward pass and optimization\n",
    "    optimizer.zero_grad()\n",
    "    loss.backward()\n",
    "    optimizer.step()\n",
    "\n",
    "    # Validation loss and accuracy\n",
    "    model.eval()\n",
    "    with torch.no_grad():\n",
    "        val_outputs = model(x_test)\n",
    "        val_loss = criterion(val_outputs, torch.max(y_test, 1)[1])\n",
    "        val_losses.append(val_loss.item())\n",
    "\n",
    "        # Calculating validation accuracy\n",
    "        _, val_predicted = torch.max(val_outputs, 1)\n",
    "        val_correct = (val_predicted == torch.max(y_test, 1)[1]).sum().item()\n",
    "        val_acc = val_correct / len(y_test)\n",
    "        val_accuracies.append(val_acc)"
   ]
  },
  {
   "cell_type": "markdown",
   "id": "b4b4546f-1511-4223-b497-b48d21da3432",
   "metadata": {},
   "source": [
    "View the loss function and accuracy"
   ]
  },
  {
   "cell_type": "code",
   "execution_count": 147,
   "id": "c1811a3f-5188-4754-9b97-686747d927df",
   "metadata": {},
   "outputs": [
    {
     "data": {
      "image/png": "[encoded data removed]",
      "text/plain": [
       "<Figure size 800x300 with 2 Axes>"
      ]
     },
     "metadata": {},
     "output_type": "display_data"
    }
   ],
   "source": [
    "# Plotting the training and validation loss\n",
    "f, ax = plt.subplots(1, 2, figsize=(8, 3))\n",
    "\n",
    "a=ax[0]\n",
    "a.plot(train_losses, label='Training Loss')\n",
    "a.plot(val_losses, label='Validation Loss')\n",
    "a.set_title('Training and Validation Loss')\n",
    "a.set_xlabel('Epoch')\n",
    "a.set_ylabel('Loss')\n",
    "a.legend()\n",
    "\n",
    "# Plotting the training and validation accuracy\n",
    "a=ax[1]\n",
    "a.plot(train_accuracies, label='Training Accuracy')\n",
    "a.plot(val_accuracies, label='Validation Accuracy')\n",
    "a.set_title('Training and Validation Accuracy')\n",
    "a.set_xlabel('Epoch')\n",
    "a.set_ylabel('Accuracy')\n",
    "a.legend()\n",
    "\n",
    "plt.tight_layout()\n",
    "plt.show()"
   ]
  },
  {
   "cell_type": "markdown",
   "id": "c7f3ad8b-f155-4bf1-b194-e61deabad20a",
   "metadata": {},
   "source": [
    "## Evaluate"
   ]
  },
  {
   "cell_type": "code",
   "execution_count": 149,
   "id": "9f9bcb60-3215-4e37-8339-85356567f46e",
   "metadata": {},
   "outputs": [
    {
     "name": "stdout",
     "output_type": "stream",
     "text": [
      "Accuracy: 0.7134433962264151\n",
      "Precision: 0.7096260852608194\n",
      "Recall: 0.7134433962264151\n",
      "F1 Score: 0.7026711077623545\n"
     ]
    }
   ],
   "source": [
    "# Evaluating the model\n",
    "model.eval()\n",
    "with torch.no_grad():\n",
    "    outputs = model(x_test)\n",
    "    _, predicted = torch.max(outputs.data, 1)\n",
    "    _, labels = torch.max(y_test.data, 1) \n",
    "    # Calculate scores\n",
    "y_test_labels = labels.numpy()\n",
    "y_pred_label = predicted.numpy()\n",
    "accuracy = sklearn.metrics.accuracy_score(y_test_label, y_pred_label)\n",
    "precision = sklearn.metrics.precision_score(y_test_label, y_pred_label, average='weighted', zero_division=np.nan)\n",
    "recall = sklearn.metrics.recall_score(y_test_label, y_pred_label, average='weighted')\n",
    "f1 = sklearn.metrics.f1_score(y_test_label, y_pred_label, average='weighted')\n",
    "\n",
    "print(f\"Accuracy: {accuracy}\")\n",
    "print(f\"Precision: {precision}\")\n",
    "print(f\"Recall: {recall}\")\n",
    "print(f\"F1 Score: {f1}\")"
   ]
  },
  {
   "cell_type": "code",
   "execution_count": null,
   "id": "661524e8-3796-4846-bb1c-e903b20a796f",
   "metadata": {},
   "outputs": [],
   "source": []
  }
 ],
 "metadata": {
  "kernelspec": {
   "display_name": "Python 3 (ipykernel)",
   "language": "python",
   "name": "python3"
  },
  "language_info": {
   "codemirror_mode": {
    "name": "ipython",
    "version": 3
   },
   "file_extension": ".py",
   "mimetype": "text/x-python",
   "name": "python",
   "nbconvert_exporter": "python",
   "pygments_lexer": "ipython3",
   "version": "3.10.13"
  }
 },
 "nbformat": 4,
 "nbformat_minor": 5
}
