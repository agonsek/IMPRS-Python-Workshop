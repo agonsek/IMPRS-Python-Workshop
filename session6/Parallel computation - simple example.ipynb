{
 "cells": [
  {
   "cell_type": "code",
   "execution_count": 15,
   "id": "31378fe9-7beb-447a-9aaf-9b5dbad9d259",
   "metadata": {},
   "outputs": [],
   "source": [
    "import numpy as np\n",
    "import pandas as pd\n",
    "import multiprocessing as mp\n",
    "import pickle\n",
    "import gzip"
   ]
  },
  {
   "cell_type": "markdown",
   "id": "9c7b529c-aa87-46a6-bb4d-2b8ad6bcfaf7",
   "metadata": {},
   "source": [
    "# Define functions and values to use below"
   ]
  },
  {
   "cell_type": "code",
   "execution_count": 12,
   "id": "7dab55b1-7be4-4336-b030-e394af19b2b1",
   "metadata": {},
   "outputs": [],
   "source": [
    "def weightedavg(dfsingle):\n",
    "    totalobs = np.sum(dfsingle['Num. observations'])\n",
    "    mult = dfsingle.multiply(dfsingle['Num. observations'],axis=0)\n",
    "    return mult.sum()/totalobs"
   ]
  },
  {
   "cell_type": "code",
   "execution_count": 9,
   "id": "26a49d28-624c-43de-bb86-c6ea204019e3",
   "metadata": {},
   "outputs": [],
   "source": [
    "# Use local file \n",
    "path = '../data/daydatamat.csv'\n",
    "path = 'daydatamat.csv'"
   ]
  },
  {
   "cell_type": "markdown",
   "id": "d357065d-f1a1-400f-924a-757eb2cd34f3",
   "metadata": {},
   "source": [
    "# Serial"
   ]
  },
  {
   "cell_type": "code",
   "execution_count": 25,
   "id": "5c949d67-1106-4db4-8da8-245457fd45dd",
   "metadata": {},
   "outputs": [
    {
     "name": "stdout",
     "output_type": "stream",
     "text": [
      "0\n",
      "1\n",
      "2\n",
      "3\n",
      "4\n",
      "5\n",
      "6\n",
      "7\n",
      "8\n",
      "9\n",
      "CPU times: user 1min 42s, sys: 1.38 s, total: 1min 44s\n",
      "Wall time: 1min 43s\n"
     ]
    }
   ],
   "source": [
    "%%time\n",
    "for i in range(10):\n",
    "    print(i)\n",
    "    df = pd.read_csv(path,index_col=0)\n",
    "    dfavg = df.groupby('Bee unique ID').mean()\n",
    "    df_avg_weighted = df.groupby('Bee unique ID').apply(weightedavg)\n",
    "    pickle.dump([dfavg,df_avg_weighted],gzip.open('/Users/jacob/Downloads/avgs'+str(i)+'.pklz','wb'))"
   ]
  },
  {
   "cell_type": "markdown",
   "id": "b09f02c8-1195-4aea-9d42-d27c90662f4c",
   "metadata": {},
   "source": [
    "# Parallel"
   ]
  },
  {
   "cell_type": "code",
   "execution_count": 26,
   "id": "40f76396-04ad-43c0-997d-51a7142c9e10",
   "metadata": {},
   "outputs": [
    {
     "data": {
      "text/plain": [
       "10"
      ]
     },
     "execution_count": 26,
     "metadata": {},
     "output_type": "execute_result"
    }
   ],
   "source": [
    "mp.cpu_count()"
   ]
  },
  {
   "cell_type": "code",
   "execution_count": 27,
   "id": "9cc87333-3b03-4db1-92f0-daf30791f1ee",
   "metadata": {},
   "outputs": [
    {
     "name": "stdout",
     "output_type": "stream",
     "text": [
      "CPU times: user 6.18 ms, sys: 54.9 ms, total: 61 ms\n",
      "Wall time: 14 s\n"
     ]
    }
   ],
   "source": [
    "%%time\n",
    "# Function to process each iteration\n",
    "def process_iteration(i):\n",
    "    df = pd.read_csv(path, index_col=0)\n",
    "    dfavg = df.groupby('Bee unique ID').mean()\n",
    "    df_avg_weighted = df.groupby('Bee unique ID').apply(weightedavg)\n",
    "    # Save the results using pickle and gzip for compression\n",
    "    # The result is a list [dfavg, df_avg_weighted] stored in a .pklz file\n",
    "    pickle.dump([dfavg, df_avg_weighted], gzip.open('/Users/jacob/Downloads/avgs'+str(i)+'.pklz', 'wb'))\n",
    "\n",
    "# 'get_context' is used here to specify the context for multiprocessing\n",
    "# This is necessary for compatibility with Mac M1 since it doesn't support 'fork' by default\n",
    "pool = mp.get_context(\"fork\").Pool(processes=10)\n",
    "\n",
    "# 'pool.map' applies the 'process_iteration' function to each item in range(10)\n",
    "# This runs the function in parallel across 10 processes\n",
    "pool.map(process_iteration, range(10))\n",
    "\n",
    "# Close the pool after all processes are finished\n",
    "pool.close()"
   ]
  },
  {
   "cell_type": "code",
   "execution_count": null,
   "id": "cb613173-d170-48a3-a676-16ce7a976a20",
   "metadata": {},
   "outputs": [],
   "source": []
  }
 ],
 "metadata": {
  "kernelspec": {
   "display_name": "Python 3 (ipykernel)",
   "language": "python",
   "name": "python3"
  },
  "language_info": {
   "codemirror_mode": {
    "name": "ipython",
    "version": 3
   },
   "file_extension": ".py",
   "mimetype": "text/x-python",
   "name": "python",
   "nbconvert_exporter": "python",
   "pygments_lexer": "ipython3",
   "version": "3.10.13"
  }
 },
 "nbformat": 4,
 "nbformat_minor": 5
}
