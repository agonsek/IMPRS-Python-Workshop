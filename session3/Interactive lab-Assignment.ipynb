{
 "cells": [
  {
   "cell_type": "markdown",
   "id": "06e8457f-8d73-439a-a4ff-596dfc985485",
   "metadata": {},
   "source": [
    "# Interactive lab:  Data import, calculations, and visualization"
   ]
  },
  {
   "cell_type": "code",
   "execution_count": 1,
   "id": "f4ec949b-df30-4e02-9b52-3d43eb99b133",
   "metadata": {},
   "outputs": [],
   "source": [
    "import numpy as np\n",
    "import matplotlib.pyplot as plt\n",
    "import pandas as pd\n",
    "import seaborn as sns\n",
    "import scipy"
   ]
  },
  {
   "cell_type": "markdown",
   "id": "53209955-2919-41ec-a04c-66d17bcb9b84",
   "metadata": {},
   "source": [
    "# 1) Read in data into a pandas df\n",
    "\n",
    "This data contains metrics calculated for each hour, for each bee, during heat stress trial 2 of:\n",
    "Jhawar, Jitesh, Jacob D. Davidson, Anja Weidenmüller, Benjamin Wild, David M. Dormagen, Tim Landgraf, Iain D. Couzin, and Michael L. Smith. 2023. “How Honeybees Respond to Heat Stress from the Individual to Colony Level.” Journal of The Royal Society Interface 20 (207): 20230290. https://doi.org/10.1098/rsif.2023.0290."
   ]
  },
  {
   "cell_type": "markdown",
   "id": "36961101-c679-424e-b23f-643fcfb0825d",
   "metadata": {},
   "source": [
    "To download file from repository"
   ]
  },
  {
   "cell_type": "code",
   "execution_count": null,
   "id": "267c1b60-7887-482c-b46b-2ab29de76f7b",
   "metadata": {},
   "outputs": [],
   "source": [
    "url = 'https://github.com/calovids/IMPRS-Python-Workshop/blob/main/data/heatstress_trial2_hour.csv?raw=true'\n",
    "df = pd.read_csv(url)\n",
    "df.head()"
   ]
  },
  {
   "cell_type": "markdown",
   "id": "4211725d-d5d5-4d42-8e37-eed10b25d924",
   "metadata": {},
   "source": [
    "To use local version (path assumes that downloaded Github repository)"
   ]
  },
  {
   "cell_type": "code",
   "execution_count": 2,
   "id": "6eb5cd8d-89c1-4157-88c4-7113edbf11f7",
   "metadata": {},
   "outputs": [
    {
     "data": {
      "text/html": [
       "<div>\n",
       "<style scoped>\n",
       "    .dataframe tbody tr th:only-of-type {\n",
       "        vertical-align: middle;\n",
       "    }\n",
       "\n",
       "    .dataframe tbody tr th {\n",
       "        vertical-align: top;\n",
       "    }\n",
       "\n",
       "    .dataframe thead th {\n",
       "        text-align: right;\n",
       "    }\n",
       "</style>\n",
       "<table border=\"1\" class=\"dataframe\">\n",
       "  <thead>\n",
       "    <tr style=\"text-align: right;\">\n",
       "      <th></th>\n",
       "      <th>Day number</th>\n",
       "      <th>Hour</th>\n",
       "      <th>Bee unique ID</th>\n",
       "      <th>Cohort ID</th>\n",
       "      <th>Age</th>\n",
       "      <th>Num. observations</th>\n",
       "      <th>Honey</th>\n",
       "      <th>Brood care</th>\n",
       "      <th>Frame 5</th>\n",
       "      <th>Median speed</th>\n",
       "      <th>Dispersion (avg)</th>\n",
       "      <th>Exit distance (median)</th>\n",
       "    </tr>\n",
       "  </thead>\n",
       "  <tbody>\n",
       "    <tr>\n",
       "      <th>0</th>\n",
       "      <td>81</td>\n",
       "      <td>0.0</td>\n",
       "      <td>4132.0</td>\n",
       "      <td>15.0</td>\n",
       "      <td>54.0</td>\n",
       "      <td>652.0</td>\n",
       "      <td>0.00000</td>\n",
       "      <td>0.007669</td>\n",
       "      <td>0.000000</td>\n",
       "      <td>0.000000</td>\n",
       "      <td>45.714000</td>\n",
       "      <td>2374.021483</td>\n",
       "    </tr>\n",
       "    <tr>\n",
       "      <th>1</th>\n",
       "      <td>81</td>\n",
       "      <td>0.0</td>\n",
       "      <td>4302.0</td>\n",
       "      <td>15.0</td>\n",
       "      <td>54.0</td>\n",
       "      <td>274.0</td>\n",
       "      <td>0.00365</td>\n",
       "      <td>0.000912</td>\n",
       "      <td>0.197080</td>\n",
       "      <td>0.000000</td>\n",
       "      <td>700.557193</td>\n",
       "      <td>2611.922950</td>\n",
       "    </tr>\n",
       "    <tr>\n",
       "      <th>2</th>\n",
       "      <td>81</td>\n",
       "      <td>0.0</td>\n",
       "      <td>4377.0</td>\n",
       "      <td>16.0</td>\n",
       "      <td>47.0</td>\n",
       "      <td>609.0</td>\n",
       "      <td>0.00000</td>\n",
       "      <td>0.003284</td>\n",
       "      <td>0.917898</td>\n",
       "      <td>6.708204</td>\n",
       "      <td>688.798089</td>\n",
       "      <td>3375.645272</td>\n",
       "    </tr>\n",
       "    <tr>\n",
       "      <th>3</th>\n",
       "      <td>81</td>\n",
       "      <td>0.0</td>\n",
       "      <td>4392.0</td>\n",
       "      <td>16.0</td>\n",
       "      <td>47.0</td>\n",
       "      <td>1308.0</td>\n",
       "      <td>0.00000</td>\n",
       "      <td>0.000000</td>\n",
       "      <td>0.999235</td>\n",
       "      <td>4.242641</td>\n",
       "      <td>109.220504</td>\n",
       "      <td>750.320598</td>\n",
       "    </tr>\n",
       "    <tr>\n",
       "      <th>4</th>\n",
       "      <td>81</td>\n",
       "      <td>0.0</td>\n",
       "      <td>4474.0</td>\n",
       "      <td>16.0</td>\n",
       "      <td>47.0</td>\n",
       "      <td>NaN</td>\n",
       "      <td>NaN</td>\n",
       "      <td>NaN</td>\n",
       "      <td>NaN</td>\n",
       "      <td>NaN</td>\n",
       "      <td>NaN</td>\n",
       "      <td>NaN</td>\n",
       "    </tr>\n",
       "  </tbody>\n",
       "</table>\n",
       "</div>"
      ],
      "text/plain": [
       "   Day number  Hour  Bee unique ID  Cohort ID   Age  Num. observations  \\\n",
       "0          81   0.0         4132.0       15.0  54.0              652.0   \n",
       "1          81   0.0         4302.0       15.0  54.0              274.0   \n",
       "2          81   0.0         4377.0       16.0  47.0              609.0   \n",
       "3          81   0.0         4392.0       16.0  47.0             1308.0   \n",
       "4          81   0.0         4474.0       16.0  47.0                NaN   \n",
       "\n",
       "     Honey  Brood care   Frame 5  Median speed  Dispersion (avg)  \\\n",
       "0  0.00000    0.007669  0.000000      0.000000         45.714000   \n",
       "1  0.00365    0.000912  0.197080      0.000000        700.557193   \n",
       "2  0.00000    0.003284  0.917898      6.708204        688.798089   \n",
       "3  0.00000    0.000000  0.999235      4.242641        109.220504   \n",
       "4      NaN         NaN       NaN           NaN               NaN   \n",
       "\n",
       "   Exit distance (median)  \n",
       "0             2374.021483  \n",
       "1             2611.922950  \n",
       "2             3375.645272  \n",
       "3              750.320598  \n",
       "4                     NaN  "
      ]
     },
     "execution_count": 2,
     "metadata": {},
     "output_type": "execute_result"
    }
   ],
   "source": [
    "df = pd.read_csv('../data/heatstress_trial2_hour.csv')\n",
    "df.head()"
   ]
  },
  {
   "cell_type": "markdown",
   "id": "ea41e1d3-2660-46ba-9e93-dd8604ee9156",
   "metadata": {},
   "source": [
    "# 2) Calculate average over individuals.\n",
    "Calculate and store averages in a new variable. \\\n",
    "    a) Calculate an average of values in the dataframe, grouping by 'Bee unique ID'.  Note:  if you're stuck on how to calculate, you can use a loop instead.  Save as df_avg  \\\n",
    "    b) Calculate a weighted average of values in the dataframe, weighting by 'Num. observations'.  Save as df_avg_weighted"
   ]
  },
  {
   "cell_type": "markdown",
   "id": "48b2d170-f628-4928-be40-634ad1bc517c",
   "metadata": {},
   "source": [
    "Recall how to calculate a weighted average:\n",
    "$$\n",
    "\\text{Weighted Average} = \\frac{\\sum_{i=1}^{n} w_i \\cdot x_i}{\\sum_{i=1}^{n} w_i}\n",
    "$$\n",
    "where $n$ is the total number of observations, $w_i$ is the weight for observation $i$, and $x_i$ is the \n",
    "value of the variable for observation $i$."
   ]
  },
  {
   "cell_type": "markdown",
   "id": "74b5e5c8-313f-49cf-8491-9a41e21c20ab",
   "metadata": {},
   "source": [
    "# 3) Explore relationships\n",
    "Make plot(s) to explore the relationships between metrics, in the averaged for this day.  This is an open question, so use whatever plots you see fit."
   ]
  },
  {
   "cell_type": "markdown",
   "id": "4fc8add8-61e1-467b-bffb-33720de8bcbf",
   "metadata": {},
   "source": [
    "# 4) Calculate Correlation among metrics\n",
    "Using df_avg, calculate the correlation between the per-bee averages of ['Honey', 'Brood care', 'Frame 5', 'Median speed',\n",
    "       'Dispersion (avg)', 'Exit distance (median)'].  Among these metrics, what has the highest correlation?"
   ]
  },
  {
   "cell_type": "markdown",
   "id": "f3d52980-cd7b-45ec-96f6-9cc47b1781ed",
   "metadata": {},
   "source": [
    "# 5) Calculate Average by hour\n",
    "Calculate average by 'Hour' instead of by Bee unique ID.  "
   ]
  },
  {
   "cell_type": "markdown",
   "id": "6ab0c6e6-3ffb-4fb2-a84d-9ab3bf9b224d",
   "metadata": {},
   "source": [
    "# 6) Plot metrics over the day\n",
    "Consider the following metrics: ['Num. observations','Honey', 'Brood care', 'Frame 5', 'Median speed','Dispersion (avg)', 'Exit distance (median)']\n",
    "\ta) \n",
    "\tb) \n",
    "\tc) "
   ]
  },
  {
   "cell_type": "markdown",
   "id": "ebca06dd-21d8-4d3d-b83b-4fdadd3d968b",
   "metadata": {},
   "source": [
    "## a) Average metrics\n",
    "Plot the average values over the day using a line plot"
   ]
  },
  {
   "cell_type": "markdown",
   "id": "ca441b83-4e02-405c-989a-1bd83c0ef13d",
   "metadata": {},
   "source": [
    "## b) Plot mean +/- standard deviation of metrics\n",
    "Plot these metrics as a lineplot with error bars (i.e. the filled area) corresponding to the standard deviation among bees (hint: see Seaborn lineplot options)."
   ]
  },
  {
   "cell_type": "markdown",
   "id": "a8dc7e69-e306-4fd4-bd6c-872415887a1e",
   "metadata": {},
   "source": [
    "## c) (bonus) Plot median and quantiles\n",
    "Instead of a line for the mean and using the standard deviation for a fill area,\tplot median and quantiles: a solid line for the median, and fill betwen the upper (75%) and lower (25%) quantiles."
   ]
  },
  {
   "cell_type": "markdown",
   "id": "6cacafc3-e538-49bf-af11-d4fccc25cfeb",
   "metadata": {},
   "source": [
    "# 7) Quantitative comparison\n",
    "What quantity changed the most when comparing values over the hour 9:00-10:00 versus the hour 12:00-13:00?  Note: to compare across different metrics, need to first standardize the data, because the units are different."
   ]
  }
 ],
 "metadata": {
  "kernelspec": {
   "display_name": "Python 3 (ipykernel)",
   "language": "python",
   "name": "python3"
  },
  "language_info": {
   "codemirror_mode": {
    "name": "ipython",
    "version": 3
   },
   "file_extension": ".py",
   "mimetype": "text/x-python",
   "name": "python",
   "nbconvert_exporter": "python",
   "pygments_lexer": "ipython3",
   "version": "3.10.13"
  }
 },
 "nbformat": 4,
 "nbformat_minor": 5
}
