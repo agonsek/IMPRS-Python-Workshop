{
 "cells": [
  {
   "cell_type": "markdown",
   "id": "06e8457f-8d73-439a-a4ff-596dfc985485",
   "metadata": {},
   "source": [
    "# Interactive lab:  Data import, calculations, and visualization"
   ]
  },
  {
   "cell_type": "code",
   "execution_count": 3,
   "id": "f4ec949b-df30-4e02-9b52-3d43eb99b133",
   "metadata": {
    "tags": []
   },
   "outputs": [],
   "source": [
    "import numpy as np\n",
    "import matplotlib.pyplot as plt\n",
    "import pandas as pd\n",
    "import seaborn as sns\n",
    "import scipy\n",
    "import warnings\n",
    "warnings.filterwarnings('ignore')"
   ]
  },
  {
   "cell_type": "markdown",
   "id": "53209955-2919-41ec-a04c-66d17bcb9b84",
   "metadata": {},
   "source": [
    "# 1) Read in data into a pandas df\n",
    "\n",
    "This data contains metrics calculated for each hour, for each bee, during heat stress trial 2 of:\n",
    "Jhawar, Jitesh, Jacob D. Davidson, Anja Weidenmüller, Benjamin Wild, David M. Dormagen, Tim Landgraf, Iain D. Couzin, and Michael L. Smith. 2023. “How Honeybees Respond to Heat Stress from the Individual to Colony Level.” Journal of The Royal Society Interface 20 (207): 20230290. https://doi.org/10.1098/rsif.2023.0290."
   ]
  },
  {
   "cell_type": "markdown",
   "id": "36961101-c679-424e-b23f-643fcfb0825d",
   "metadata": {},
   "source": [
    "To download file from repository"
   ]
  },
  {
   "cell_type": "code",
   "execution_count": 4,
   "id": "267c1b60-7887-482c-b46b-2ab29de76f7b",
   "metadata": {
    "tags": []
   },
   "outputs": [],
   "source": [
    "#url = 'https://github.com/calovids/IMPRS-Python-Workshop/blob/main/data/heatstress_trial2_hour.csv?raw=true'\n",
    "#df = pd.read_csv(url)\n",
    "#df.head()"
   ]
  },
  {
   "cell_type": "markdown",
   "id": "4211725d-d5d5-4d42-8e37-eed10b25d924",
   "metadata": {},
   "source": [
    "To use local version (path assumes that downloaded Github repository)"
   ]
  },
  {
   "cell_type": "code",
   "execution_count": 5,
   "id": "6eb5cd8d-89c1-4157-88c4-7113edbf11f7",
   "metadata": {
    "tags": []
   },
   "outputs": [
    {
     "data": {
      "text/html": [
       "<div>\n",
       "<style scoped>\n",
       "    .dataframe tbody tr th:only-of-type {\n",
       "        vertical-align: middle;\n",
       "    }\n",
       "\n",
       "    .dataframe tbody tr th {\n",
       "        vertical-align: top;\n",
       "    }\n",
       "\n",
       "    .dataframe thead th {\n",
       "        text-align: right;\n",
       "    }\n",
       "</style>\n",
       "<table border=\"1\" class=\"dataframe\">\n",
       "  <thead>\n",
       "    <tr style=\"text-align: right;\">\n",
       "      <th></th>\n",
       "      <th>Day number</th>\n",
       "      <th>Hour</th>\n",
       "      <th>Bee unique ID</th>\n",
       "      <th>Cohort ID</th>\n",
       "      <th>Age</th>\n",
       "      <th>Num. observations</th>\n",
       "      <th>Honey</th>\n",
       "      <th>Brood care</th>\n",
       "      <th>Frame 5</th>\n",
       "      <th>Median speed</th>\n",
       "      <th>Dispersion (avg)</th>\n",
       "      <th>Exit distance (median)</th>\n",
       "    </tr>\n",
       "  </thead>\n",
       "  <tbody>\n",
       "    <tr>\n",
       "      <th>0</th>\n",
       "      <td>81</td>\n",
       "      <td>0.0</td>\n",
       "      <td>4132.0</td>\n",
       "      <td>15.0</td>\n",
       "      <td>54.0</td>\n",
       "      <td>652.0</td>\n",
       "      <td>0.00000</td>\n",
       "      <td>0.007669</td>\n",
       "      <td>0.000000</td>\n",
       "      <td>0.000000</td>\n",
       "      <td>45.714000</td>\n",
       "      <td>2374.021483</td>\n",
       "    </tr>\n",
       "    <tr>\n",
       "      <th>1</th>\n",
       "      <td>81</td>\n",
       "      <td>0.0</td>\n",
       "      <td>4302.0</td>\n",
       "      <td>15.0</td>\n",
       "      <td>54.0</td>\n",
       "      <td>274.0</td>\n",
       "      <td>0.00365</td>\n",
       "      <td>0.000912</td>\n",
       "      <td>0.197080</td>\n",
       "      <td>0.000000</td>\n",
       "      <td>700.557193</td>\n",
       "      <td>2611.922950</td>\n",
       "    </tr>\n",
       "    <tr>\n",
       "      <th>2</th>\n",
       "      <td>81</td>\n",
       "      <td>0.0</td>\n",
       "      <td>4377.0</td>\n",
       "      <td>16.0</td>\n",
       "      <td>47.0</td>\n",
       "      <td>609.0</td>\n",
       "      <td>0.00000</td>\n",
       "      <td>0.003284</td>\n",
       "      <td>0.917898</td>\n",
       "      <td>6.708204</td>\n",
       "      <td>688.798089</td>\n",
       "      <td>3375.645272</td>\n",
       "    </tr>\n",
       "    <tr>\n",
       "      <th>3</th>\n",
       "      <td>81</td>\n",
       "      <td>0.0</td>\n",
       "      <td>4392.0</td>\n",
       "      <td>16.0</td>\n",
       "      <td>47.0</td>\n",
       "      <td>1308.0</td>\n",
       "      <td>0.00000</td>\n",
       "      <td>0.000000</td>\n",
       "      <td>0.999235</td>\n",
       "      <td>4.242641</td>\n",
       "      <td>109.220504</td>\n",
       "      <td>750.320598</td>\n",
       "    </tr>\n",
       "    <tr>\n",
       "      <th>4</th>\n",
       "      <td>81</td>\n",
       "      <td>0.0</td>\n",
       "      <td>4474.0</td>\n",
       "      <td>16.0</td>\n",
       "      <td>47.0</td>\n",
       "      <td>NaN</td>\n",
       "      <td>NaN</td>\n",
       "      <td>NaN</td>\n",
       "      <td>NaN</td>\n",
       "      <td>NaN</td>\n",
       "      <td>NaN</td>\n",
       "      <td>NaN</td>\n",
       "    </tr>\n",
       "  </tbody>\n",
       "</table>\n",
       "</div>"
      ],
      "text/plain": [
       "   Day number  Hour  Bee unique ID  Cohort ID   Age  Num. observations  \\\n",
       "0          81   0.0         4132.0       15.0  54.0              652.0   \n",
       "1          81   0.0         4302.0       15.0  54.0              274.0   \n",
       "2          81   0.0         4377.0       16.0  47.0              609.0   \n",
       "3          81   0.0         4392.0       16.0  47.0             1308.0   \n",
       "4          81   0.0         4474.0       16.0  47.0                NaN   \n",
       "\n",
       "     Honey  Brood care   Frame 5  Median speed  Dispersion (avg)  \\\n",
       "0  0.00000    0.007669  0.000000      0.000000         45.714000   \n",
       "1  0.00365    0.000912  0.197080      0.000000        700.557193   \n",
       "2  0.00000    0.003284  0.917898      6.708204        688.798089   \n",
       "3  0.00000    0.000000  0.999235      4.242641        109.220504   \n",
       "4      NaN         NaN       NaN           NaN               NaN   \n",
       "\n",
       "   Exit distance (median)  \n",
       "0             2374.021483  \n",
       "1             2611.922950  \n",
       "2             3375.645272  \n",
       "3              750.320598  \n",
       "4                     NaN  "
      ]
     },
     "execution_count": 5,
     "metadata": {},
     "output_type": "execute_result"
    }
   ],
   "source": [
    "df = pd.read_csv('../data/heatstress_trial2_hour.csv')\n",
    "df.head()"
   ]
  },
  {
   "cell_type": "markdown",
   "id": "ea41e1d3-2660-46ba-9e93-dd8604ee9156",
   "metadata": {},
   "source": [
    "# 2) Calculate average over individuals.\n",
    "Calculate and store averages in a new variable. \\\n",
    "    a) Calculate an average of values in the dataframe, grouping by 'Bee unique ID'.  Note:  if you're stuck on how to calculate, you can use a loop instead.  Save as df_avg  \\\n",
    "    b) Calculate a weighted average of values in the dataframe, weighting by 'Num. observations'.  Save as df_avg_weighted"
   ]
  },
  {
   "cell_type": "code",
   "execution_count": 6,
   "id": "1183d7c2-2b75-42b8-b927-b936ca8fb8a4",
   "metadata": {
    "tags": []
   },
   "outputs": [
    {
     "data": {
      "text/html": [
       "<div>\n",
       "<style scoped>\n",
       "    .dataframe tbody tr th:only-of-type {\n",
       "        vertical-align: middle;\n",
       "    }\n",
       "\n",
       "    .dataframe tbody tr th {\n",
       "        vertical-align: top;\n",
       "    }\n",
       "\n",
       "    .dataframe thead th {\n",
       "        text-align: right;\n",
       "    }\n",
       "</style>\n",
       "<table border=\"1\" class=\"dataframe\">\n",
       "  <thead>\n",
       "    <tr style=\"text-align: right;\">\n",
       "      <th></th>\n",
       "      <th>Day number</th>\n",
       "      <th>Hour</th>\n",
       "      <th>Cohort ID</th>\n",
       "      <th>Age</th>\n",
       "      <th>Num. observations</th>\n",
       "      <th>Honey</th>\n",
       "      <th>Brood care</th>\n",
       "      <th>Frame 5</th>\n",
       "      <th>Median speed</th>\n",
       "      <th>Dispersion (avg)</th>\n",
       "      <th>Exit distance (median)</th>\n",
       "    </tr>\n",
       "    <tr>\n",
       "      <th>Bee unique ID</th>\n",
       "      <th></th>\n",
       "      <th></th>\n",
       "      <th></th>\n",
       "      <th></th>\n",
       "      <th></th>\n",
       "      <th></th>\n",
       "      <th></th>\n",
       "      <th></th>\n",
       "      <th></th>\n",
       "      <th></th>\n",
       "      <th></th>\n",
       "    </tr>\n",
       "  </thead>\n",
       "  <tbody>\n",
       "    <tr>\n",
       "      <th>4132.0</th>\n",
       "      <td>81.0</td>\n",
       "      <td>11.5</td>\n",
       "      <td>15.0</td>\n",
       "      <td>54.0</td>\n",
       "      <td>1489.695652</td>\n",
       "      <td>0.007828</td>\n",
       "      <td>0.036877</td>\n",
       "      <td>0.329615</td>\n",
       "      <td>13.315324</td>\n",
       "      <td>544.393720</td>\n",
       "      <td>2322.074493</td>\n",
       "    </tr>\n",
       "    <tr>\n",
       "      <th>4302.0</th>\n",
       "      <td>81.0</td>\n",
       "      <td>11.5</td>\n",
       "      <td>15.0</td>\n",
       "      <td>54.0</td>\n",
       "      <td>138.250000</td>\n",
       "      <td>0.050655</td>\n",
       "      <td>0.089742</td>\n",
       "      <td>0.252464</td>\n",
       "      <td>5.475326</td>\n",
       "      <td>1014.936749</td>\n",
       "      <td>2840.498927</td>\n",
       "    </tr>\n",
       "    <tr>\n",
       "      <th>4377.0</th>\n",
       "      <td>81.0</td>\n",
       "      <td>11.5</td>\n",
       "      <td>16.0</td>\n",
       "      <td>47.0</td>\n",
       "      <td>2060.238095</td>\n",
       "      <td>0.134269</td>\n",
       "      <td>0.015098</td>\n",
       "      <td>0.384492</td>\n",
       "      <td>12.533556</td>\n",
       "      <td>672.408512</td>\n",
       "      <td>2943.269896</td>\n",
       "    </tr>\n",
       "    <tr>\n",
       "      <th>4392.0</th>\n",
       "      <td>81.0</td>\n",
       "      <td>11.5</td>\n",
       "      <td>16.0</td>\n",
       "      <td>47.0</td>\n",
       "      <td>1290.545455</td>\n",
       "      <td>0.000621</td>\n",
       "      <td>0.000234</td>\n",
       "      <td>0.904460</td>\n",
       "      <td>12.553964</td>\n",
       "      <td>231.176423</td>\n",
       "      <td>1125.995250</td>\n",
       "    </tr>\n",
       "    <tr>\n",
       "      <th>4474.0</th>\n",
       "      <td>81.0</td>\n",
       "      <td>11.5</td>\n",
       "      <td>16.0</td>\n",
       "      <td>47.0</td>\n",
       "      <td>1391.812500</td>\n",
       "      <td>0.001120</td>\n",
       "      <td>0.003723</td>\n",
       "      <td>0.942780</td>\n",
       "      <td>25.544207</td>\n",
       "      <td>369.441033</td>\n",
       "      <td>1089.084701</td>\n",
       "    </tr>\n",
       "  </tbody>\n",
       "</table>\n",
       "</div>"
      ],
      "text/plain": [
       "               Day number  Hour  Cohort ID   Age  Num. observations     Honey  \\\n",
       "Bee unique ID                                                                   \n",
       "4132.0               81.0  11.5       15.0  54.0        1489.695652  0.007828   \n",
       "4302.0               81.0  11.5       15.0  54.0         138.250000  0.050655   \n",
       "4377.0               81.0  11.5       16.0  47.0        2060.238095  0.134269   \n",
       "4392.0               81.0  11.5       16.0  47.0        1290.545455  0.000621   \n",
       "4474.0               81.0  11.5       16.0  47.0        1391.812500  0.001120   \n",
       "\n",
       "               Brood care   Frame 5  Median speed  Dispersion (avg)  \\\n",
       "Bee unique ID                                                         \n",
       "4132.0           0.036877  0.329615     13.315324        544.393720   \n",
       "4302.0           0.089742  0.252464      5.475326       1014.936749   \n",
       "4377.0           0.015098  0.384492     12.533556        672.408512   \n",
       "4392.0           0.000234  0.904460     12.553964        231.176423   \n",
       "4474.0           0.003723  0.942780     25.544207        369.441033   \n",
       "\n",
       "               Exit distance (median)  \n",
       "Bee unique ID                          \n",
       "4132.0                    2322.074493  \n",
       "4302.0                    2840.498927  \n",
       "4377.0                    2943.269896  \n",
       "4392.0                    1125.995250  \n",
       "4474.0                    1089.084701  "
      ]
     },
     "execution_count": 6,
     "metadata": {},
     "output_type": "execute_result"
    }
   ],
   "source": [
    "df_avg = df.groupby('Bee unique ID').mean()\n",
    "df_avg.head()"
   ]
  },
  {
   "cell_type": "code",
   "execution_count": 7,
   "id": "5af72a5d-ddd6-47f7-843f-0b363a0c1b51",
   "metadata": {
    "tags": []
   },
   "outputs": [
    {
     "data": {
      "text/html": [
       "<div>\n",
       "<style scoped>\n",
       "    .dataframe tbody tr th:only-of-type {\n",
       "        vertical-align: middle;\n",
       "    }\n",
       "\n",
       "    .dataframe tbody tr th {\n",
       "        vertical-align: top;\n",
       "    }\n",
       "\n",
       "    .dataframe thead th {\n",
       "        text-align: right;\n",
       "    }\n",
       "</style>\n",
       "<table border=\"1\" class=\"dataframe\">\n",
       "  <thead>\n",
       "    <tr style=\"text-align: right;\">\n",
       "      <th></th>\n",
       "      <th>Day number</th>\n",
       "      <th>Hour</th>\n",
       "      <th>Bee unique ID</th>\n",
       "      <th>Cohort ID</th>\n",
       "      <th>Age</th>\n",
       "      <th>Num. observations</th>\n",
       "      <th>Honey</th>\n",
       "      <th>Brood care</th>\n",
       "      <th>Frame 5</th>\n",
       "      <th>Median speed</th>\n",
       "      <th>Dispersion (avg)</th>\n",
       "      <th>Exit distance (median)</th>\n",
       "    </tr>\n",
       "  </thead>\n",
       "  <tbody>\n",
       "    <tr>\n",
       "      <th>0</th>\n",
       "      <td>81</td>\n",
       "      <td>0.0</td>\n",
       "      <td>4132.0</td>\n",
       "      <td>15.0</td>\n",
       "      <td>54.0</td>\n",
       "      <td>652.0</td>\n",
       "      <td>0.00000</td>\n",
       "      <td>0.007669</td>\n",
       "      <td>0.000000</td>\n",
       "      <td>0.000000</td>\n",
       "      <td>45.714000</td>\n",
       "      <td>2374.021483</td>\n",
       "    </tr>\n",
       "    <tr>\n",
       "      <th>1</th>\n",
       "      <td>81</td>\n",
       "      <td>0.0</td>\n",
       "      <td>4302.0</td>\n",
       "      <td>15.0</td>\n",
       "      <td>54.0</td>\n",
       "      <td>274.0</td>\n",
       "      <td>0.00365</td>\n",
       "      <td>0.000912</td>\n",
       "      <td>0.197080</td>\n",
       "      <td>0.000000</td>\n",
       "      <td>700.557193</td>\n",
       "      <td>2611.922950</td>\n",
       "    </tr>\n",
       "    <tr>\n",
       "      <th>2</th>\n",
       "      <td>81</td>\n",
       "      <td>0.0</td>\n",
       "      <td>4377.0</td>\n",
       "      <td>16.0</td>\n",
       "      <td>47.0</td>\n",
       "      <td>609.0</td>\n",
       "      <td>0.00000</td>\n",
       "      <td>0.003284</td>\n",
       "      <td>0.917898</td>\n",
       "      <td>6.708204</td>\n",
       "      <td>688.798089</td>\n",
       "      <td>3375.645272</td>\n",
       "    </tr>\n",
       "    <tr>\n",
       "      <th>3</th>\n",
       "      <td>81</td>\n",
       "      <td>0.0</td>\n",
       "      <td>4392.0</td>\n",
       "      <td>16.0</td>\n",
       "      <td>47.0</td>\n",
       "      <td>1308.0</td>\n",
       "      <td>0.00000</td>\n",
       "      <td>0.000000</td>\n",
       "      <td>0.999235</td>\n",
       "      <td>4.242641</td>\n",
       "      <td>109.220504</td>\n",
       "      <td>750.320598</td>\n",
       "    </tr>\n",
       "    <tr>\n",
       "      <th>6</th>\n",
       "      <td>81</td>\n",
       "      <td>0.0</td>\n",
       "      <td>4604.0</td>\n",
       "      <td>16.0</td>\n",
       "      <td>47.0</td>\n",
       "      <td>1579.0</td>\n",
       "      <td>0.00000</td>\n",
       "      <td>0.000000</td>\n",
       "      <td>0.000000</td>\n",
       "      <td>3.000000</td>\n",
       "      <td>38.450142</td>\n",
       "      <td>2790.770682</td>\n",
       "    </tr>\n",
       "  </tbody>\n",
       "</table>\n",
       "</div>"
      ],
      "text/plain": [
       "   Day number  Hour  Bee unique ID  Cohort ID   Age  Num. observations  \\\n",
       "0          81   0.0         4132.0       15.0  54.0              652.0   \n",
       "1          81   0.0         4302.0       15.0  54.0              274.0   \n",
       "2          81   0.0         4377.0       16.0  47.0              609.0   \n",
       "3          81   0.0         4392.0       16.0  47.0             1308.0   \n",
       "6          81   0.0         4604.0       16.0  47.0             1579.0   \n",
       "\n",
       "     Honey  Brood care   Frame 5  Median speed  Dispersion (avg)  \\\n",
       "0  0.00000    0.007669  0.000000      0.000000         45.714000   \n",
       "1  0.00365    0.000912  0.197080      0.000000        700.557193   \n",
       "2  0.00000    0.003284  0.917898      6.708204        688.798089   \n",
       "3  0.00000    0.000000  0.999235      4.242641        109.220504   \n",
       "6  0.00000    0.000000  0.000000      3.000000         38.450142   \n",
       "\n",
       "   Exit distance (median)  \n",
       "0             2374.021483  \n",
       "1             2611.922950  \n",
       "2             3375.645272  \n",
       "3              750.320598  \n",
       "6             2790.770682  "
      ]
     },
     "execution_count": 7,
     "metadata": {},
     "output_type": "execute_result"
    }
   ],
   "source": [
    "valid_df = df.dropna()\n",
    "valid_df.head()"
   ]
  },
  {
   "cell_type": "code",
   "execution_count": 8,
   "id": "54e1d9c5-4626-476e-8eed-ea8e4524b76b",
   "metadata": {
    "tags": []
   },
   "outputs": [],
   "source": [
    "df_avg_weighted = list(valid_df.groupby('Bee unique ID').apply(lambda x: np.average(x, weights=x['Num. observations'], axis=0)))\n",
    "df_avg_weighted = pd.DataFrame(df_avg_weighted, index=df_avg.index, columns=df.columns)"
   ]
  },
  {
   "cell_type": "code",
   "execution_count": 9,
   "id": "bbc7d2e6-e515-4c8e-9fca-fa756469a578",
   "metadata": {
    "tags": []
   },
   "outputs": [
    {
     "data": {
      "text/html": [
       "<div>\n",
       "<style scoped>\n",
       "    .dataframe tbody tr th:only-of-type {\n",
       "        vertical-align: middle;\n",
       "    }\n",
       "\n",
       "    .dataframe tbody tr th {\n",
       "        vertical-align: top;\n",
       "    }\n",
       "\n",
       "    .dataframe thead th {\n",
       "        text-align: right;\n",
       "    }\n",
       "</style>\n",
       "<table border=\"1\" class=\"dataframe\">\n",
       "  <thead>\n",
       "    <tr style=\"text-align: right;\">\n",
       "      <th></th>\n",
       "      <th>Day number</th>\n",
       "      <th>Hour</th>\n",
       "      <th>Bee unique ID</th>\n",
       "      <th>Cohort ID</th>\n",
       "      <th>Age</th>\n",
       "      <th>Num. observations</th>\n",
       "      <th>Honey</th>\n",
       "      <th>Brood care</th>\n",
       "      <th>Frame 5</th>\n",
       "      <th>Median speed</th>\n",
       "      <th>Dispersion (avg)</th>\n",
       "      <th>Exit distance (median)</th>\n",
       "    </tr>\n",
       "    <tr>\n",
       "      <th>Bee unique ID</th>\n",
       "      <th></th>\n",
       "      <th></th>\n",
       "      <th></th>\n",
       "      <th></th>\n",
       "      <th></th>\n",
       "      <th></th>\n",
       "      <th></th>\n",
       "      <th></th>\n",
       "      <th></th>\n",
       "      <th></th>\n",
       "      <th></th>\n",
       "      <th></th>\n",
       "    </tr>\n",
       "  </thead>\n",
       "  <tbody>\n",
       "    <tr>\n",
       "      <th>4132.0</th>\n",
       "      <td>81.0</td>\n",
       "      <td>8.716242</td>\n",
       "      <td>4132.0</td>\n",
       "      <td>15.0</td>\n",
       "      <td>54.0</td>\n",
       "      <td>3121.462913</td>\n",
       "      <td>0.000314</td>\n",
       "      <td>0.021887</td>\n",
       "      <td>0.172935</td>\n",
       "      <td>5.651054</td>\n",
       "      <td>261.585229</td>\n",
       "      <td>2390.261928</td>\n",
       "    </tr>\n",
       "    <tr>\n",
       "      <th>4302.0</th>\n",
       "      <td>81.0</td>\n",
       "      <td>8.514768</td>\n",
       "      <td>4302.0</td>\n",
       "      <td>15.0</td>\n",
       "      <td>54.0</td>\n",
       "      <td>320.691380</td>\n",
       "      <td>0.048146</td>\n",
       "      <td>0.067963</td>\n",
       "      <td>0.175708</td>\n",
       "      <td>4.738213</td>\n",
       "      <td>788.738266</td>\n",
       "      <td>2797.976826</td>\n",
       "    </tr>\n",
       "    <tr>\n",
       "      <th>4377.0</th>\n",
       "      <td>81.0</td>\n",
       "      <td>8.181001</td>\n",
       "      <td>4377.0</td>\n",
       "      <td>16.0</td>\n",
       "      <td>47.0</td>\n",
       "      <td>4348.696152</td>\n",
       "      <td>0.385427</td>\n",
       "      <td>0.006449</td>\n",
       "      <td>0.208298</td>\n",
       "      <td>8.347014</td>\n",
       "      <td>471.633704</td>\n",
       "      <td>3708.280357</td>\n",
       "    </tr>\n",
       "    <tr>\n",
       "      <th>4392.0</th>\n",
       "      <td>81.0</td>\n",
       "      <td>13.923394</td>\n",
       "      <td>4392.0</td>\n",
       "      <td>16.0</td>\n",
       "      <td>47.0</td>\n",
       "      <td>2264.673077</td>\n",
       "      <td>0.000273</td>\n",
       "      <td>0.000070</td>\n",
       "      <td>0.856544</td>\n",
       "      <td>5.892853</td>\n",
       "      <td>171.035337</td>\n",
       "      <td>1240.323052</td>\n",
       "    </tr>\n",
       "    <tr>\n",
       "      <th>4474.0</th>\n",
       "      <td>81.0</td>\n",
       "      <td>15.518119</td>\n",
       "      <td>4474.0</td>\n",
       "      <td>16.0</td>\n",
       "      <td>47.0</td>\n",
       "      <td>2204.940815</td>\n",
       "      <td>0.000146</td>\n",
       "      <td>0.000135</td>\n",
       "      <td>0.975347</td>\n",
       "      <td>25.047362</td>\n",
       "      <td>342.770617</td>\n",
       "      <td>968.323971</td>\n",
       "    </tr>\n",
       "  </tbody>\n",
       "</table>\n",
       "</div>"
      ],
      "text/plain": [
       "               Day number       Hour  Bee unique ID  Cohort ID   Age  \\\n",
       "Bee unique ID                                                          \n",
       "4132.0               81.0   8.716242         4132.0       15.0  54.0   \n",
       "4302.0               81.0   8.514768         4302.0       15.0  54.0   \n",
       "4377.0               81.0   8.181001         4377.0       16.0  47.0   \n",
       "4392.0               81.0  13.923394         4392.0       16.0  47.0   \n",
       "4474.0               81.0  15.518119         4474.0       16.0  47.0   \n",
       "\n",
       "               Num. observations     Honey  Brood care   Frame 5  \\\n",
       "Bee unique ID                                                      \n",
       "4132.0               3121.462913  0.000314    0.021887  0.172935   \n",
       "4302.0                320.691380  0.048146    0.067963  0.175708   \n",
       "4377.0               4348.696152  0.385427    0.006449  0.208298   \n",
       "4392.0               2264.673077  0.000273    0.000070  0.856544   \n",
       "4474.0               2204.940815  0.000146    0.000135  0.975347   \n",
       "\n",
       "               Median speed  Dispersion (avg)  Exit distance (median)  \n",
       "Bee unique ID                                                          \n",
       "4132.0             5.651054        261.585229             2390.261928  \n",
       "4302.0             4.738213        788.738266             2797.976826  \n",
       "4377.0             8.347014        471.633704             3708.280357  \n",
       "4392.0             5.892853        171.035337             1240.323052  \n",
       "4474.0            25.047362        342.770617              968.323971  "
      ]
     },
     "execution_count": 9,
     "metadata": {},
     "output_type": "execute_result"
    }
   ],
   "source": [
    "df_avg_weighted.head()"
   ]
  },
  {
   "cell_type": "markdown",
   "id": "48b2d170-f628-4928-be40-634ad1bc517c",
   "metadata": {},
   "source": [
    "Recall how to calculate a weighted average:\n",
    "$$\n",
    "\\text{Weighted Average} = \\frac{\\sum_{i=1}^{n} w_i \\cdot x_i}{\\sum_{i=1}^{n} w_i}\n",
    "$$\n",
    "where $n$ is the total number of observations, $w_i$ is the weight for observation $i$, and $x_i$ is the \n",
    "value of the variable for observation $i$."
   ]
  },
  {
   "cell_type": "markdown",
   "id": "74b5e5c8-313f-49cf-8491-9a41e21c20ab",
   "metadata": {},
   "source": [
    "# 3) Explore relationships\n",
    "Make plot(s) to explore the relationships between metrics, in the averaged for this day.  This is an open question, so use whatever plots you see fit."
   ]
  },
  {
   "cell_type": "code",
   "execution_count": 11,
   "id": "840de968-87ff-4b22-8c45-1e0d431de94b",
   "metadata": {
    "tags": []
   },
   "outputs": [
    {
     "data": {
      "text/plain": [
       "<Axes: xlabel='Median speed', ylabel='Count'>"
      ]
     },
     "execution_count": 11,
     "metadata": {},
     "output_type": "execute_result"
    },
    {
     "data": {
      "image/png": "[encoded data removed]",
      "text/plain": [
       "<Figure size 640x480 with 1 Axes>"
      ]
     },
     "metadata": {},
     "output_type": "display_data"
    }
   ],
   "source": [
    "sns.histplot(x='Median speed',data=df,hue='Age')"
   ]
  },
  {
   "cell_type": "code",
   "execution_count": 16,
   "id": "05cec72d-80e3-43c9-b60d-d85aa07779be",
   "metadata": {
    "tags": []
   },
   "outputs": [
    {
     "data": {
      "text/plain": [
       "<matplotlib.collections.PathCollection at 0x1d1648fbb50>"
      ]
     },
     "execution_count": 16,
     "metadata": {},
     "output_type": "execute_result"
    },
    {
     "data": {
      "image/png": "[encoded data removed]",
      "text/plain": [
       "<Figure size 640x480 with 1 Axes>"
      ]
     },
     "metadata": {},
     "output_type": "display_data"
    }
   ],
   "source": [
    "plt.figure()\n",
    "plt.scatter(df_avg_weighted.index,df_avg_weighted['Median speed'])"
   ]
  },
  {
   "cell_type": "code",
   "execution_count": 17,
   "id": "fbee4c06-eca5-41aa-bb2a-2c34b79fd7cf",
   "metadata": {
    "tags": []
   },
   "outputs": [
    {
     "data": {
      "text/plain": [
       "<Axes: xlabel='Age', ylabel='Median speed'>"
      ]
     },
     "execution_count": 17,
     "metadata": {},
     "output_type": "execute_result"
    },
    {
     "data": {
      "image/png": "[encoded data removed]",
      "text/plain": [
       "<Figure size 640x480 with 1 Axes>"
      ]
     },
     "metadata": {},
     "output_type": "display_data"
    }
   ],
   "source": [
    "f,ax = plt.subplots(1,1)\n",
    "sns.regplot(x='Age',y='Median speed',data=df,scatter=True,ax=ax)"
   ]
  },
  {
   "cell_type": "code",
   "execution_count": null,
   "id": "8c1d67f4-6567-4baf-89a1-17a89abadaca",
   "metadata": {},
   "outputs": [],
   "source": []
  },
  {
   "cell_type": "markdown",
   "id": "4fc8add8-61e1-467b-bffb-33720de8bcbf",
   "metadata": {},
   "source": [
    "# 4) Calculate Correlation among metrics\n",
    "Using df_avg, calculate the correlation between the per-bee averages of ['Honey', 'Brood care', 'Frame 5', 'Median speed',\n",
    "       'Dispersion (avg)', 'Exit distance (median)'].  Among these metrics, what has the highest correlation?"
   ]
  },
  {
   "cell_type": "code",
   "execution_count": null,
   "id": "59f458bb-e248-4273-8dcf-c64b0630b11c",
   "metadata": {},
   "outputs": [],
   "source": []
  },
  {
   "cell_type": "markdown",
   "id": "f3d52980-cd7b-45ec-96f6-9cc47b1781ed",
   "metadata": {},
   "source": [
    "# 5) Calculate Average by hour\n",
    "Calculate average by 'Hour' instead of by Bee unique ID.  "
   ]
  },
  {
   "cell_type": "markdown",
   "id": "6ab0c6e6-3ffb-4fb2-a84d-9ab3bf9b224d",
   "metadata": {},
   "source": [
    "# 6) Plot metrics over the day\n",
    "Consider the following metrics: ['Num. observations','Honey', 'Brood care', 'Frame 5', 'Median speed','Dispersion (avg)', 'Exit distance (median)']\n",
    "\ta) \n",
    "\tb) \n",
    "\tc) "
   ]
  },
  {
   "cell_type": "markdown",
   "id": "ebca06dd-21d8-4d3d-b83b-4fdadd3d968b",
   "metadata": {},
   "source": [
    "## a) Average metrics\n",
    "Plot the average values over the day using a line plot"
   ]
  },
  {
   "cell_type": "markdown",
   "id": "ca441b83-4e02-405c-989a-1bd83c0ef13d",
   "metadata": {},
   "source": [
    "## b) Plot mean +/- standard deviation of metrics\n",
    "Plot these metrics as a lineplot with error bars (i.e. the filled area) corresponding to the standard deviation among bees (hint: see Seaborn lineplot options)."
   ]
  },
  {
   "cell_type": "markdown",
   "id": "a8dc7e69-e306-4fd4-bd6c-872415887a1e",
   "metadata": {},
   "source": [
    "## c) (bonus) Plot median and quantiles\n",
    "Instead of a line for the mean and using the standard deviation for a fill area,\tplot median and quantiles: a solid line for the median, and fill betwen the upper (75%) and lower (25%) quantiles."
   ]
  },
  {
   "cell_type": "markdown",
   "id": "6cacafc3-e538-49bf-af11-d4fccc25cfeb",
   "metadata": {},
   "source": [
    "# 7) Quantitative comparison\n",
    "What quantity changed the most when comparing values over the hour 9:00-10:00 versus the hour 12:00-13:00?  Note: to compare across different metrics, need to first standardize the data, because the units are different."
   ]
  }
 ],
 "metadata": {
  "kernelspec": {
   "display_name": "Python 3 (ipykernel)",
   "language": "python",
   "name": "python3"
  },
  "language_info": {
   "codemirror_mode": {
    "name": "ipython",
    "version": 3
   },
   "file_extension": ".py",
   "mimetype": "text/x-python",
   "name": "python",
   "nbconvert_exporter": "python",
   "pygments_lexer": "ipython3",
   "version": "3.9.18"
  }
 },
 "nbformat": 4,
 "nbformat_minor": 5
}
